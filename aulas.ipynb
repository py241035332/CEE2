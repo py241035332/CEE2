{
  "nbformat": 4,
  "nbformat_minor": 0,
  "metadata": {
    "colab": {
      "provenance": [],
      "include_colab_link": true
    },
    "kernelspec": {
      "name": "python3",
      "display_name": "Python 3"
    },
    "language_info": {
      "name": "python"
    }
  },
  "cells": [
    {
      "cell_type": "markdown",
      "metadata": {
        "id": "view-in-github",
        "colab_type": "text"
      },
      "source": [
        "<a href=\"https://colab.research.google.com/github/py241035332/CEE2/blob/Aula-18%2F11%2F24/aulas.ipynb\" target=\"_parent\"><img src=\"https://colab.research.google.com/assets/colab-badge.svg\" alt=\"Open In Colab\"/></a>"
      ]
    },
    {
      "cell_type": "markdown",
      "source": [
        "# Introdução ao Python 🐍"
      ],
      "metadata": {
        "id": "SqoOgoNMmA6p"
      }
    },
    {
      "cell_type": "markdown",
      "source": [
        "A linguagem **Python** é uma linguagem (de):\n",
        "\n",
        "\n",
        "*   **alto nível** - a linguagem é independente de plataforma (sistema operacional, processador, etc) e os comandos executam tarefas complexas;\n",
        "* **interpretada** - o código é executado linha a linha por um interpretador (partes do código são compiladas para *bytecode*).\n",
        "* **uso geral** - é uma linguagem útil para desenvolver qualquer tipo de código, não somente para realizar análises de dados.\n",
        "* **dinâmicamente tipada** - não é necessário declarar os tipos das variáveis; os tipos das variáveis podem mudar ao longo do código.\n",
        "* utiliza **coletores de lixo** (*garbage collector*) para gerenciar memória, retirando do programador esta preocupação.\n",
        "* Permite diversos paradigmas de programação, dentre os quais **programação estruturada** e a **programação orientada a objetos**.\n",
        "\n"
      ],
      "metadata": {
        "id": "mfw70Hykk-5l"
      }
    },
    {
      "cell_type": "markdown",
      "source": [
        "## Disponibilidade"
      ],
      "metadata": {
        "id": "yGnrHHjkl8kS"
      }
    },
    {
      "cell_type": "markdown",
      "source": [
        "A linguagem Python está disponível em https://www.python.org/downloads para as principais plataformas:\n",
        "\n",
        "* **Windows**: versões instalável e embarcável para as plataformas i32, i64 e ARM64;\n",
        "\n",
        "* **MacOS**: versão instalável para 64 bits universal.\n",
        "\n",
        "* **Linux**: já instalado nas principais distribuições."
      ],
      "metadata": {
        "id": "HYkI5dIpmt9H"
      }
    },
    {
      "cell_type": "markdown",
      "source": [
        "## Ambientes de desenvolvimento"
      ],
      "metadata": {
        "id": "3zNlrIpYm3_-"
      }
    },
    {
      "cell_type": "markdown",
      "source": [
        "Existe uma grande variedade de plataformas e IDE's (*Integrated Development Environment* - Ambiente Integrado de Desenvolvimento) para trabalhar com Python. Algumas das principais opções são:\n",
        "\n",
        "* **Anaconda**: Plataforma para Python que facilita o gerenciamento de pacotes e ambientes. Inclui ferramentas como Jupyter Notebook e Conda, um gerenciador de pacotes. Ideal para ciência de dados e computação científica. [Saiba mais](https://www.anaconda.com).\n",
        "\n",
        "* **PyCharm**: IDE com recursos avançados como autocompletar código, depuração e integração com controle de versão. É eficiente para desenvolvimento em Python e suporte a frameworks. [Saiba mais](https://www.jetbrains.com/pycharm).\n",
        "\n",
        "* **VSCode**: Editor de código-fonte leve e extensível, desenvolvido pela Microsoft. Suporta múltiplas linguagens e oferece autocompletar código, depuração e uma vasta gama de extensões. [Saiba mais](https://code.visualstudio.com).\n",
        "\n",
        "* **Jupyter Notebook**: Aplicação web para criar e compartilhar documentos com código executável, visualizações e texto. Popular em análise de dados e aprendizado de máquina, oferece uma interface interativa para experimentação e apresentação. [Saiba mais](https://jupyter.org).\n",
        "\n",
        "* **Google Colab**: Plataforma online para criar e executar notebooks Jupyter no navegador, com suporte a GPUs e TPUs. Facilita a colaboração e o compartilhamento em tempo real, sem necessidade de configuração local. [Saiba mais](https://colab.research.google.com).\n",
        "\n",
        "\n",
        "Escolha o que melhor se adapta ao seu estilo e gosto. No curso, vamos utilizar o **Google Colab**."
      ],
      "metadata": {
        "id": "rucVWse-m7dU"
      }
    },
    {
      "cell_type": "markdown",
      "source": [
        "## Para dar sorte"
      ],
      "metadata": {
        "id": "0Kk51CUIsjkZ"
      }
    },
    {
      "cell_type": "markdown",
      "source": [
        "É tradição quando se aprende uma nova linguagem de programação construir o programa que escreve [Hello World](https://en.wikipedia.org/wiki/%22Hello,_World!%22_program) no terminal. Esta tradição foi iniciada em 1974 de um resumo do livro *Programming in C: a tutorial* de [Brian Kernighan](https://en.wikipedia.org/wiki/Brian_Kernighan). Desde então sempre que se aprende uma nova linguagem de programação costuma-se fazer o famoso *Hello World!*. Em Python basta escrever:"
      ],
      "metadata": {
        "id": "r-fA5uCqsnHq"
      }
    },
    {
      "cell_type": "code",
      "source": [
        "print(\"Hello World!\")"
      ],
      "metadata": {
        "id": "DHqFvfldsuWX",
        "colab": {
          "base_uri": "https://localhost:8080/"
        },
        "outputId": "23d31080-d02e-4836-f9e4-0d5a649b1555"
      },
      "execution_count": null,
      "outputs": [
        {
          "output_type": "stream",
          "name": "stdout",
          "text": [
            "Hello World!\n"
          ]
        }
      ]
    },
    {
      "cell_type": "markdown",
      "source": [
        "## Sintaxe\n",
        "\n",
        "As estruturas de código são identificadas por identação (geralmente 4 espaços):\n"
      ],
      "metadata": {
        "id": "tL7HTZPRtFdf"
      }
    },
    {
      "cell_type": "markdown",
      "source": [
        "Ao contrário de linguagens como C e Java que utilizam delimitadores (`{}`) e linguagens como o Pascal que utilizam `begin` e `end`.\n",
        "\n",
        "Por um lado isto simplifica a programação (pois não precisa se preocupar com os delimitadores), por outro lado, em códigos muito grandes, pode dificultar a leitura.\n",
        "\n",
        "O código abaixo ilustra este conceito."
      ],
      "metadata": {
        "id": "sVUubVP7t4Al"
      }
    },
    {
      "cell_type": "markdown",
      "source": [],
      "metadata": {
        "id": "4nkt5ZVztJFj"
      }
    },
    {
      "cell_type": "code",
      "source": [
        "# Comentários são iniciados com '#'\n",
        "# Esta linha será ignorada.\n",
        "print(\"Olá, Mundo!\")\n",
        "\n",
        "# As estruturas de código são identificadas por identação:\n",
        "if 5 > 2:\n",
        "  print(\"5 é maior que 2.\")   # Este comando está dentro do IF.\n",
        "\n",
        "# As variáveis são criadas atribuindo-se valores à elas:\n",
        "x = 5\n",
        "nome = \"Python\"\n",
        "\n",
        "print(x)\n",
        "print(nome)"
      ],
      "metadata": {
        "id": "Lms7vTjUtgGv",
        "colab": {
          "base_uri": "https://localhost:8080/"
        },
        "outputId": "cdc31d19-6731-40ab-c5b9-60743765fcc5"
      },
      "execution_count": null,
      "outputs": [
        {
          "output_type": "stream",
          "name": "stdout",
          "text": [
            "Olá, Mundo!\n",
            "5 é maior que 2.\n",
            "5\n",
            "Python\n"
          ]
        }
      ]
    },
    {
      "cell_type": "markdown",
      "source": [
        "## Exercício 1:\n",
        "Crie um código que escreva \"Olá, seu primeiro nome\"."
      ],
      "metadata": {
        "id": "MejS9QFYlstA"
      }
    },
    {
      "cell_type": "markdown",
      "source": [
        "# Tipos de dados"
      ],
      "metadata": {
        "id": "C5PyQeL0uH6U"
      }
    },
    {
      "cell_type": "markdown",
      "source": [
        "## Variáveis numéricas"
      ],
      "metadata": {
        "id": "Cbw1kFoJuL-E"
      }
    },
    {
      "cell_type": "markdown",
      "source": [
        "\n",
        "A linguagem **Python** permite o uso de variáveis numéricas inteiras (*int*), de ponto flutuante (*float*) e complexas (*complex*):"
      ],
      "metadata": {
        "id": "2lYjldsAuSQW"
      }
    },
    {
      "cell_type": "code",
      "source": [
        "# Números inteiros\n",
        "x = 20             # Inteiro com valor 20\n",
        "y = int(1024)      # Inteiro com valor 1024\n",
        "z = int('1234')    # Inteiro com valor 1234\n",
        "\n",
        "print(x)    # Exibe 20\n",
        "print(y)    # Exibe 1024\n",
        "print(z)    # Exibe 1234\n",
        "\n",
        "print(type(x))    # Exibe \"<class 'int'> indicando que é inteiro.\n",
        "print(type(y))    # Exibe \"<class 'int'> indicando que é inteiro.\n",
        "print(type(z))    # Exibe \"<class 'int'> indicando que é inteiro."
      ],
      "metadata": {
        "id": "264OCt1wua_F",
        "colab": {
          "base_uri": "https://localhost:8080/"
        },
        "outputId": "652a2bd2-f186-4d90-9d79-1fdf87cd1aea"
      },
      "execution_count": null,
      "outputs": [
        {
          "output_type": "stream",
          "name": "stdout",
          "text": [
            "20\n",
            "1024\n",
            "1234\n",
            "<class 'int'>\n",
            "<class 'int'>\n",
            "<class 'int'>\n"
          ]
        }
      ]
    },
    {
      "cell_type": "code",
      "source": [
        "# Números de ponto flutuante\n",
        "x = 20.5               # Ponto flutuante com valor 20.5\n",
        "y = float(3.1415)      # Ponto flutuante com valor 3.1415\n",
        "z = float('1.2345')    # Ponto flutuante com valor 1.2345\n",
        "\n",
        "print(x)    # Exibe 20.5\n",
        "print(y)    # Exibe 3.1415\n",
        "print(z)    # Exibe 1.2345\n",
        "\n",
        "print(type(x))    # Exibe \"<class 'float'> indicando que é ponto flutuante.\n",
        "print(type(y))    # Exibe \"<class 'float'> indicando que é ponto flutuante.\n",
        "print(type(z))    # Exibe \"<class 'float'> indicando que é ponto flutuante."
      ],
      "metadata": {
        "id": "G2Hg7DaiufDK",
        "colab": {
          "base_uri": "https://localhost:8080/"
        },
        "outputId": "e181d061-0aab-4272-a79d-53184f4285d0"
      },
      "execution_count": null,
      "outputs": [
        {
          "output_type": "stream",
          "name": "stdout",
          "text": [
            "20.5\n",
            "3.1415\n",
            "1.2345\n",
            "<class 'float'>\n",
            "<class 'float'>\n",
            "<class 'float'>\n"
          ]
        }
      ]
    },
    {
      "cell_type": "code",
      "source": [
        "# Números complexos\n",
        "x = 1j                   # Número complexo 0.0 + 1.0i\n",
        "y = complex(2 + 3j)      # Número complexo 2.0 + 3.0i\n",
        "z = complex('1.2+3.4j')  # Número complexo 1.2 + 3.4i (sem espaços!)\n",
        "\n",
        "print(x)    # Exibe 1j\n",
        "print(y)    # Exibe (2+3j)\n",
        "print(z)    # Exibe (1.2+3.4j)\n",
        "\n",
        "print(type(x))    # Exibe \"<class 'complex'> indicando que é complexo.\n",
        "print(type(y))    # Exibe \"<class 'complex'> indicando que é complexo.\n",
        "print(type(z))    # Exibe \"<class 'complex'> indicando que é complexo."
      ],
      "metadata": {
        "id": "w1DCF9tjuiS4",
        "colab": {
          "base_uri": "https://localhost:8080/"
        },
        "outputId": "f38f2ef7-a20a-44ed-b365-7d10bbb80ce0"
      },
      "execution_count": null,
      "outputs": [
        {
          "output_type": "stream",
          "name": "stdout",
          "text": [
            "1j\n",
            "(2+3j)\n",
            "(1.2+3.4j)\n",
            "<class 'complex'>\n",
            "<class 'complex'>\n",
            "<class 'complex'>\n"
          ]
        }
      ]
    },
    {
      "cell_type": "markdown",
      "source": [
        "## Variáveis do tipo texto (string)"
      ],
      "metadata": {
        "id": "08fm0OpJu_b8"
      }
    },
    {
      "cell_type": "markdown",
      "source": [
        "A linguagem Python também permite o uso de variáveis do tipo texto (string):"
      ],
      "metadata": {
        "id": "L-AnjJWHvGQk"
      }
    },
    {
      "cell_type": "code",
      "source": [
        "x = \"Hello World!\"    # String \"Hello World!\"\n",
        "y = str(20)           # String \"20\"\n",
        "z = str(3.1415)       # String \"3.1415\"\n",
        "\n",
        "print(x)    # Exibe \"Hello World!\"\n",
        "print(y)    # Exibe \"20\"\n",
        "print(z)    # Exibe \"3.1415\"\n",
        "\n",
        "print(type(x))    # Exibe \"<class 'str'> indicando que é string.\n",
        "print(type(y))    # Exibe \"<class 'str'> indicando que é string.\n",
        "print(type(z))    # Exibe \"<class 'str'> indicando que é string."
      ],
      "metadata": {
        "id": "fOk2y7WgvKKp",
        "colab": {
          "base_uri": "https://localhost:8080/"
        },
        "outputId": "ff8b31fc-b258-4b0b-cec6-b57420110195"
      },
      "execution_count": null,
      "outputs": [
        {
          "output_type": "stream",
          "name": "stdout",
          "text": [
            "Hello World!\n",
            "20\n",
            "3.1415\n",
            "<class 'str'>\n",
            "<class 'str'>\n",
            "<class 'str'>\n"
          ]
        }
      ]
    },
    {
      "cell_type": "markdown",
      "source": [
        "## Variáveis do tipo lógico (booleano)"
      ],
      "metadata": {
        "id": "qEt4J_HtvN-6"
      }
    },
    {
      "cell_type": "markdown",
      "source": [
        "A linguagem Python também permite o uso de variáveis do tipo lógica (booleana):"
      ],
      "metadata": {
        "id": "KAVEABWuvTlv"
      }
    },
    {
      "cell_type": "code",
      "source": [
        "x = False      # Booleano com valor False\n",
        "y = bool(1)    # Booleano com valor True\n",
        "z = (3 > 5)    # Booleano com valor False\n",
        "\n",
        "print(x)    # Exibe False\n",
        "print(y)    # Exibe True\n",
        "print(z)    # Exibe False\n",
        "\n",
        "print(type(x))    # Exibe \"<class 'bool'> indicando que é booleano.\n",
        "print(type(y))    # Exibe \"<class 'bool'> indicando que é booleano.\n",
        "print(type(z))    # Exibe \"<class 'bool'> indicando que é booleano."
      ],
      "metadata": {
        "id": "CMLwvEqFvWRy",
        "colab": {
          "base_uri": "https://localhost:8080/"
        },
        "outputId": "4388643f-e301-4db8-8b6c-71fd6bf00764"
      },
      "execution_count": null,
      "outputs": [
        {
          "output_type": "stream",
          "name": "stdout",
          "text": [
            "False\n",
            "True\n",
            "False\n",
            "<class 'bool'>\n",
            "<class 'bool'>\n",
            "<class 'bool'>\n"
          ]
        }
      ]
    },
    {
      "cell_type": "markdown",
      "source": [
        "## Importante"
      ],
      "metadata": {
        "id": "-Il4DoUkvh1v"
      }
    },
    {
      "cell_type": "markdown",
      "source": [
        "* Textos (*strings*) que representam números não podem ser utilizados em cálculos, a menos que sejam convertidos com `int()` ou `float()`.\n",
        "\n",
        "* Na conversão de números para booleano, o valor númerico `0` é convertido para `False` e todos os demais valores para `True`."
      ],
      "metadata": {
        "id": "GQAm8hWKvkir"
      }
    },
    {
      "cell_type": "markdown",
      "source": [
        "## Exercício 1: Convertendo entre int e float\n",
        "\n",
        "Crie três variáveis: uma do tipo `int`, uma do tipo `float` e uma do tipo `bool`. Exiba os valores de cada uma dessas variáveis e o tipo delas. Em seguida, converta as variáveis de acordo com as instruções abaixo:\n",
        "\n",
        "* Converta o número inteiro para float e exiba o resultado.\n",
        "* Converta o número decimal (float) para int e exiba o resultado.\n",
        "* Tente converter o valor booleano para int e float, e observe os resultados.\n",
        "\n",
        "\n"
      ],
      "metadata": {
        "id": "3L4zf0sbsc5M"
      }
    },
    {
      "cell_type": "markdown",
      "source": [
        "## Exercício 2: Operações básicas com int e float\n",
        "\n",
        "Crie duas variáveis: uma contendo um número inteiro igual a 5 (`num1 = 5`) e outra contendo um número decimal float igual a 2.5 (`num2 = 2.5`). Em seguida, execute as seguintes operações e printe o resultado:\n",
        "\n",
        "* Adição  (`num1 + num2`)\n",
        "* Subtração (`num1 - num2`)\n",
        "* Multiplicação (`num1 * num2`)\n",
        "* Divisão (`num1 / num2`)\n",
        "\n",
        "\n"
      ],
      "metadata": {
        "id": "4-0M8jO3uCRQ"
      }
    },
    {
      "cell_type": "markdown",
      "source": [
        "## Exercício 3: Calculando a área de um círculo\n",
        "\n",
        "Crie um programa que calcule a área de um círculo, dada a fórmula: $A = \\pi * r^2$. Atribua um valor para o raio (como float) e mostre o resultado da área. Utilize π = 3.14159.\n",
        "\n",
        "* O resultado deve ser apresentado como \"A área do círculo é: {area}\"\n",
        "\n",
        "\n"
      ],
      "metadata": {
        "id": "oKJQjbesw9KO"
      }
    },
    {
      "cell_type": "markdown",
      "source": [
        "# Operações Matemáticas\n",
        "\n",
        "\n",
        "Python é uma linguagem muito utilizada para realizar operações matemáticas, seja para cálculos simples ou mais avançados. Neste tutorial, vamos aprender sobre as operações matemáticas básicas em Python, como soma, subtração, multiplicação, divisão, além de algumas funções matemáticas úteis.\n"
      ],
      "metadata": {
        "id": "L5Pt7A9hYqmV"
      }
    },
    {
      "cell_type": "markdown",
      "source": [
        "##  Operadores Matemáticos Básicos\n",
        "\n",
        "| Operador | Descrição                 | Exemplo           |\n",
        "|----------|---------------------------|-------------------|\n",
        "| `+`      | Adição                    | `2 + 3 = 5`       |\n",
        "| `-`      | Subtração                 | `5 - 2 = 3`       |\n",
        "| `*`      | Multiplicação             | `2 * 3 = 6`       |\n",
        "| `/`      | Divisão                   | `6 / 2 = 3.0`     |\n",
        "| `//`     | Divisão inteira           | `7 // 2 = 3`      |\n",
        "| `%`      | Módulo (resto da divisão) | `7 % 2 = 1`       |\n",
        "| `**`     | Exponenciação             | `2 ** 3 = 8`      |\n",
        "\n",
        "\\\\\n",
        "**Exemplo:**"
      ],
      "metadata": {
        "id": "123J8JWwahiN"
      }
    },
    {
      "cell_type": "code",
      "source": [
        "x = 10\n",
        "\n",
        "# Atualizando o valor de x\n",
        "x += 5  # Agora x é 15\n",
        "print(x)\n",
        "\n",
        "x *= 2  # Agora x é 30\n",
        "print(x)\n",
        "\n",
        "x -= 7  # Agora x é 23\n",
        "print(x)\n"
      ],
      "metadata": {
        "id": "YVNNdubYZxN4",
        "colab": {
          "base_uri": "https://localhost:8080/"
        },
        "outputId": "f261566e-78e2-42a5-d3a2-6e1f289f582c"
      },
      "execution_count": null,
      "outputs": [
        {
          "output_type": "stream",
          "name": "stdout",
          "text": [
            "15\n",
            "30\n",
            "23\n"
          ]
        }
      ]
    },
    {
      "cell_type": "markdown",
      "source": [
        "## Funções Matemáticas com math\n",
        "\n",
        "O Python possui um módulo chamado `math` que contém várias funções matemáticas úteis, veja mais detalhes em [doc.math](https://docs.python.org/pt-br/3/library/math.html). Para utilizá-las, é necessário importar o módulo.\n",
        "\n",
        "**Exemplo:**"
      ],
      "metadata": {
        "id": "ZFL0HGGTakD2"
      }
    },
    {
      "cell_type": "code",
      "source": [
        "import math\n",
        "\n",
        "# Raiz quadrada\n",
        "print(math.sqrt(16))  # 4.0\n",
        "\n",
        "# Potência (equivalente a **)\n",
        "print(math.pow(2, 3))  # 8.0\n",
        "\n",
        "# Exponencial (equivalente e^x)\n",
        "print(math.exp(1))\n",
        "\n",
        "# Logaritmo\n",
        "## math.log(x) = logaritmo natural de x\n",
        "print(math.log(10))\n",
        "\n",
        "## ## math.log(x, b) = logaritmo x na base b\n",
        "print(math.log(10, 10))\n",
        "\n",
        "# Fatorial\n",
        "print(math.factorial(5))  # 120\n",
        "\n",
        "# Valor absoluto\n",
        "print(abs(-10))  # 10\n",
        "\n",
        "# Arredondamento para baixo (floor)\n",
        "print(math.floor(2.9))  # 2\n",
        "\n",
        "# Arredondamento para cima (ceil)\n",
        "print(math.ceil(2.1))  # 3"
      ],
      "metadata": {
        "id": "NwzJ-jTNauuw",
        "colab": {
          "base_uri": "https://localhost:8080/"
        },
        "outputId": "3ad510b0-f0d6-4d96-b81c-7be072054fb4"
      },
      "execution_count": null,
      "outputs": [
        {
          "output_type": "stream",
          "name": "stdout",
          "text": [
            "4.0\n",
            "8.0\n",
            "2.718281828459045\n",
            "2.302585092994046\n",
            "1.0\n",
            "120\n",
            "10\n",
            "2\n",
            "3\n"
          ]
        }
      ]
    },
    {
      "cell_type": "markdown",
      "source": [
        "## Atualizando Variáveis com Operadores Atribuição\n",
        "\n",
        "Além de usar operadores matemáticos básicos, você pode usar operadores de atribuição para atualizar o valor de uma variável diretamente.\n",
        "\n",
        "| Operador | Exemplo  | Equivalente      |\n",
        "|----------|----------|------------------|\n",
        "| `+=`     | `x += 3` | `x = x + 3`      |\n",
        "| `-=`     | `x -= 3` | `x = x - 3`      |\n",
        "| `*=`     | `x *= 3` | `x = x * 3`      |\n",
        "| `/=`     | `x /= 3` | `x = x / 3`      |\n",
        "| `//=`    | `x //= 3`| `x = x // 3`     |\n",
        "| `%=`     | `x %= 3` | `x = x % 3`      |\n",
        "| `**=`    | `x **= 3`| `x = x ** 3`     |\n",
        "\n",
        "\\\\\n",
        "**Exemplo:**"
      ],
      "metadata": {
        "id": "w1QFB_2qbFZd"
      }
    },
    {
      "cell_type": "code",
      "source": [
        "x = 10\n",
        "\n",
        "# Atualizando o valor de x\n",
        "x += 5  # Agora x é 15\n",
        "print(x)\n",
        "\n",
        "x *= 2  # Agora x é 30\n",
        "print(x)\n",
        "\n",
        "x -= 7  # Agora x é 23\n",
        "print(x)\n"
      ],
      "metadata": {
        "id": "W3iYzxz2bT5z",
        "colab": {
          "base_uri": "https://localhost:8080/"
        },
        "outputId": "81827fd9-36f8-4810-f5b8-200c471f0d3f"
      },
      "execution_count": null,
      "outputs": [
        {
          "output_type": "stream",
          "name": "stdout",
          "text": [
            "15\n",
            "30\n",
            "23\n"
          ]
        }
      ]
    },
    {
      "cell_type": "markdown",
      "source": [
        "## Resumo das funções básicas do Python\n",
        "\n",
        "### 1. **`int()`**\n",
        "   - **Descrição**: Converte um valor para inteiro (removendo a parte decimal se for um número de ponto flutuante).\n",
        "   - **Exemplo**:\n",
        "     ```python\n",
        "     int(5.8)  # Retorna 5\n",
        "     int('123')  # Retorna 123\n",
        "     ```\n",
        "\n",
        "### 2. **`float()`**\n",
        "   - **Descrição**: Converte um valor para um número de ponto flutuante (decimal).\n",
        "   - **Exemplo**:\n",
        "     ```python\n",
        "     float(10)  # Retorna 10.0\n",
        "     float('3.14')  # Retorna 3.14\n",
        "     ```\n",
        "\n",
        "### 3. **`round()`**\n",
        "   - **Descrição**: Arredonda um número de ponto flutuante para o inteiro mais próximo ou para um número de casas decimais especificado.\n",
        "   - **Exemplo**:\n",
        "     ```python\n",
        "     round(3.14159, 2)  # Retorna 3.14\n",
        "     round(5.7)  # Retorna 6\n",
        "     ```\n",
        "\n",
        "### 4. **`abs()`**\n",
        "   - **Descrição**: Retorna o valor absoluto de um número (sem sinal).\n",
        "   - **Exemplo**:\n",
        "     ```python\n",
        "     abs(-10)  # Retorna 10\n",
        "     abs(3.5)  # Retorna 3.5\n",
        "     ```\n",
        "\n",
        "### 5. **`pow()`**\n",
        "   - **Descrição**: Calcula a exponenciação de um número, equivalente a `x ** y`.\n",
        "   - **Exemplo**:\n",
        "     ```python\n",
        "     pow(2, 3)  # Retorna 8 (2^3)\n",
        "     pow(9, 0.5)  # Retorna 3.0 (raiz quadrada de 9)\n",
        "     ```\n",
        "\n",
        "### 6. **`min()`**\n",
        "   - **Descrição**: Retorna o menor valor de uma sequência ou entre os argumentos fornecidos.\n",
        "   - **Exemplo**:\n",
        "     ```python\n",
        "     min(3, 1, 5)  # Retorna 1\n",
        "     min([10, 20, -5, 4])  # Retorna -5\n",
        "     ```\n",
        "\n",
        "### 7. **`max()`**\n",
        "   - **Descrição**: Retorna o maior valor de uma sequência ou entre os argumentos fornecidos.\n",
        "   - **Exemplo**:\n",
        "     ```python\n",
        "     max(3, 1, 5)  # Retorna 5\n",
        "     max([10, 20, -5, 4])  # Retorna 20\n",
        "     ```\n",
        "\n",
        "### 8. **`sum()`**\n",
        "   - **Descrição**: Soma todos os elementos de uma sequência (como uma lista ou tupla).\n",
        "   - **Exemplo**:\n",
        "     ```python\n",
        "     sum([1, 2, 3, 4])  # Retorna 10\n",
        "     sum((5, 10, 15))  # Retorna 30\n",
        "     ```\n",
        "\n",
        "### 9. **`divmod()`**\n",
        "   - **Descrição**: Retorna o quociente e o resto da divisão como uma tupla `(q, r)`.\n",
        "   - **Exemplo**:\n",
        "     ```python\n",
        "     divmod(10, 3)  # Retorna (3, 1)\n",
        "     ```\n",
        "\n",
        "### 10. **`complex()`**\n",
        "   - **Descrição**: Cria um número complexo com a parte real e imaginária.\n",
        "   - **Exemplo**:\n",
        "     ```python\n",
        "     complex(2, 3)  # Retorna (2+3j)\n",
        "     ```\n",
        "\n",
        "### 11. **`bin()`**\n",
        "   - **Descrição**: Converte um número inteiro para sua representação binária.\n",
        "   - **Exemplo**:\n",
        "     ```python\n",
        "     bin(10)  # Retorna '0b1010'\n",
        "     ```\n",
        "\n",
        "### 12. **`bool()`**\n",
        "   - **Descrição**: Converte um valor para `True` ou `False`, baseado na sua \"verdade\". Números zero e valores vazios são `False`, enquanto os demais são `True`.\n",
        "   - **Exemplo**:\n",
        "     ```python\n",
        "     bool(0)  # Retorna False\n",
        "     bool(5)  # Retorna True\n",
        "     bool('')  # Retorna False\n",
        "     ```\n"
      ],
      "metadata": {
        "id": "SmFjxODJc_nZ"
      }
    },
    {
      "cell_type": "markdown",
      "source": [
        "## Exemplo: Cálculo de Área e Perímetro\n",
        "\n",
        "Escreva um programa que receba o raio de um círculo e calcule a área e o perímetro. Lembrando as equações são\n",
        "$$\n",
        "Area = \\pi \\, r^2\n",
        "\\\\\n",
        "Perimetro = 2 \\pi \\, r\n",
        "$$\n",
        "\n",
        "Utilize a constante `math.pi` para o valor de $\\pi$."
      ],
      "metadata": {
        "id": "R4rGVR_7g9er"
      }
    },
    {
      "cell_type": "code",
      "source": [
        "# Solução\n",
        "import math\n",
        "\n",
        "raio = float(input(\"Digite o raio do círculo: \"))\n",
        "\n",
        "area = math.pi * (raio ** 2)\n",
        "perimetro = 2 * math.pi * raio\n",
        "\n",
        "print(f\"Área: {area:.2f}\")\n",
        "print(f\"Perímetro: {perimetro:.2f}\")\n"
      ],
      "metadata": {
        "id": "wapagYs9hHsk",
        "colab": {
          "base_uri": "https://localhost:8080/"
        },
        "outputId": "762aa808-dff2-4e05-cf1d-f5efa47617aa"
      },
      "execution_count": null,
      "outputs": [
        {
          "output_type": "stream",
          "name": "stdout",
          "text": [
            "Digite o raio do círculo: 3\n",
            "Área: 28.27\n",
            "Perímetro: 18.85\n"
          ]
        }
      ]
    },
    {
      "cell_type": "markdown",
      "source": [
        "## Exercício 1: Conversor de Temperatura\n",
        "\n",
        "Crie um programa que converta uma temperatura de graus Celsius para Fahrenheit.\n",
        "\n",
        "A fórmula de conversão é:\n",
        "$$\n",
        "Fahrenheit = Celsius \\times \\frac{9}{5} + 32\n",
        "$$\n",
        "\n",
        "Obs: para receber a temperatura em Celsius do usuário, utilize o comando:\n",
        "\n",
        " * `celsius = float(input(\"Digite a temperatura em Celsius: \"))`"
      ],
      "metadata": {
        "id": "IropyA5xbHDw"
      }
    },
    {
      "cell_type": "markdown",
      "source": [
        "## Exercício 2: Calculadora de IMC\n",
        "\n",
        "Crie um programa que recebe calcula o Índice de Massa Corporal (IMC). Para isto você deve receber do usuário o peso e a altura.\n",
        "\n",
        "A fórmula do IMC é dada por:\n",
        "$$\n",
        "IMC = peso / altura^2,\n",
        "$$\n",
        "em que peso é dado em kg e a altura em metros.\n",
        "\n",
        "Obs: utilize os seguintes comandos para ser o peso e a altura:\n",
        "* `peso = float(input(\"Digite o peso em quilogramas: \"))`\n",
        "* `altura = float(input(\"Digite a altura em metros: \"))`"
      ],
      "metadata": {
        "id": "HiM204Q0dhlQ"
      }
    },
    {
      "cell_type": "markdown",
      "source": [
        "# Coleções"
      ],
      "metadata": {
        "id": "ggyndaXSYDt0"
      }
    },
    {
      "cell_type": "markdown",
      "source": [
        "## Listas"
      ],
      "metadata": {
        "id": "b1gBeTabvwKd"
      }
    },
    {
      "cell_type": "markdown",
      "source": [
        "As listas são usadas quando você precisa de uma estrutura de dados ordenada e mutável. Elas são a estrutura mais flexível, permitindo alterações em seus elementos, como adicionar, remover ou modificar valores.\n",
        "\n",
        "As **listas** (`list`) são coleções:\n",
        "\n",
        "* **ordenadas** -- os elementos mantém a ordem de inclusão.\n",
        "\n",
        "* **elementos podem ser alterados** -- o valor dos elementos podem ter seus valores alterados.\n",
        "\n",
        "* **permite duplicação dos elementos** -- os elementos podem ter valores repetidos."
      ],
      "metadata": {
        "id": "-PYNGIrlvy25"
      }
    },
    {
      "cell_type": "markdown",
      "source": [
        "Os métodos definidos na classe `list` são:\n",
        "\n",
        "* `append()`: Adiciona um elemento no final da lista.\n",
        "* `clear()`: Remove todos os elementos da lista.\n",
        "* `copy()`: Retorna uma cópia da lista.\n",
        "* `count()`: Retorna o número de elementos com o valor especificado.\n",
        "* `extend()`: Adiciona os elementos de um conjunto de dados ao final da lista.\n",
        "* `index()`: Retorna o índice do primeiro elemento com o valor especificado.\n",
        "* `insert()`: Adiciona um elemento na posição especificada.\n",
        "* `pop()`: Remove e retorna o elemento na posição especificada.\n",
        "* `remove():` Remove o primeiro elemento com o valor especificado.\n",
        "* `reverse()`: Inverte a ordem da lista.\n",
        "* `sort()`: Ordena a lista."
      ],
      "metadata": {
        "id": "dkTRT0XF12XC"
      }
    },
    {
      "cell_type": "markdown",
      "source": [
        "As listas são criadas usando `[]` ou `list()`. Veja os exemplos abaixo."
      ],
      "metadata": {
        "id": "nP3l5XZR7aoh"
      }
    },
    {
      "cell_type": "code",
      "source": [
        "v1 = [\"Fortran\", \"Python\", \"R\", \"Python\"]\n",
        "v2 = list((\"Fortran\", \"Python\", \"R\", \"Python\"))\n",
        "\n",
        "print(v1)    # Exibe a lista v1.\n",
        "print(v2)    # Exibe a lista v2.\n",
        "\n",
        "print(type(v1))    # Exibe \"<class 'list'> indicando que é lista.\n",
        "print(type(v2))    # Exibe \"<class 'list'> indicando que é lista."
      ],
      "metadata": {
        "id": "ObjKZskBv2rb"
      },
      "execution_count": null,
      "outputs": []
    },
    {
      "cell_type": "code",
      "source": [
        "v = [\"Fortran\", \"Python\", \"R\", \"Python\"]\n",
        "\n",
        "## acessando posições de um lista\n",
        "print(v[0])    # Exibe 'Fortran'\n",
        "print(v[1])    # Exibe 'Python'\n",
        "print(v[2])    # Exibe 'R'\n",
        "print(v[3])    # Exibe 'Python'\n",
        "\n",
        "## print(v[4])) # gera um erro pois essa posição não existe na lista v"
      ],
      "metadata": {
        "id": "kwbNzr1Xyvq9"
      },
      "execution_count": null,
      "outputs": []
    },
    {
      "cell_type": "code",
      "source": [
        "v = [\"Fortran\", \"Python\", \"R\", \"Python\"]\n",
        "\n",
        "## acessando posições de um lista\n",
        "print(v[-1])    # Exibe 'Python'\n",
        "print(v[-2])    # Exibe 'R'\n",
        "print(v[-3])    # Exibe 'Python'\n",
        "print(v[-4])    # Exibe 'Fortran'\n",
        "\n",
        "## print(v[-5])) # gera um erro pois essa posição não existe na lista"
      ],
      "metadata": {
        "id": "7EavSk1TzCiz"
      },
      "execution_count": null,
      "outputs": []
    },
    {
      "cell_type": "code",
      "source": [
        "v = [\"Fortran\", \"Python\", \"R\", \"Python\"]\n",
        "\n",
        "print(v)     # exibe a lista original\n",
        "\n",
        "v[1] = \"C++\" # altera o segundo elemento da lista\n",
        "\n",
        "print(v)     # exibe a lista alterada"
      ],
      "metadata": {
        "id": "dGWIpR8W0aoK"
      },
      "execution_count": null,
      "outputs": []
    },
    {
      "cell_type": "code",
      "source": [
        "v1 = [\"Cobol\", \"Fortran\", \"Python\"]\n",
        "v2 = [\"A\", \"B\", \"C\", \"D\"]\n",
        "\n",
        "print(v1[0]) # Exibe 'Cobol'\n",
        "print(v2[1]) # Exibe 'B'\n",
        "\n",
        "print(\"------\")\n",
        "\n",
        "v1.append(\"R\")               # v1 = ['Cobol', 'Fortran', 'Python', 'R']\n",
        "v2.clear()                   # v2 = []\n",
        "v3 = v1.copy()               # v3 = ['Cobol', 'Fortran', 'Python', 'R']\n",
        "print( v1.count(\"R\") )       # => 1  ('R' aparece 1 vez)\n",
        "print(\"------\")\n",
        "v1.extend([\"Java\", \"C\"])     # v1 = ['Cobol', 'Fortran', 'Python', 'R', 'Java', 'C']\n",
        "print(v1.index(\"Python\"))    # => 2 ('Python' está na posição 2)\n",
        "print(\"------\")\n",
        "v1.insert(1, \"C#\")           # v1 = ['Cobol', 'C#', 'Fortran', 'Python', 'R', 'Java', 'C']\n",
        "print(v1.pop(1))             # v1 = ['Cobol', 'Fortran', 'Python', 'R', 'Java', 'C'] => 'C#'\n",
        "print(\"------\")\n",
        "v1.remove(\"Fortran\")         # v1 = ['Cobol', 'Python', 'R', 'Java', 'C']\n",
        "v1.reverse()                 # v1 = ['C', 'Java', 'R', 'Python', 'Cobol']\n",
        "v1.sort()                    # v1 = ['C', 'Cobol', 'Java', 'Python', 'R']\n",
        "\n",
        "print(\"v1 = \", v1)           # Exibe v1 = ['C', 'Cobol', 'Java', 'Python', 'R']\n",
        "print(\"v2 = \", v2)           # Exibe v2 = []\n",
        "print(\"v3 = \", v3)           # Exibe v3 = ['Cobol', 'Fortran', 'Python', 'R']"
      ],
      "metadata": {
        "id": "Ldw9kp5312XC"
      },
      "execution_count": null,
      "outputs": []
    },
    {
      "cell_type": "markdown",
      "source": [
        "**Pilhas utilizando `list`**\n",
        "\n",
        "Os métodos de lista tornam muito fácil usar uma lista como uma **pilha**, onde o último elemento adicionado é o primeiro elemento recuperado (“último a entrar, primeiro a sair”). Para adicionar um item ao topo da pilha, use `append()`. Para recuperar um item do topo da pilha, use `pop()` sem um índice explícito. Por exemplo:"
      ],
      "metadata": {
        "id": "R8GIWJI193Ig"
      }
    },
    {
      "cell_type": "code",
      "source": [
        "pilha = []            ## inicializa uma lista vazia\n",
        "pilha.append(3)       ## atualiza para [3]\n",
        "pilha.append(4)       ## atualiza para [3, 4]\n",
        "pilha.append(5)       ## atualiza para [3, 4, 5]\n",
        "pilha.append(6)       ## atualiza para [3, 4, 5, 6]\n",
        "pilha.append(7)       ## atualiza para [3, 4, 5, 6, 7]\n",
        "print( pilha )        ## printa [3, 4, 5, 6, 7]\n",
        "\n",
        "pilha.pop()           ## remove o 7\n",
        "pilha.pop()           ## remove o 6\n",
        "print( pilha )        ## printa [3, 4, 5]\n",
        "\n",
        "pilha.pop()           ## remove o 5\n",
        "pilha.pop()           ## remove o 4\n",
        "pilha.pop()           ## remove o 3\n",
        "print( pilha )        ## printa []\n"
      ],
      "metadata": {
        "id": "0zK0ddpz-W1N"
      },
      "execution_count": null,
      "outputs": []
    },
    {
      "cell_type": "markdown",
      "source": [
        "### Exercício 1: Modificando uma lista\n",
        "\n",
        "Dada a lista `frutas = [\"maçã\", \"banana\", \"laranja\", \"uva\"]`, faça o seguinte:\n",
        "\n",
        "* Substitua a fruta \"banana\" por \"abacaxi\".\n",
        "* Adicione a fruta \"morango\" ao final da lista.\n",
        "* Exiba a lista resultante.\n",
        "* Coloque a lista em ordem alfabética.\n",
        "* Substitua a fruta \"maçã\" por \"pera\".\n",
        "* Exiba a lista e verifique se ainda esta ordenada. Caso não esteja, então ordene e exiba novamente.\n",
        "\n",
        "\n"
      ],
      "metadata": {
        "id": "u1BW2jla3Wuh"
      }
    },
    {
      "cell_type": "markdown",
      "source": [
        "## Tuplas"
      ],
      "metadata": {
        "id": "HWqa_8owwjba"
      }
    },
    {
      "cell_type": "markdown",
      "source": [
        "**Tuplas** (`tuple`) são similares às listas, mas com a diferença de serem imutáveis, ou seja, seus valores não podem ser alterados após a criação. Temos então as seguintes propriedades para a classe `tuble`:\n",
        "\n",
        "* **ordenadas** -- os elementos mantém a ordem de inclusão.\n",
        "\n",
        "* **elementos não podem ser alterados** -- o valor dos elementos não podem ter seus valores alterados.\n",
        "\n",
        "* **permite duplicação dos elementos** -- os elementos podem ter valores repetidos.\n",
        "\n"
      ],
      "metadata": {
        "id": "aFaI2sXAw4Fu"
      }
    },
    {
      "cell_type": "markdown",
      "source": [
        "Os métodos definidos na classe **tupla** são:\n",
        "\n",
        "* `count()`: Retorna o número de elementos com o valor especificado.\n",
        "* `index()`: Retorna o índice do primeiro elemento com o valor especificado.\n"
      ],
      "metadata": {
        "id": "qtwICsiCrgUe"
      }
    },
    {
      "cell_type": "markdown",
      "source": [
        "As **tuplas** são criadas usando apenas virgulas ou `()` ou `tuple()`:"
      ],
      "metadata": {
        "id": "CRxr89p5r1AY"
      }
    },
    {
      "cell_type": "code",
      "source": [
        "v0 = \"Fortran\", \"Python\", \"R\", \"Python\"\n",
        "v1 = (\"Fortran\", \"Python\", \"R\", \"Python\")\n",
        "v2 = tuple((\"Fortran\", \"Python\", \"R\", \"Python\"))\n",
        "\n",
        "print(v0)    # Exibe a tupla v0.\n",
        "print(v1)    # Exibe a tupla v1.\n",
        "print(v2)    # Exibe a tupla v2.\n",
        "\n",
        "print(type(v0))    # Exibe \"<class 'tuple'> indicando que é tupla.\n",
        "print(type(v1))    # Exibe \"<class 'tuple'> indicando que é tupla.\n",
        "print(type(v2))    # Exibe \"<class 'tuple'> indicando que é tupla."
      ],
      "metadata": {
        "id": "xNUzGHMuwwGG"
      },
      "execution_count": null,
      "outputs": []
    },
    {
      "cell_type": "markdown",
      "source": [
        "Os elementos de uma **tupla** podem ser *desempacotados* em um conjunto de variáveis:"
      ],
      "metadata": {
        "id": "e4rKizuhr1AZ"
      }
    },
    {
      "cell_type": "code",
      "source": [
        "frutas = (\"maçã\", \"banana\", \"cereja\")\n",
        "(verde, amarelo, vermelho) = frutas\n",
        "\n",
        "print(verde)       # Exibe 'maçã'\n",
        "print(amarelo)     # Exibe 'banana'\n",
        "print(vermelho)    # Exibe 'cereja'"
      ],
      "metadata": {
        "id": "WnGN4BWpr1AZ"
      },
      "execution_count": null,
      "outputs": []
    },
    {
      "cell_type": "markdown",
      "source": [
        "Se existem múltiplos elementos, os elementos finais da **tupla** podem ser atribuídos à uma lista:"
      ],
      "metadata": {
        "id": "OInib-XEr1AZ"
      }
    },
    {
      "cell_type": "code",
      "source": [
        "frutas = (\"maçã\", \"banana\", \"cereja\", \"morango\", \"framboesa\")\n",
        "(verde, amarelo, *vermelho) = frutas\n",
        "\n",
        "print(verde)\n",
        "print(amarelo)\n",
        "print(vermelho)"
      ],
      "metadata": {
        "id": "arqd7rfvr1AZ"
      },
      "execution_count": null,
      "outputs": []
    },
    {
      "cell_type": "code",
      "source": [
        "v = (\"Cobol\", \"Fortran\", \"Python\", \"Python\", \"Python\")\n",
        "\n",
        "print(v[0])    # Exibe 'Cobol'\n",
        "print(v[1])    # Exibe 'Fortran\n",
        "print(v[-1])   # Exibe 'Python'\n",
        "print(v[1:4])  # Exibe ('Fortran', 'Python', 'Python')\n",
        "\n",
        "print(v.count(\"Python\"))    # Exibe 3 ('Python' ocorre 3 vezes)\n",
        "print(v.index(\"Python\"))    # Exibe 2 (a primeira ocorrência de 'Python' está na posição 2)"
      ],
      "metadata": {
        "id": "iAtfmMhFr1AZ"
      },
      "execution_count": null,
      "outputs": []
    },
    {
      "cell_type": "markdown",
      "source": [
        "### Exercício 2: Buscando um elemento em uma tupla\n",
        "\n",
        "Dada a tupla `frutas = (\"maçã\", \"banana\", \"laranja\", \"uva\")`, encontre e exiba o índice da fruta \"laranja\".\n",
        "\n"
      ],
      "metadata": {
        "id": "--N32RVhwQZ5"
      }
    },
    {
      "cell_type": "markdown",
      "source": [
        "## Conjuntos"
      ],
      "metadata": {
        "id": "3Cc1ByHexKaG"
      }
    },
    {
      "cell_type": "markdown",
      "source": [
        "Os **conjuntos** (`set`) são coleções desordenadas de itens únicos, o que significa que eles não mantêm uma ordem específica e não permitem elementos duplicados. Temos então as seguintes propriedades para a classe `set`:\n",
        "\n",
        "* **não ordenadas** -- os elementos mantém uma ordem aleatória.\n",
        "\n",
        "* **elementos não podem ser alterados** -- o valor dos elementos não podem ter seus valores alterados, embora possam ser incluídos ou excluídos do conjunto.\n",
        "\n",
        "* **não permite duplicação dos elementos** -- os elementos não podem ter valores repetidos; são incluídos uma única vez."
      ],
      "metadata": {
        "id": "Zec9oUtaxRNt"
      }
    },
    {
      "cell_type": "markdown",
      "source": [
        "Os principais métodos definidos na classe `set` são:\n",
        "\n",
        "* `add()`: adiciona um elemento ao conjunto.\n",
        "* `clear()`: remove todos os elementos do conjunto.\n",
        "* `copy()`: retorna uma cópia do conjunto.\n",
        "* `difference()`: retorna um conjunto contendo a diferença entre dois ou mais conjuntos.\n",
        "* `discard()`: Remove um item especificado.\n",
        "* `intersection()`: retorna um conjunto com aintersecção entre dois conjuntos.\n",
        "* `isdisjoint()`: verifica se os conjuntos são disjuntos.\n",
        "* `issubset()`: verifica se o conjunto está contido em outro conjunto.\n",
        "* `issuperset()`: verifica se o conjunto contém outro conjunto.\n",
        "* `remove()`: remove o elemento especificado.\n",
        "* `union()`: Retorna um conjunto com a união entre conjuntos.\n",
        "* `update()`: Atualiza o conjunto acrescentando outros conjuntos."
      ],
      "metadata": {
        "id": "VN_-Ld7zxBAC"
      }
    },
    {
      "cell_type": "markdown",
      "source": [
        "Os **conjuntos** são criados usando `{}` ou `set()`:"
      ],
      "metadata": {
        "id": "0qSLcJ8bwaks"
      }
    },
    {
      "cell_type": "code",
      "source": [
        "v1 = {\"Fortran\", \"Python\", \"R\", \"Python\"}\n",
        "v2 = set((\"Fortran\", \"Python\", \"R\", \"Python\"))\n",
        "\n",
        "print(v1)    # Exibe o conjunto v1.\n",
        "print(v2)    # Exibe o conjunto v2.\n",
        "\n",
        "print(type(v1))    # Exibe \"<class 'set'> indicando que é conjunto.\n",
        "print(type(v2))    # Exibe \"<class 'set'> indicando que é conjunto."
      ],
      "metadata": {
        "id": "HBWinuxuxIqP",
        "colab": {
          "base_uri": "https://localhost:8080/"
        },
        "outputId": "fc57bb7f-6941-4125-cbcc-45dc54d8979c"
      },
      "execution_count": null,
      "outputs": [
        {
          "output_type": "stream",
          "name": "stdout",
          "text": [
            "{'Fortran', 'Python', 'R'}\n",
            "{'Fortran', 'Python', 'R'}\n",
            "<class 'set'>\n",
            "<class 'set'>\n"
          ]
        }
      ]
    },
    {
      "cell_type": "markdown",
      "source": [
        "Elementos repetidos em um conjunto são ignorados:"
      ],
      "metadata": {
        "id": "Hrqa9hJZw0Xk"
      }
    },
    {
      "cell_type": "code",
      "source": [
        "v = {1, 2, 3, 3, 4, 5}\n",
        "print(v)"
      ],
      "metadata": {
        "id": "ECymgIMRw35q",
        "colab": {
          "base_uri": "https://localhost:8080/"
        },
        "outputId": "c95b4d46-c5ac-466f-d38e-be935c0e5388"
      },
      "execution_count": null,
      "outputs": [
        {
          "output_type": "stream",
          "name": "stdout",
          "text": [
            "{1, 2, 3, 4, 5}\n"
          ]
        }
      ]
    },
    {
      "cell_type": "code",
      "source": [
        "s1 = {\"A\", \"B\", \"C\", \"D\", \"E\"}\n",
        "s2 = {\"A\", \"B\", \"C\"}\n",
        "s3 = {\"X\", \"Y\", \"Z\"}\n",
        "\n",
        "s3.add(\"W\")                           # s3 = {'X', 'W', 'Y', 'Z'}\n",
        "print(\"s3: \", s3)                     # exibe: s3:  {'W', 'X', 'Y', 'Z'}\n",
        "s3.clear()                            # s3 = {}\n",
        "print(\"s3: \", s3)                     # exibe: s3:  set()\n",
        "\n",
        "s3 = s2.copy()                        # s3 = {'A', 'B', 'C'}\n",
        "print(\"s3: \", s3)                     # exibe: s3:  {'A', 'B', 'C'}\n",
        "\n",
        "s3 = s1.difference(s2)                # s3 = {'D', 'E'}\n",
        "print(\"s3: \", s3)                     # exibe: s3:  {'D', 'E'}\n",
        "\n",
        "s3.discard(\"D\")                       # s3 = {'E'}\n",
        "print(\"s3: \", s3)                     # exibe: s3:  {'E'}\n",
        "\n",
        "print(\"s2 inter s1 :\", s2.intersection(s1))  # exibe:  {\"A\", \"B\", \"C\"}\n",
        "\n",
        "print(s1.isdisjoint(s2))              # s1 disjunto s2? => False\n",
        "\n",
        "print(s1.issubset(s2))                # s1 contido s2? => False\n",
        "\n",
        "print(s2.issubset(s1))                # s2 contido s1? => True\n",
        "\n",
        "print(s1.issuperset(s2))              # s2 contido s1? => True\n",
        "\n",
        "s1.remove(\"C\")                        # s1 = {\"A\", \"B\", \"D\", \"E\"}\n",
        "print(\"s1: \", s1)                     # exibe: s1:  {'A', 'B', 'D', 'E'}\n",
        "\n",
        "s1.update(s2)                         # s1 = {'A', 'B', 'C', 'D', 'E'}\n",
        "print(\"s1 uniao s2:\", s1.union(s2))   # exibe: s1 uniao s2: {'A', 'B', 'C', 'D', 'E'}\n",
        "\n",
        "s1.update(s2)                         # s1 = {'A', 'B', 'C', 'D', 'E'}\n",
        "\n",
        "print(\"s1 = \", s1)    # Exibe o conjunto s1.\n",
        "print(\"s2 = \", s2)    # Exibe o conjunto s2.\n",
        "print(\"s3 = \", s3)    # Exibe o conjunto s3."
      ],
      "metadata": {
        "id": "5ViHQpgcydy2",
        "colab": {
          "base_uri": "https://localhost:8080/"
        },
        "outputId": "0ca3605f-943f-4078-f72b-44c758c91d52"
      },
      "execution_count": null,
      "outputs": [
        {
          "output_type": "stream",
          "name": "stdout",
          "text": [
            "s3:  {'Y', 'W', 'Z', 'X'}\n",
            "s3:  set()\n",
            "s3:  {'C', 'B', 'A'}\n",
            "s3:  {'E', 'D'}\n",
            "s3:  {'E'}\n",
            "s2 inter s1 : {'C', 'B', 'A'}\n",
            "False\n",
            "False\n",
            "True\n",
            "True\n",
            "s1:  {'E', 'A', 'B', 'D'}\n",
            "s1 uniao s2: {'E', 'A', 'B', 'D', 'C'}\n",
            "s1 =  {'E', 'A', 'B', 'D', 'C'}\n",
            "s2 =  {'C', 'B', 'A'}\n",
            "s3 =  {'E'}\n"
          ]
        }
      ]
    },
    {
      "cell_type": "markdown",
      "source": [
        "### Exercício 3: Operações com `set`.\n",
        "\n",
        "Crie um set chamado `frutas` contendo as frutas `\"maçã\", \"banana\", \"laranja\"` e `\"uva\"` e então:\n",
        "* exiba o conteúdo;\n",
        "* adicione a fruta \"abacaxi\" e exiba o resultado;\n",
        "* remova o elemento \"banana\" e exiba o resultado;\n",
        "* faça a união do set `frutas` com o set `vermelhas = {\"morango\", \"cereja\", \"amora\"}`, guarde em `frutas` e exiba o resultado;\n",
        "* exiba a interseção do conjunto `frutas` com o conjunto `frutas2 = {\"banana\", \"pera\", \"morango\"}`."
      ],
      "metadata": {
        "id": "POy_ymRgzlR3"
      }
    },
    {
      "cell_type": "markdown",
      "source": [
        "## Dicionário"
      ],
      "metadata": {
        "id": "A06PHVNqxeKM"
      }
    },
    {
      "cell_type": "markdown",
      "source": [
        "Os **dicionários** (*dict*) são coleções de (*chave*, *valor*) que são ordenadas e mutáveis. Não permite duplicações de suas chaves. Temos então as seguintes propriedades para a classe `dict`:\n",
        "\n",
        "* **ordenadas** -- os elementos mantém a ordem de inclusão (*a partir da versão 3.7 do Python*).\n",
        "\n",
        "* **elementos podem ser alterados** -- o valor dos elementos podem ter seus valores alterados.\n",
        "\n",
        "* **não permite duplicação das chaves** -- as chaves não podem ser repetidas."
      ],
      "metadata": {
        "id": "XbyqxTOZxh2-"
      }
    },
    {
      "cell_type": "markdown",
      "source": [
        "Os métodos definidos na classe `dict` são:\n",
        "\n",
        "* `clear()`: Remove todos os elementos do dicionário.\n",
        "* `copy()`: Retorna uma cópia do dicionário.\n",
        "* `fromkeys()`: Retorna um dicionário com as chaves especificadas.\n",
        "* `get()`: Retorna o valor de uma chave específica.\n",
        "* `items()`: Retorna uma lista contendo uma tupla para cada par `(chave, valor)`.\n",
        "* `keys()`: Retorna uma lista contendo as chaves do dicionário.\n",
        "* `pop()`: Remove o elemento na chave especificada.\n",
        "* `popitem()`: Remove o último elemento inserido.\n",
        "* `setdefault()`: Retorna o valor da chave especificada. Se a chave não existe insere a chave com o valor especificado.\n",
        "* `update()`: Atualiza o dicionário com os pares `(chave, valor)` especificados.\n",
        "* `values()`: Retorna uma lista de todos os valores no dicionário"
      ],
      "metadata": {
        "id": "8KzC0BzT535a"
      }
    },
    {
      "cell_type": "markdown",
      "source": [
        "Os **dicionários** são criados usando `{}` informando pares do tipo `chave: valor`; também podem ser criados com `dict()`:"
      ],
      "metadata": {
        "id": "65TKIvwgjGp4"
      }
    },
    {
      "cell_type": "code",
      "source": [
        "v1 = {\"name\" : \"R\", \"version\" : 2.7, \"name\" : \"Python\"}\n",
        "v2 = dict(name = \"Python\", version = 2.7)\n",
        "# v2 = dict(name = \"R\", version = 2.7, name = \"Python\")  ## ERRO: chave duplicada !!\n",
        "\n",
        "print(v1)    # Exibe o dicionário v1.\n",
        "print(v2)    # Exibe o dicionário v2.\n",
        "\n",
        "print(type(v1))    # Exibe \"<class 'dict'> indicando que é dicionário.\n",
        "print(type(v2))    # Exibe \"<class 'dict'> indicando que é dicionário."
      ],
      "metadata": {
        "id": "lz57mxFJxvVX",
        "colab": {
          "base_uri": "https://localhost:8080/"
        },
        "outputId": "d3fa3efd-7242-4153-be48-f7ccb3d411a0"
      },
      "execution_count": null,
      "outputs": [
        {
          "output_type": "stream",
          "name": "stdout",
          "text": [
            "{'name': 'Python', 'version': 2.7}\n",
            "{'name': 'Python', 'version': 2.7}\n",
            "<class 'dict'>\n",
            "<class 'dict'>\n"
          ]
        }
      ]
    },
    {
      "cell_type": "markdown",
      "source": [
        "Os valores em um dicionário são acessíveis através da chave:"
      ],
      "metadata": {
        "id": "5V9C5Rtt5mz0"
      }
    },
    {
      "cell_type": "code",
      "source": [
        "carro_1 = dict(marca = \"Ford\", modelo = \"Mustang\", ano = 1967)\n",
        "carro_2 = dict(marca = \"Toyota\", modelo = \"Corolla\", ano = 2022)\n",
        "\n",
        "print(carro_1[\"marca\"])   # Exibe 'Ford'\n",
        "print(carro_2[\"modelo\"])  # Exibe 'Corolla'"
      ],
      "metadata": {
        "id": "OM84vYxO5rpF",
        "colab": {
          "base_uri": "https://localhost:8080/"
        },
        "outputId": "3cd541e3-9005-4e41-f03a-e274faa9cfae"
      },
      "execution_count": null,
      "outputs": [
        {
          "output_type": "stream",
          "name": "stdout",
          "text": [
            "Ford\n",
            "Corolla\n"
          ]
        }
      ]
    },
    {
      "cell_type": "code",
      "source": [
        "car1 = dict(marca = \"Ford\", modelo = \"Mustang\", ano = 1967)\n",
        "car2 = dict(marca = \"Toyota\", modelo = \"Corolla\", ano = 2022)\n",
        "\n",
        "car2.clear()                                # car2 = {}\n",
        "car2 = car1.copy()                          # car2 =  dict(marca = \"Ford\", modelo = \"Mustang\", ano = 1967)\n",
        "x = dict.fromkeys((\"k1\", \"k2\", \"k3\"), 0)    # x = {'k1': 0, 'k2': 0, 'k3': 0}\n",
        "print(car1.get(\"modelo\"))                   # => 'Mustang'\n",
        "print(x.items())                            # => dict_items([('k1', 0), ('k2', 0), ('k3', 0)])\n",
        "print(x.keys())                             # => dict_keys(['k1', 'k2', 'k3'])\n",
        "\n",
        "print(car1.pop(\"modelo\"))                   # car1 = {'marca': 'Ford', 'ano': 1967} => 'Mustang'\n",
        "\n",
        "print(car2.popitem())                       # car2 = {'marca': 'Ford', 'modelo': 'Mustang'} => ('ano', 1967)\n",
        "print(car2.setdefault(\"ano\", 2020))         # car2 = {'marca': 'Ford', 'modelo': 'Mustang', 'ano': 2020} => 2020\n",
        "print(car2.setdefault(\"marca\", \"Fiat\"))     # car2 = {'marca': 'Ford', 'modelo': 'Mustang', 'ano': 2020} => 'Ford'\n",
        "\n",
        "car1.update({\"modelo\": \"Bronco\"})           # car1 = {'marca': 'Ford', 'ano': 1967, 'modelo': 'Bronco'}\n",
        "print(car1.values())                        # => dict_values(['Ford', 1967, 'Bronco'])\n",
        "\n",
        "print(car1)    # Exibe o dicionário car1.\n",
        "print(car2)    # Exibe o dicionário car2."
      ],
      "metadata": {
        "id": "g2ZSugLA6rKd",
        "colab": {
          "base_uri": "https://localhost:8080/"
        },
        "outputId": "3ddcb98a-fc04-42f7-efd4-e8f416cf6140"
      },
      "execution_count": null,
      "outputs": [
        {
          "output_type": "stream",
          "name": "stdout",
          "text": [
            "Mustang\n",
            "dict_items([('k1', 0), ('k2', 0), ('k3', 0)])\n",
            "dict_keys(['k1', 'k2', 'k3'])\n",
            "Mustang\n",
            "('ano', 1967)\n",
            "2020\n",
            "Ford\n",
            "dict_values(['Ford', 1967, 'Bronco'])\n",
            "{'marca': 'Ford', 'ano': 1967, 'modelo': 'Bronco'}\n",
            "{'marca': 'Ford', 'modelo': 'Mustang', 'ano': 2020}\n"
          ]
        }
      ]
    },
    {
      "cell_type": "markdown",
      "source": [
        "### Exercício 4: Operações com dict\n",
        "\n",
        "Crie um dicionário chamado `aluno` com as chaves `\"nome\", \"idade\"` e `\"nota\"`, e os respectivos valores `\"Ana\"`, `20` e `8.5`. Então:\n",
        "\n",
        "* exiba o dicionário completo;\n",
        "* exiba apenas a nota;\n",
        "* adicione uma nova chave `curso` com o valor `matematica` e exiba o dicionário autalizado;\n",
        "* altera a `idade` para `21` e exiba o dicionário atualizado;\n",
        "* remova a chave `nota` e exiba o dicionário atualizado;\n",
        "* inclua a chave `notas` com os valores `[8.5, 9.0]`  e exiba o dicionário autalizado."
      ],
      "metadata": {
        "id": "QZTnQUdUka2B"
      }
    },
    {
      "cell_type": "markdown",
      "source": [
        "## Range"
      ],
      "metadata": {
        "id": "ZeHV1sG0x3LK"
      }
    },
    {
      "cell_type": "markdown",
      "source": [
        "As **sequências** (range) são estruturas utilizadas principalmente para a construção de índices ou loopings. Essas sequências são criadas utilizando a seguinte função:\n",
        "\n",
        "`range(start, stop, step)`.\n",
        "\n",
        "Veja o exemplo:"
      ],
      "metadata": {
        "id": "hdEQQTq8x7tk"
      }
    },
    {
      "cell_type": "code",
      "source": [
        "x = range(6)          # Sequência 0, 1, 2, 3, 4, 5.\n",
        "y = range(2, 6)       # Sequência 2, 3, 4, 5.\n",
        "z = range(2, 20, 3)   # Sequência 2, 5, 8, 11, 14, 17.\n",
        "\n",
        "print(x)              # Exibe:  range(0, 6)\n",
        "for i in x:\n",
        "  print(i)\n",
        "\n",
        "print(y)              # Exibe: range(2, 6)\n",
        "for i in y:\n",
        "  print(i)\n",
        "\n",
        "print(z)              # Exibe: range(2, 20, 3)\n",
        "for i in z:\n",
        "  print(i)\n",
        "\n",
        "print(type(x))    # Exibe \"<class 'range'> indicando que é sequência.\n",
        "print(type(y))    # Exibe \"<class 'range'> indicando que é sequência.\n",
        "print(type(z))    # Exibe \"<class 'range'> indicando que é sequência."
      ],
      "metadata": {
        "id": "xZ4OqBcQyAao",
        "colab": {
          "base_uri": "https://localhost:8080/"
        },
        "outputId": "21c28137-3aa5-4b79-bfa9-698597cf0d2d"
      },
      "execution_count": null,
      "outputs": [
        {
          "output_type": "stream",
          "name": "stdout",
          "text": [
            "range(0, 6)\n",
            "0\n",
            "1\n",
            "2\n",
            "3\n",
            "4\n",
            "5\n",
            "range(2, 6)\n",
            "2\n",
            "3\n",
            "4\n",
            "5\n",
            "range(2, 20, 3)\n",
            "2\n",
            "5\n",
            "8\n",
            "11\n",
            "14\n",
            "17\n",
            "<class 'range'>\n",
            "<class 'range'>\n",
            "<class 'range'>\n"
          ]
        }
      ]
    },
    {
      "cell_type": "markdown",
      "source": [
        "### Exercício 5: utilizando range\n",
        "\n",
        "1. exiba o resultado do `range(0, 30, 2)`;\n",
        "2. exiba todos os números pares entre 50 e 70;\n",
        "3. exiba todos os números ímpares entre 50 e 70;\n",
        "4. exiba todos os números que são multiplos de 5 entre 17 e 69.\n",
        "\n"
      ],
      "metadata": {
        "id": "qC_1mqjPph-D"
      }
    },
    {
      "cell_type": "markdown",
      "source": [
        "# Estruturas de códigos"
      ],
      "metadata": {
        "id": "9otVkbcbg69h"
      }
    },
    {
      "cell_type": "markdown",
      "source": [
        "## Execução condicional"
      ],
      "metadata": {
        "id": "IogvXsuHhMSl"
      }
    },
    {
      "cell_type": "markdown",
      "source": [
        "Blocos de código podem ser executados **condicionalmente**, em que a **execução condicional** permite que o programa tome decisões com base em determinadas condições.\n",
        "\n",
        "Em Python, as instruções condicionais são escritas usando as palavras-chave `if`, `else` e `elif` (else if). Com isso, podemos executar diferentes blocos de código dependendo de uma condição lógica, que pode ser verdadeira ou falsa.\n",
        "\n",
        "Estrutura Básica de Condicionais:\n",
        "* `if`: Executa o bloco de código se a condição for verdadeira.\n",
        "* `else`: Executa um bloco de código quando todas as condições anteriores são falsas.\n",
        "* `elif`: Executa um bloco de código alternativo se a primeira condição for falsa e a nova condição for verdadeira.\n"
      ],
      "metadata": {
        "id": "x8duFTsgApaN"
      }
    },
    {
      "cell_type": "markdown",
      "source": [
        "**Operadores Condicionais**\n",
        "\n",
        "* Operadores de comparação:\n",
        "  * `==`: Igualdade\n",
        "  * `!=`: Diferença\n",
        "  * `>`: Maior que\n",
        "  * `<`: Menor que\n",
        "  * `>=`: Maior ou igual a\n",
        "  * `<=`: Menor ou igual a\n",
        "\n",
        "* Operadores lógicos:\n",
        "  * `and`: Verdadeiro se ambas as condições forem verdadeiras.\n",
        "  * `or`: Verdadeiro se uma das condições for verdadeira.\n",
        "  * `not`: Inverte o valor lógico (verdadeiro se a condição for falsa, e vice-versa)."
      ],
      "metadata": {
        "id": "qg5AGu1r1zTt"
      }
    },
    {
      "cell_type": "code",
      "source": [
        "idade = 18\n",
        "\n",
        "if idade >= 18:\n",
        "    print(\"Você é maior de idade.\")\n",
        "else:\n",
        "    print(\"Você é menor de idade.\")"
      ],
      "metadata": {
        "id": "asZ2Oh7IAwFw",
        "colab": {
          "base_uri": "https://localhost:8080/"
        },
        "outputId": "79a0562b-5008-462f-c56f-508b1b572132"
      },
      "execution_count": null,
      "outputs": [
        {
          "output_type": "stream",
          "name": "stdout",
          "text": [
            "Você é maior de idade.\n"
          ]
        }
      ]
    },
    {
      "cell_type": "markdown",
      "source": [
        "No exemplo acima, se a variável idade for maior ou igual a 18, a mensagem \"Você é maior de idade\" será exibida; caso contrário, a mensagem será \"Você é menor de idade\"."
      ],
      "metadata": {
        "id": "VaNytVKFY_jZ"
      }
    },
    {
      "cell_type": "markdown",
      "source": [
        "**Exemplo**: Crie um programa que peça ao usuário um ano e verifique se ele é bissexto. Um ano é bissexto se for divisível por 4, mas não por 100, exceto se for divisível por 400."
      ],
      "metadata": {
        "id": "-2xB2iKe3TbK"
      }
    },
    {
      "cell_type": "code",
      "source": [
        "ano = int(input(\"Digite um ano: \"))\n",
        "\n",
        "if (ano % 4 == 0 and ano % 100 != 0) or (ano % 400 == 0):\n",
        "    print(f\"{ano} é um ano bissexto.\")\n",
        "else:\n",
        "    print(f\"{ano} não é um ano bissexto.\")"
      ],
      "metadata": {
        "id": "Pkj2fijB3aTC",
        "colab": {
          "base_uri": "https://localhost:8080/"
        },
        "outputId": "1930d33d-5968-432f-9283-c70c6f2b5b55"
      },
      "execution_count": null,
      "outputs": [
        {
          "output_type": "stream",
          "name": "stdout",
          "text": [
            "Digite um ano: 2020\n",
            "2020 é um ano bissexto.\n"
          ]
        }
      ]
    },
    {
      "cell_type": "markdown",
      "source": [
        "Blocos condicionais podem ser aninhados."
      ],
      "metadata": {
        "id": "WrV7FKU8BHsN"
      }
    },
    {
      "cell_type": "code",
      "source": [
        "velocidade = 200\n",
        "if velocidade < 20:\n",
        "  print(\"Muito lento!\")\n",
        "else:\n",
        "  if velocidade < 120:\n",
        "    print(\"Velocidade usual.\")\n",
        "  else:\n",
        "    if velocidade >= 120:\n",
        "      print(\"Muito rápido!\")\n",
        "    else:\n",
        "      print(\"Está andando de marcha à ré?\")"
      ],
      "metadata": {
        "id": "oPiYY6n0BK8E",
        "colab": {
          "base_uri": "https://localhost:8080/"
        },
        "outputId": "f5c8b629-3b6a-42d9-b3b3-65c7dbd43a21"
      },
      "execution_count": null,
      "outputs": [
        {
          "output_type": "stream",
          "name": "stdout",
          "text": [
            "Muito rápido!\n"
          ]
        }
      ]
    },
    {
      "cell_type": "markdown",
      "source": [
        "No entanto, a linguagem define a palavra chave `elif` para combinar um `else` e um `if`"
      ],
      "metadata": {
        "id": "KpGjBZaABlsd"
      }
    },
    {
      "cell_type": "code",
      "source": [
        "velocidade = 120\n",
        "if velocidade < 20:\n",
        "  print(\"Muito lento!\")\n",
        "elif velocidade < 120:\n",
        "  print(\"Velocidade usual.\")\n",
        "elif velocidade >= 120:\n",
        "  print(\"Muito rápido!\")\n",
        "else:\n",
        "  print(\"Está andando de marcha à ré?\")"
      ],
      "metadata": {
        "id": "Y4pFLMi3BwLP",
        "colab": {
          "base_uri": "https://localhost:8080/"
        },
        "outputId": "e46f1489-7429-4143-88db-6bcf949db9b4"
      },
      "execution_count": null,
      "outputs": [
        {
          "output_type": "stream",
          "name": "stdout",
          "text": [
            "Muito rápido!\n"
          ]
        }
      ]
    },
    {
      "cell_type": "markdown",
      "source": [
        "**Exemplo**: Baseado na idade de um atleta, escreva um programa que classifique-o em uma das seguintes categorias:\n",
        "\n",
        "* Até 12 anos: Infantil\n",
        "* 13 a 17 anos: Juvenil\n",
        "* 18 a 35 anos: Adulto\n",
        "* Acima de 35 anos: Master"
      ],
      "metadata": {
        "id": "8_54WaYu4c2F"
      }
    },
    {
      "cell_type": "code",
      "source": [
        "idade = int(input(\"Digite a idade do atleta: \"))\n",
        "\n",
        "if idade <= 12:\n",
        "    print(\"Categoria: Infantil\")\n",
        "elif idade <= 17:\n",
        "    print(\"Categoria: Juvenil\")\n",
        "elif idade <= 35:\n",
        "    print(\"Categoria: Adulto\")\n",
        "else:\n",
        "    print(\"Categoria: Master\")"
      ],
      "metadata": {
        "id": "NY91pL0n4nrc",
        "colab": {
          "base_uri": "https://localhost:8080/"
        },
        "outputId": "a8d49d08-1030-4d11-b7c7-17f99b702592"
      },
      "execution_count": null,
      "outputs": [
        {
          "output_type": "stream",
          "name": "stdout",
          "text": [
            "Digite a idade do atleta: 27\n",
            "Categoria: Adulto\n"
          ]
        }
      ]
    },
    {
      "cell_type": "markdown",
      "source": [
        "### Exercício 1: Crie um programa que pergunte o preço de um produto e verifique se ele deve aplicar algum desconto:\n",
        "\n",
        "* Se o preço for maior que R$ 1000, aplique um desconto de 10%.\n",
        "* Caso contrário, aplique um desconto de 5%.\n",
        "\n",
        "Exiba o valor final do produto após o desconto."
      ],
      "metadata": {
        "id": "8FcfVHBb5otc"
      }
    },
    {
      "cell_type": "markdown",
      "source": [
        "### Exercício 2: Escreva um programa que pergunte ao usuário a nota de um aluno (de 0 a 100) e exiba a classificação correspondente:\n",
        "\n",
        "* 90 a 100: A\n",
        "* 80 a 89: B\n",
        "* 70 a 79: C\n",
        "* 60 a 69: D\n",
        "* Abaixo de 60: F"
      ],
      "metadata": {
        "id": "Kw4rHdLs3t__"
      }
    },
    {
      "cell_type": "markdown",
      "source": [
        "## Laços de repetição"
      ],
      "metadata": {
        "id": "10YbWVx_hkDf"
      }
    },
    {
      "cell_type": "markdown",
      "source": [
        "**Laços de repetição** permitem executar um bloco de código várias vezes. Eles são fundamentais em programação quando precisamos repetir tarefas de forma automática. Em Python, os principais laços de repetição são `for` e `while`.\n",
        "\n",
        "O **Controle de Fluxo** pode ser feito com `break` e `continue`, em que:\n",
        "* `break`: Interrompe a execução do laço antes que ele termine naturalmente.\n",
        "* `continue`: Pula a iteração atual e continua para a próxima."
      ],
      "metadata": {
        "id": "2s1hcYzfB4Wk"
      }
    },
    {
      "cell_type": "markdown",
      "source": [
        "### `while`\n",
        "\n",
        "O laço `while` executa o bloco de código enquanto uma condição for verdadeira. Ele verifica a condição antes de cada execução do bloco.\n",
        "\n",
        "**Sintaxe:**\n",
        "\n",
        "```python\n",
        "while condição:\n",
        "    # Código a ser executado enquanto a condição for verdadeira\n",
        "```"
      ],
      "metadata": {
        "id": "-cnGWPoJ-xO0"
      }
    },
    {
      "cell_type": "markdown",
      "source": [
        "**Exemplo**"
      ],
      "metadata": {
        "id": "8lUS53Ff_YWD"
      }
    },
    {
      "cell_type": "code",
      "source": [
        "contador = 1         # inicializacao\n",
        "while contador <= 5:\n",
        "    print(contador)\n",
        "    contador += 1    # incremento"
      ],
      "metadata": {
        "id": "Sn03QCKQ_a9J",
        "colab": {
          "base_uri": "https://localhost:8080/"
        },
        "outputId": "567652cf-b2a0-4508-851b-dcb5c1389067"
      },
      "execution_count": null,
      "outputs": [
        {
          "output_type": "stream",
          "name": "stdout",
          "text": [
            "1\n",
            "2\n",
            "3\n",
            "4\n",
            "5\n"
          ]
        }
      ]
    },
    {
      "cell_type": "markdown",
      "source": [
        "**Exemplo**"
      ],
      "metadata": {
        "id": "QOrEzY-VAftM"
      }
    },
    {
      "cell_type": "code",
      "source": [
        "# Exibe os valores 1, 2, ..., 5.\n",
        "i = 1\n",
        "while i < 6:\n",
        "  print(i)\n",
        "  i += 1   # Adiciona 1 ao valor i -- OBRIGATÓRIO!\n",
        "\n",
        "print('---')\n",
        "\n",
        "# Exibe os valores 1, 2, 3\n",
        "i = 1\n",
        "while i < 6:\n",
        "  print(i)\n",
        "  if i == 3:\n",
        "    break    # Quando i = 3 o laço é quebrado.\n",
        "  i += 1\n",
        "\n",
        "print('---')\n",
        "\n",
        "# Exibe os valores 2, 4, 5, 6\n",
        "i = 1\n",
        "while i < 6:\n",
        "  i += 1\n",
        "  if i == 3:\n",
        "    continue    # Quando i = 3 retorna para o início do laço.\n",
        "  print(i)\n",
        "\n",
        "print('---')\n",
        "\n",
        "i = 1\n",
        "while i < 6:\n",
        "  print(i)\n",
        "  i += 1\n",
        "print(\"Executado ao sair do laço!\")"
      ],
      "metadata": {
        "id": "VGy894SgCAo9",
        "colab": {
          "base_uri": "https://localhost:8080/"
        },
        "outputId": "944143a4-4bba-4691-b1d4-89586ff8bf07"
      },
      "execution_count": null,
      "outputs": [
        {
          "output_type": "stream",
          "name": "stdout",
          "text": [
            "1\n",
            "2\n",
            "3\n",
            "4\n",
            "5\n",
            "---\n",
            "1\n",
            "2\n",
            "3\n",
            "---\n",
            "2\n",
            "4\n",
            "5\n",
            "6\n",
            "---\n",
            "1\n",
            "2\n",
            "3\n",
            "4\n",
            "5\n",
            "Executado ao sair do laço!\n"
          ]
        }
      ]
    },
    {
      "cell_type": "markdown",
      "source": [
        "### `for`\n",
        "\n",
        "O laço `for` é usado para iterar sobre uma sequência (como listas, tuplas, strings, ou intervalos com range). Em cada iteração, o valor da sequência é atribuído a uma variável, e o bloco de código dentro do laço é executado.\n",
        "\n",
        "**Sintaxe do** `for`:\n",
        "\n",
        "```python\n",
        "for variável in sequência:\n",
        "    # Código a ser executado a cada iteração\n",
        "```"
      ],
      "metadata": {
        "id": "n38x_rjKDY3G"
      }
    },
    {
      "cell_type": "markdown",
      "source": [
        "**Exemplo**"
      ],
      "metadata": {
        "id": "NIwWatHJBQRN"
      }
    },
    {
      "cell_type": "code",
      "source": [
        "for numero in range(1, 6):\n",
        "    print(numero)"
      ],
      "metadata": {
        "id": "gkr29tBCBSID",
        "colab": {
          "base_uri": "https://localhost:8080/"
        },
        "outputId": "0d7af213-85d2-4d4c-c66a-a17e49e92738"
      },
      "execution_count": null,
      "outputs": [
        {
          "output_type": "stream",
          "name": "stdout",
          "text": [
            "1\n",
            "2\n",
            "3\n",
            "4\n",
            "5\n"
          ]
        }
      ]
    },
    {
      "cell_type": "markdown",
      "source": [
        "**Exemplos**"
      ],
      "metadata": {
        "id": "3USrX1mNBVf3"
      }
    },
    {
      "cell_type": "code",
      "source": [
        "############################################################\n",
        "print('--- Parte 1:')\n",
        "frutas = ['banana', 'maçã', 'morango']\n",
        "for fruta in frutas:\n",
        "  print('Comprar ', fruta, '.', sep='')\n",
        "\n",
        "print('---')\n",
        "\n",
        "############################################################\n",
        "print('--- Parte 2:')\n",
        "for letra in 'banana':\n",
        "  print(letra)\n",
        "\n",
        "print('---')\n",
        "\n",
        "############################################################\n",
        "print('--- Parte 3:')\n",
        "for k in range(10):\n",
        "  print(k)\n",
        "\n",
        "print('---')\n",
        "\n",
        "############################################################\n",
        "print('--- Parte 4:')\n",
        "for k in range(10):\n",
        "  print(k)\n",
        "  if k == 5:\n",
        "    break    # Quebra o laço.\n",
        "\n",
        "print('---')\n",
        "\n",
        "############################################################\n",
        "print('--- Parte 5:')\n",
        "for k in range(1, 15):\n",
        "  if k % 2  == 0: # se k é par então segue para o\n",
        "    continue      # próximo elemento do laço.\n",
        "  print(k)\n",
        "\n",
        "print('---')\n",
        "\n",
        "############################################################\n",
        "print('--- Parte 6:')\n",
        "for k in range(1, 15, 2):\n",
        "  print(k)\n",
        "\n",
        "print('---')"
      ],
      "metadata": {
        "id": "K6EWhF0xDdEO",
        "colab": {
          "base_uri": "https://localhost:8080/"
        },
        "outputId": "fb27e949-e88b-453c-dd5f-7eb3af77bc71"
      },
      "execution_count": null,
      "outputs": [
        {
          "output_type": "stream",
          "name": "stdout",
          "text": [
            "--- Parte 1:\n",
            "Comprar banana.\n",
            "Comprar maçã.\n",
            "Comprar morango.\n",
            "---\n",
            "--- Parte 2:\n",
            "b\n",
            "a\n",
            "n\n",
            "a\n",
            "n\n",
            "a\n",
            "---\n",
            "--- Parte 3:\n",
            "0\n",
            "1\n",
            "2\n",
            "3\n",
            "4\n",
            "5\n",
            "6\n",
            "7\n",
            "8\n",
            "9\n",
            "---\n",
            "--- Parte 4:\n",
            "0\n",
            "1\n",
            "2\n",
            "3\n",
            "4\n",
            "5\n",
            "---\n",
            "--- Parte 5:\n",
            "1\n",
            "3\n",
            "5\n",
            "7\n",
            "9\n",
            "11\n",
            "13\n",
            "---\n",
            "--- Parte 6:\n",
            "1\n",
            "3\n",
            "5\n",
            "7\n",
            "9\n",
            "11\n",
            "13\n",
            "---\n"
          ]
        }
      ]
    },
    {
      "cell_type": "markdown",
      "source": [
        "O laço **for** também pode ser usado para inicializar *vetores* e *matrizes*."
      ],
      "metadata": {
        "id": "JH_Gjc0YExyG"
      }
    },
    {
      "cell_type": "code",
      "source": [
        "v1 = [ 0 for _ in range(10)]     # Cria um vetor de 10 posições iguais a 0.\n",
        "v2 = [ i**2 for i in range(10)]  # Cria um vetor de 10 posições com quadrados.\n",
        "\n",
        "print(v1)\n",
        "print(v2)\n",
        "\n",
        "# Cria matrizes 4 x 3.\n",
        "m1 = [[0 for _ in range(3)] for _ in range(4)]\n",
        "m2 = [[i*j for j in range(3)] for i in range(4)]\n",
        "\n",
        "print(m1)\n",
        "print(m2)"
      ],
      "metadata": {
        "id": "S3D4LcUdE5XO",
        "colab": {
          "base_uri": "https://localhost:8080/"
        },
        "outputId": "4f28f24a-b213-4756-cb95-71c4f0b46f79"
      },
      "execution_count": null,
      "outputs": [
        {
          "output_type": "stream",
          "name": "stdout",
          "text": [
            "[0, 0, 0, 0, 0, 0, 0, 0, 0, 0]\n",
            "[0, 1, 4, 9, 16, 25, 36, 49, 64, 81]\n",
            "[[0, 0, 0], [0, 0, 0], [0, 0, 0], [0, 0, 0]]\n",
            "[[0, 0, 0], [0, 1, 2], [0, 2, 4], [0, 3, 6]]\n"
          ]
        }
      ]
    },
    {
      "cell_type": "markdown",
      "source": [
        "O laço **for** pode ser usado para iterar sobre *listas*, *tuplas*, *conjuntos* e *chaves* de dicionários."
      ],
      "metadata": {
        "id": "1TMmPG6FFsit"
      }
    },
    {
      "cell_type": "code",
      "source": [
        "lista = list((\"A\",\"B\",\"C\",\"D\"))\n",
        "tupla = tuple((\"A\",\"B\",\"C\",\"D\"))\n",
        "conj  = set((\"A\",\"B\",\"C\",\"D\"))\n",
        "carro = dict(marca = \"Ford\", modelo = \"Mustang\", ano = 1967)\n",
        "\n",
        "for k in lista:\n",
        "  print(k)\n",
        "\n",
        "print('---')\n",
        "\n",
        "for k in tupla:\n",
        "  print(k)\n",
        "\n",
        "print('---')\n",
        "\n",
        "for k in conj:\n",
        "  print(k)\n",
        "\n",
        "print('---')\n",
        "\n",
        "for k in carro:\n",
        "  print('chave = ', k, ', valor = ', carro[k], sep=\"\")\n",
        "\n",
        "print('---')\n",
        "\n",
        "for k, v in carro.items():\n",
        "  print('chave=', k, ', valor=', v, sep=\"\")\n"
      ],
      "metadata": {
        "id": "4AhmeKXhFr_W",
        "colab": {
          "base_uri": "https://localhost:8080/"
        },
        "outputId": "c130a0a5-986b-4824-cbe5-6657afeb37bc"
      },
      "execution_count": null,
      "outputs": [
        {
          "output_type": "stream",
          "name": "stdout",
          "text": [
            "A\n",
            "B\n",
            "C\n",
            "D\n",
            "---\n",
            "A\n",
            "B\n",
            "C\n",
            "D\n",
            "---\n",
            "C\n",
            "B\n",
            "A\n",
            "D\n",
            "---\n",
            "chave = marca, valor = Ford\n",
            "chave = modelo, valor = Mustang\n",
            "chave = ano, valor = 1967\n",
            "---\n",
            "chave=marca, valor=Ford\n",
            "chave=modelo, valor=Mustang\n",
            "chave=ano, valor=1967\n"
          ]
        }
      ]
    },
    {
      "cell_type": "markdown",
      "source": [
        "**Exemplo:** Crie um programa que receba um número inteiro do usuário e use um laço for para verificar se o número é primo.\n",
        "* Um número primo é divível apenas por 1 e por ele mesmo;\n",
        "* Qualquer número menor que 2 não é considerado como primo;\n",
        "* Para saber se $n$ é primo, basta que seja testado os divisores pertentes ao intervalo de 2 até $||\\sqrt{n}||+1$, em que $||x||$ denota o maior inteiro menor que $x$."
      ],
      "metadata": {
        "id": "xXYxJkWeCbMV"
      }
    },
    {
      "cell_type": "code",
      "source": [
        "numero = int(input(\"Digite um número: \"))\n",
        "\n",
        "if numero < 2:\n",
        "    print(f\"{numero} não é primo.\")\n",
        "else:\n",
        "    primo = True\n",
        "    for i in range(2, int(numero ** 0.5) + 1):\n",
        "        if numero % i == 0:\n",
        "            primo = False\n",
        "            break\n",
        "\n",
        "    if primo:\n",
        "        print(f\"{numero} é primo.\")\n",
        "    else:\n",
        "        print(f\"{numero} não é primo.\")\n"
      ],
      "metadata": {
        "id": "5JQQv74-CvSL",
        "colab": {
          "base_uri": "https://localhost:8080/"
        },
        "outputId": "fc25d426-62a4-457d-b44e-8e68bb1166d6"
      },
      "execution_count": null,
      "outputs": [
        {
          "output_type": "stream",
          "name": "stdout",
          "text": [
            "Digite um número: 5\n",
            "5 é primo.\n"
          ]
        }
      ]
    },
    {
      "cell_type": "markdown",
      "source": [
        "**Exemplo**: Escreva um programa onde o computador escolhe um número aleatório de 1 a 10 e o usuário tenta adivinhar. O programa continua pedindo palpites até que o usuário acerte."
      ],
      "metadata": {
        "id": "VEXcxtsYExss"
      }
    },
    {
      "cell_type": "code",
      "source": [
        "####### geração do número aleatório\n",
        "import random\n",
        "numero_secreto = random.randint(1, 10)\n",
        "\n",
        "###### parte principal do programa\n",
        "palpite = 0\n",
        "while palpite != numero_secreto:\n",
        "    palpite = int(input(\"Adivinhe o número entre 1 e 10: \"))\n",
        "\n",
        "    if palpite < numero_secreto:\n",
        "        print(\"Muito baixo!\")\n",
        "    elif palpite > numero_secreto:\n",
        "        print(\"Muito alto!\")\n",
        "\n",
        "print(\"Parabéns! Você acertou!\")\n"
      ],
      "metadata": {
        "id": "0qDzyXHNE4gD",
        "colab": {
          "base_uri": "https://localhost:8080/"
        },
        "outputId": "a9c6854a-0ff5-4a2c-e3d0-97dc50903c14"
      },
      "execution_count": null,
      "outputs": [
        {
          "output_type": "stream",
          "name": "stdout",
          "text": [
            "Adivinhe o número entre 1 e 10: 6\n",
            "Muito alto!\n",
            "Adivinhe o número entre 1 e 10: 6\n",
            "Muito alto!\n",
            "Adivinhe o número entre 1 e 10: 3\n",
            "Muito alto!\n",
            "Adivinhe o número entre 1 e 10: 1\n",
            "Parabéns! Você acertou!\n"
          ]
        }
      ]
    },
    {
      "cell_type": "markdown",
      "source": [
        "### Exercício 3: Soma dos primeiros 100 números\n",
        "\n",
        "a) Use um laço `while` para calcular a soma dos primeiros 100 números inteiros (de 1 a 100).\n",
        "\n",
        "b)  Use um laço `for` para calcular a soma dos primeiros 100 números inteiros (de 1 a 100)."
      ],
      "metadata": {
        "id": "vs5RcxBHFJsL"
      }
    },
    {
      "cell_type": "markdown",
      "source": [
        "### Exercício 4: Números ímpares com `continue`\n",
        "\n",
        "Use um laço `for` para exibir todos os números de 1 a 10, exceto os números ímpares (use o `continue`)."
      ],
      "metadata": {
        "id": "yUadjv1FFyg8"
      }
    },
    {
      "cell_type": "markdown",
      "source": [
        "### Exercício 5: Fibonacci até o décimo termo\n",
        "\n",
        "Use um laço `while` para calcular e exibir os primeiros 15 termos da sequência de Fibonacci.\n",
        "\n",
        "A sequência de Fibonacci começa com 0 e 1, e os próximos números são a soma dos dois números anteriores.\n",
        "\n",
        "Sequência: 0, 1, 1, 2, 3, 5, ..."
      ],
      "metadata": {
        "id": "tGxM8LQ9Gtdp"
      }
    },
    {
      "cell_type": "markdown",
      "source": [
        "# Funções"
      ],
      "metadata": {
        "id": "ucToMMLJyE_W"
      }
    },
    {
      "cell_type": "markdown",
      "source": [
        "No desenvolvimento de códigos é comum a necessidade definir sub-rotinas que serão usadas outras vezes ao longo do código. Estas sub-rotinas são chamadas de **funções**. Elas ajudam a organizar o código, tornando-o mais modular, legível e fácil de manter.\n",
        "\n",
        "Para definir uma função em Python, usamos a palavra-chave `def` seguida do nome da função e dos parênteses. Se a função aceitar argumentos (valores que podem ser passados para a função), eles são colocados dentro dos parênteses.\n",
        "\n",
        "Um exemplo básico seria:"
      ],
      "metadata": {
        "id": "kw9ZDVyOyGr-"
      }
    },
    {
      "cell_type": "code",
      "source": [
        "def nome_da_funcao(argumento1, argumento2):\n",
        "    # Bloco de código da função\n",
        "    resultado = argumento1 + argumento2\n",
        "    return resultado  # Retorna o valor final"
      ],
      "metadata": {
        "id": "ZzCoUbVuIXVT"
      },
      "execution_count": null,
      "outputs": []
    },
    {
      "cell_type": "markdown",
      "source": [
        "Aqui está uma explicação básica dos elementos:\n",
        "\n",
        "* `def`: Define a função.\n",
        "* `nome_da_funcao`: Nome que você dá à função (como soma, imprimir_mensagem, etc.).\n",
        "* `Argumentos`: São valores ou variáveis que podem ser passados para a função.\n",
        "* `return`: Devolve o valor final da função para ser usado em outras partes do código. Se não for especificado, a função retorna `None` (nada)."
      ],
      "metadata": {
        "id": "NO2QK6S-IbcI"
      }
    },
    {
      "cell_type": "markdown",
      "source": [
        "Exemplo: função que soma dois números"
      ],
      "metadata": {
        "id": "A7DMIMNKPYvP"
      }
    },
    {
      "cell_type": "code",
      "source": [
        "def soma(a, b):\n",
        "    return a + b\n",
        "\n",
        "# Teste a função\n",
        "resultado = soma(5, 3)\n",
        "print(f\"A soma é: {resultado}\")"
      ],
      "metadata": {
        "id": "kVwpD42WPh2-",
        "colab": {
          "base_uri": "https://localhost:8080/"
        },
        "outputId": "aef536b0-a4fa-4279-c3a6-df9f295976ac"
      },
      "execution_count": null,
      "outputs": [
        {
          "output_type": "stream",
          "name": "stdout",
          "text": [
            "A soma é: 8\n"
          ]
        }
      ]
    },
    {
      "cell_type": "markdown",
      "source": [
        "Exemplo: a execução é feita apenas até o return"
      ],
      "metadata": {
        "id": "SPZGwXqTovQc"
      }
    },
    {
      "cell_type": "code",
      "source": [
        "def squared(x):\n",
        "  return x ** 2\n",
        "  print(\"Esta linha não é executada!\")\n",
        "\n",
        "print(squared(3))"
      ],
      "metadata": {
        "id": "RZl7X8jboygu",
        "colab": {
          "base_uri": "https://localhost:8080/"
        },
        "outputId": "e76cddda-c93d-47cd-f951-edac7387d31c"
      },
      "execution_count": null,
      "outputs": [
        {
          "output_type": "stream",
          "name": "stdout",
          "text": [
            "9\n"
          ]
        }
      ]
    },
    {
      "cell_type": "markdown",
      "source": [
        "Exemplo: A função cumprimentar recebe um argumento (nome) e exibe uma mensagem de boas-vindas."
      ],
      "metadata": {
        "id": "oXfvsGUkKyiZ"
      }
    },
    {
      "cell_type": "code",
      "source": [
        "# Exemplo de uma Função\n",
        "def cumprimentar(nome):\n",
        "    print(f\"Olá, {nome}! Seja bem-vindo.\")\n",
        "\n",
        "# Chamando a função\n",
        "cumprimentar(\"Ana\")\n",
        "cumprimentar(\"Paula\")\n",
        "cumprimentar(\"Jose\")"
      ],
      "metadata": {
        "id": "LZgOn8vnI3OX",
        "colab": {
          "base_uri": "https://localhost:8080/"
        },
        "outputId": "6cb301fd-d710-481c-efe7-610f4204e1e9"
      },
      "execution_count": null,
      "outputs": [
        {
          "output_type": "stream",
          "name": "stdout",
          "text": [
            "Olá, Ana! Seja bem-vindo.\n",
            "Olá, Paula! Seja bem-vindo.\n",
            "Olá, Jose! Seja bem-vindo.\n"
          ]
        }
      ]
    },
    {
      "cell_type": "markdown",
      "source": [
        "Outro exemplo, agora utilizando dois argumentos."
      ],
      "metadata": {
        "id": "0ACScB3eLFvS"
      }
    },
    {
      "cell_type": "code",
      "source": [
        "def cumprimentar2(cumprimento, nome):\n",
        "    print(cumprimento + \", \" + nome + \"!\")\n",
        "\n",
        "# Chamando a função\n",
        "cumprimentar2(\"Bom dia\",\"Ana\")\n",
        "cumprimentar2(\"Boa tarde\",\"Paula\")\n",
        "cumprimentar2(\"Boa noite\", \"Jose\")"
      ],
      "metadata": {
        "id": "JJb4GlcpyjU9",
        "colab": {
          "base_uri": "https://localhost:8080/"
        },
        "outputId": "ea2474b4-1f19-4d82-eab1-db3f75dfb0bc"
      },
      "execution_count": null,
      "outputs": [
        {
          "output_type": "stream",
          "name": "stdout",
          "text": [
            "Bom dia, Ana!\n",
            "Boa tarde, Paula!\n",
            "Boa noite, Jose!\n"
          ]
        }
      ]
    },
    {
      "cell_type": "markdown",
      "source": [
        "Os parâmetros podem ser passados para a função na forma *posicional* como no exemplo anterior, ou na forma *nomeada* como no exemplo abaixo. A vantagem da forma nomeada é que não é obrigatório manter a ordem dos parâmetros definidas na função:"
      ],
      "metadata": {
        "id": "xl0nWo4DMwiE"
      }
    },
    {
      "cell_type": "code",
      "source": [
        "cumprimentar2( cumprimento=\"Bom dia\", nome=\"Ana\")    # Parâmetros nomeados.\n",
        "cumprimentar2(nome=\"Ana\", cumprimento=\"Bom dia\")     # Parâmetros nomeados fora de ordem."
      ],
      "metadata": {
        "id": "7ndgbczuMxHp",
        "colab": {
          "base_uri": "https://localhost:8080/"
        },
        "outputId": "8833ddc9-5905-49cf-9a16-369e81818168"
      },
      "execution_count": null,
      "outputs": [
        {
          "output_type": "stream",
          "name": "stdout",
          "text": [
            "Bom dia, Ana!\n",
            "Bom dia, Ana!\n"
          ]
        }
      ]
    },
    {
      "cell_type": "markdown",
      "source": [
        "As funções podem admitir uma **quantidade arbitrária de parâmetros**. Isto pode ser realizada passando parâmetros nomeados e posicionais. Para capturar os parâmetros posicionais utiliza-se um parâmetro na forma `*lista` que recebem os parâmetros posicionais em uma *lista* e para capturar os parâmetros nomeados utiliza-se um parâmetro na forma `**dicionario` que recebem os parâmetros nomeados em um *dicionário* (com os nomes dos parâmetros como chaves)."
      ],
      "metadata": {
        "id": "66yFf7binD8j"
      }
    },
    {
      "cell_type": "code",
      "source": [
        "# Esta função captura os dados do usuário, passados como parâmetros nomeados,\n",
        "# em um dicionário.\n",
        "def user(**args):\n",
        "  print(\"Primeiro nome  : \" + args[\"fname\"])\n",
        "  print(\"Último nome    : \" + args[\"lname\"])\n",
        "  print(\"Nome de usuário: \" + args[\"username\"])\n",
        "  print(\"Senha          : \" + args[\"pwd\"])\n",
        "\n",
        "user(fname = \"Peter\", lname = \"Norton\", username = \"pnorton\", pwd = \"12345\")"
      ],
      "metadata": {
        "id": "zp2SeqHjnLMc",
        "colab": {
          "base_uri": "https://localhost:8080/"
        },
        "outputId": "69c620e3-cc45-444e-ded9-a8970918fb93"
      },
      "execution_count": null,
      "outputs": [
        {
          "output_type": "stream",
          "name": "stdout",
          "text": [
            "Primeiro nome  : Peter\n",
            "Último nome    : Norton\n",
            "Nome de usuário: pnorton\n",
            "Senha          : 12345\n"
          ]
        }
      ]
    },
    {
      "cell_type": "code",
      "source": [
        "## Claro que a função anterior também pode ser implementada\n",
        "## utilizando um dicionário\n",
        "def user(args):\n",
        "  print(\"Primeiro nome  : \" + args[\"fname\"])\n",
        "  print(\"Último nome    : \" + args[\"lname\"])\n",
        "  print(\"Nome de usuário: \" + args[\"username\"])\n",
        "  print(\"Senha          : \" + args[\"pwd\"])\n",
        "\n",
        "user( dict(fname = \"Peter\", lname = \"Norton\", username = \"pnorton\", pwd = \"12345\") )"
      ],
      "metadata": {
        "id": "OvTy0oxqUiP4",
        "colab": {
          "base_uri": "https://localhost:8080/"
        },
        "outputId": "32cb7d84-a3f1-479a-c2fa-20c455ce5b6b"
      },
      "execution_count": null,
      "outputs": [
        {
          "output_type": "stream",
          "name": "stdout",
          "text": [
            "Primeiro nome  : Peter\n",
            "Último nome    : Norton\n",
            "Nome de usuário: pnorton\n",
            "Senha          : 12345\n"
          ]
        }
      ]
    },
    {
      "cell_type": "code",
      "source": [
        "# Esta função captura um sequência de itens em uma lista.\n",
        "def comprar(*lista):\n",
        "  for item in lista:\n",
        "    print(\"Preciso comprar \" + item + \".\")\n",
        "\n",
        "comprar(\"tomate\", \"cebola\", \"alface\")"
      ],
      "metadata": {
        "id": "xIJQAAHxOf0S",
        "colab": {
          "base_uri": "https://localhost:8080/"
        },
        "outputId": "ae7b96cf-8c09-4b80-b94e-28c412d2cb25"
      },
      "execution_count": null,
      "outputs": [
        {
          "output_type": "stream",
          "name": "stdout",
          "text": [
            "Preciso comprar tomate.\n",
            "Preciso comprar cebola.\n",
            "Preciso comprar alface.\n"
          ]
        }
      ]
    },
    {
      "cell_type": "code",
      "source": [
        "# Esta função combinam os dois conceitos.\n",
        "def planejar_viagem(destino, *rota, **veiculo):\n",
        "  print(\"Estou viajando para: \" + destino + \".\")\n",
        "\n",
        "  for item in rota:\n",
        "    print(\"Vou visitar: \" + item + \".\")\n",
        "\n",
        "  print(\"Vou utilizar: \" + veiculo[\"carro\"] +\n",
        "        \" de \" + str(veiculo[\"ano_fabricacao\"]) +\n",
        "        \" abastecido com \" + veiculo[\"combustivel\"] + \".\")\n",
        "\n",
        "planejar_viagem(\"Rio de Janeiro\", \"Goiânia\", \"Belo Horizonte\", \"São Paulo\",\n",
        "                carro=\"Corolla\", ano_fabricacao=2020, combustivel=\"gasolina\")"
      ],
      "metadata": {
        "id": "cd5omNczOfkI",
        "colab": {
          "base_uri": "https://localhost:8080/"
        },
        "outputId": "290302e7-3175-453c-9a31-4ce0409f5f69"
      },
      "execution_count": null,
      "outputs": [
        {
          "output_type": "stream",
          "name": "stdout",
          "text": [
            "Estou viajando para: Rio de Janeiro.\n",
            "Vou visitar: Goiânia.\n",
            "Vou visitar: Belo Horizonte.\n",
            "Vou visitar: São Paulo.\n",
            "Vou utilizar: Corolla de 2020 abastecido com gasolina.\n"
          ]
        }
      ]
    },
    {
      "cell_type": "code",
      "source": [
        "# No entanto, o forma convencional permite uma melhor organização do código.\n",
        "def planejar_viagem(destino, rota, veiculo):\n",
        "  print(\"Estou viajando para: \" + destino + \".\")\n",
        "\n",
        "  for item in rota:\n",
        "    print(\"Vou visitar: \" + item + \".\")\n",
        "\n",
        "  print(\"Vou utilizar: \" + veiculo[\"carro\"] +\n",
        "        \" de \" + str(veiculo[\"ano_fabricacao\"]) +\n",
        "        \" abastecido com \" + veiculo[\"combustivel\"] + \".\")\n",
        "\n",
        "planejar_viagem(\n",
        "    destino=\"Rio de Janeiro\",\n",
        "    rota = list( (\"Goiânia\", \"Belo Horizonte\", \"São Paulo\") ),\n",
        "    veiculo = dict(carro=\"Corolla\", ano_fabricacao=2020, combustivel=\"gasolina\")\n",
        "     )"
      ],
      "metadata": {
        "id": "CQms2ytgWCVY",
        "colab": {
          "base_uri": "https://localhost:8080/"
        },
        "outputId": "aada537b-06d4-4434-f41f-e6549a687371"
      },
      "execution_count": null,
      "outputs": [
        {
          "output_type": "stream",
          "name": "stdout",
          "text": [
            "Estou viajando para: Rio de Janeiro.\n",
            "Vou visitar: Goiânia.\n",
            "Vou visitar: Belo Horizonte.\n",
            "Vou visitar: São Paulo.\n",
            "Vou utilizar: Corolla de 2020 abastecido com gasolina.\n"
          ]
        }
      ]
    },
    {
      "cell_type": "markdown",
      "source": [
        "As funções admitem **valores padrão** para seus parâmetros:"
      ],
      "metadata": {
        "id": "KVMzPtnjn8D9"
      }
    },
    {
      "cell_type": "code",
      "source": [
        "def saudacao(nome=\"Visitante\", mensagem=\"Bem-vindo(a) ao nosso sistema!\"):\n",
        "    print(f\"Olá, {nome}! {mensagem}\")\n",
        "\n",
        "# Chamadas da função\n",
        "saudacao()  # Usa os valores padrão\n",
        "saudacao(\"Ana\")  # Usa um valor personalizado para 'nome'\n",
        "saudacao(\"Carlos\", \"Espero que você esteja aproveitando o conteúdo!\")  # Usa valores personalizados para ambos\n"
      ],
      "metadata": {
        "id": "PDuAeR4doGXX",
        "colab": {
          "base_uri": "https://localhost:8080/"
        },
        "outputId": "394e0b04-a37c-4b4b-964a-ba3172d8bda5"
      },
      "execution_count": null,
      "outputs": [
        {
          "output_type": "stream",
          "name": "stdout",
          "text": [
            "Olá, Visitante! Bem-vindo(a) ao nosso sistema!\n",
            "Olá, Ana! Bem-vindo(a) ao nosso sistema!\n",
            "Olá, Carlos! Espero que você esteja aproveitando o conteúdo!\n"
          ]
        }
      ]
    },
    {
      "cell_type": "markdown",
      "source": [
        "Explicação:\n",
        "\n",
        "* A função `saudacao` possui dois parâmetros, `nome` e `mensagem`, ambos com valores padrão.\n",
        "\n",
        "* Quando você chama a função sem argumentos, ela usa os valores padrão (\"Visitante\" e \"Bem-vindo(a) ao nosso sistema!\").\n",
        "\n",
        "* Ao fornecer valores, você substitui os valores padrão."
      ],
      "metadata": {
        "id": "FpwFnqM1XyQ7"
      }
    },
    {
      "cell_type": "markdown",
      "source": [
        "### Importante"
      ],
      "metadata": {
        "id": "9lFsxq6rRIvl"
      }
    },
    {
      "cell_type": "markdown",
      "source": [
        "* Os parâmetros sem valores padrão nas funções precisam *sempre* ser fornecidos.\n",
        "\n",
        "* Os parâmetros podem ser fornecidos fora de ordem, desde que sejam nomeados."
      ],
      "metadata": {
        "id": "fCBIvrJGo758"
      }
    },
    {
      "cell_type": "code",
      "source": [
        "def func(a, b, c):\n",
        "  pass    # Use 'pass' quando o bloco não tiver um corpo ainda!!!\n",
        "\n",
        "#func(1, 2)                  # ERRO: falta um dos parâmetros\n",
        "func(c = 2, a = 3, b = 5)    # Parâmetros fora de ordem devem ser nomeados."
      ],
      "metadata": {
        "id": "ojQGTKV4pKic"
      },
      "execution_count": null,
      "outputs": []
    },
    {
      "cell_type": "markdown",
      "source": [
        "### Documentação\n",
        "E interessante que uma função seja documentada descrevendo o que aquele código faz e como deve ser utilizado.\n",
        "\n",
        "\n"
      ],
      "metadata": {
        "id": "B0es4rotoQvf"
      }
    },
    {
      "cell_type": "code",
      "source": [
        "def area_retangulo(largura, altura=1):\n",
        "    \"\"\"\n",
        "    Calcula a área de um retângulo.\n",
        "\n",
        "    Esta função calcula a área de um retângulo multiplicando a largura pela altura.\n",
        "    Se a altura não for especificada, assume o valor padrão de 1, tornando a forma equivalente a uma linha.\n",
        "\n",
        "    Parameters:\n",
        "    largura (float): A largura do retângulo.\n",
        "    altura (float, opcional): A altura do retângulo. Padrão é 1.\n",
        "\n",
        "    Returns:\n",
        "    float: A área do retângulo calculada como largura * altura.\n",
        "\n",
        "    Example:\n",
        "    >>> calcular_area_retangulo(5, 10)\n",
        "    50\n",
        "    >>> calcular_area_retangulo(5)\n",
        "    5\n",
        "    \"\"\"\n",
        "    return largura * altura\n"
      ],
      "metadata": {
        "id": "chiywQcut1Hn"
      },
      "execution_count": null,
      "outputs": []
    },
    {
      "cell_type": "markdown",
      "source": [
        "Explicação da docstring:\n",
        "\n",
        "1. Descrição: A primeira linha explica o que a função faz de forma resumida.\n",
        "1. Detalhamento: Explica o funcionamento da função e descreve o valor padrão do argumento altura.\n",
        "1. Parâmetros: Detalha cada parâmetro, seu tipo e função na operação.\n",
        "1. Retorno: Descreve o que a função retorna e o tipo de dado esperado.\n",
        "1. Exemplos: Fornece exemplos de uso da função, com valores que mostram o comportamento padrão e personalizado.\n",
        "\n",
        "Esse padrão de documentação ajuda outros desenvolvedores a entender o uso e o comportamento da função."
      ],
      "metadata": {
        "id": "q9yqYG7mZ3P5"
      }
    },
    {
      "cell_type": "code",
      "source": [
        "## veja como o usuária pode consultar a documentação de uma função\n",
        "help(area_retangulo)"
      ],
      "metadata": {
        "id": "J3HHsMYLYfyG",
        "colab": {
          "base_uri": "https://localhost:8080/"
        },
        "outputId": "a9c6b3c8-af2b-44c6-caf8-c0845eddf0b6"
      },
      "execution_count": null,
      "outputs": [
        {
          "output_type": "stream",
          "name": "stdout",
          "text": [
            "Help on function area_retangulo in module __main__:\n",
            "\n",
            "area_retangulo(largura, altura=1)\n",
            "    Calcula a área de um retângulo.\n",
            "    \n",
            "    Esta função calcula a área de um retângulo multiplicando a largura pela altura.\n",
            "    Se a altura não for especificada, assume o valor padrão de 1, tornando a forma equivalente a uma linha.\n",
            "    \n",
            "    Parameters:\n",
            "    largura (float): A largura do retângulo.\n",
            "    altura (float, opcional): A altura do retângulo. Padrão é 1.\n",
            "    \n",
            "    Returns:\n",
            "    float: A área do retângulo calculada como largura * altura.\n",
            "    \n",
            "    Example:\n",
            "    >>> calcular_area_retangulo(5, 10)\n",
            "    50\n",
            "    >>> calcular_area_retangulo(5)\n",
            "    5\n",
            "\n"
          ]
        }
      ]
    },
    {
      "cell_type": "code",
      "source": [
        "## ou equivalentemente, podemos consultar o atributo __doc__\n",
        "print( area_retangulo.__doc__ )"
      ],
      "metadata": {
        "id": "ZuYRUhkSZryz",
        "colab": {
          "base_uri": "https://localhost:8080/"
        },
        "outputId": "367d1237-dc4a-4759-8110-061b374bf987"
      },
      "execution_count": null,
      "outputs": [
        {
          "output_type": "stream",
          "name": "stdout",
          "text": [
            "\n",
            "    Calcula a área de um retângulo.\n",
            "\n",
            "    Esta função calcula a área de um retângulo multiplicando a largura pela altura.\n",
            "    Se a altura não for especificada, assume o valor padrão de 1, tornando a forma equivalente a uma linha.\n",
            "\n",
            "    Parameters:\n",
            "    largura (float): A largura do retângulo.\n",
            "    altura (float, opcional): A altura do retângulo. Padrão é 1.\n",
            "\n",
            "    Returns:\n",
            "    float: A área do retângulo calculada como largura * altura.\n",
            "\n",
            "    Example:\n",
            "    >>> calcular_area_retangulo(5, 10)\n",
            "    50\n",
            "    >>> calcular_area_retangulo(5)\n",
            "    5\n",
            "    \n"
          ]
        }
      ]
    },
    {
      "cell_type": "code",
      "source": [
        "## Geralmente o editor de códigos exibem a docstring\n",
        "## automaticamente quando o usuário passa o mouse\n",
        "## sobre a função ou começa a digitá-la.\n",
        "\n",
        "## Como exemplo, passe o mouse sobre a chamada da função ou apague\n",
        "## e comece a digitar novamente o nome da função\n",
        "area_retangulo()"
      ],
      "metadata": {
        "id": "to3B4jpbakFx",
        "colab": {
          "base_uri": "https://localhost:8080/",
          "height": 176
        },
        "outputId": "293e73f5-88cd-4798-af3f-400b7fa0fa33"
      },
      "execution_count": null,
      "outputs": [
        {
          "output_type": "error",
          "ename": "TypeError",
          "evalue": "area_retangulo() missing 1 required positional argument: 'largura'",
          "traceback": [
            "\u001b[0;31m---------------------------------------------------------------------------\u001b[0m",
            "\u001b[0;31mTypeError\u001b[0m                                 Traceback (most recent call last)",
            "\u001b[0;32m<ipython-input-51-75dcdf481222>\u001b[0m in \u001b[0;36m<cell line: 7>\u001b[0;34m()\u001b[0m\n\u001b[1;32m      5\u001b[0m \u001b[0;31m## Como exemplo, passe o mouse sobre a chamada da função ou apague\u001b[0m\u001b[0;34m\u001b[0m\u001b[0;34m\u001b[0m\u001b[0m\n\u001b[1;32m      6\u001b[0m \u001b[0;31m## e comece a digitar novamente o nome da função\u001b[0m\u001b[0;34m\u001b[0m\u001b[0;34m\u001b[0m\u001b[0m\n\u001b[0;32m----> 7\u001b[0;31m \u001b[0marea_retangulo\u001b[0m\u001b[0;34m(\u001b[0m\u001b[0;34m)\u001b[0m\u001b[0;34m\u001b[0m\u001b[0;34m\u001b[0m\u001b[0m\n\u001b[0m",
            "\u001b[0;31mTypeError\u001b[0m: area_retangulo() missing 1 required positional argument: 'largura'"
          ]
        }
      ]
    },
    {
      "cell_type": "markdown",
      "source": [
        "### Exercício 1: Converter Celsius em Fahrenheit\n",
        "\n",
        "Crie uma função chamada `celsius_para_fahrenheit` que recebe uma temperatura em graus Celsius e retorna a temperatura equivalente em Fahrenheit. Faça um print do resultado.\n",
        "\n",
        "A fórmula de conversão é:\n",
        "$ 𝐹 = 𝐶 \\times 9/5 + 32$."
      ],
      "metadata": {
        "id": "sIKsst6rIIU4"
      }
    },
    {
      "cell_type": "markdown",
      "source": [
        "### Exercício 2: Cálcular área de uma sala\n",
        "\n",
        "Construa um função para calcular a área em metros de um sala. Essa função deve conter os seguintes argumentos de entrada e gerar a seguinte saída:\n",
        "\n",
        "*   Entrada:\n",
        "  * comprimento: uma variável numérica indicando o comprimento da sala em metros.\n",
        "  * largura:  uma variável numérica indicando a larguda da sala em metros.\n",
        "*   Saída: a sala possui \"comprimento*larguda\" metros quadrados.\n"
      ],
      "metadata": {
        "id": "ws9NLTwbpfOI"
      }
    },
    {
      "cell_type": "markdown",
      "source": [
        "# Recuperação de falhas"
      ],
      "metadata": {
        "id": "sSvSYtmCw5QB"
      }
    },
    {
      "cell_type": "markdown",
      "source": [
        "No *Python* quando um **erro** ocorre, o interpretador interrompe a execução e exibe uma **mensagem de erro**. Estes erros podem ser tratados com a palavra `try`."
      ],
      "metadata": {
        "id": "33Kf1HGAiha8"
      }
    },
    {
      "cell_type": "code",
      "source": [
        "# Este bloco gera um erro pois 'x' não está definida.\n",
        "try:\n",
        "  print(x)\n",
        "except:\n",
        "  print(\"Ocorreu uma excessão (erro)\")\n"
      ],
      "metadata": {
        "id": "DVNemK-jiwvO",
        "colab": {
          "base_uri": "https://localhost:8080/"
        },
        "outputId": "f347ba27-a32d-40fe-f2b7-0b29f88d9ddf"
      },
      "execution_count": null,
      "outputs": [
        {
          "output_type": "stream",
          "name": "stdout",
          "text": [
            "range(0, 6)\n"
          ]
        }
      ]
    },
    {
      "cell_type": "markdown",
      "source": [
        "É possível definir blocos `except` para diferentes tipos de erros."
      ],
      "metadata": {
        "id": "iLTTBmJ8jGpS"
      }
    },
    {
      "cell_type": "code",
      "source": [
        "def dividir_numeros(a, b):\n",
        "    \"\"\"\n",
        "    Divide dois números e trata o erro de divisão por zero.\n",
        "\n",
        "    Parameters:\n",
        "    a (float): O numerador.\n",
        "    b (float): O denominador.\n",
        "\n",
        "    Returns:\n",
        "    float: O resultado da divisão, se bem-sucedida.\n",
        "    \"\"\"\n",
        "    try:\n",
        "        resultado = a / b\n",
        "    except ZeroDivisionError:\n",
        "        print(\"Erro: Não é possível dividir por zero.\")\n",
        "        return None\n",
        "    except TypeError:\n",
        "        print(\"Erro: Ambos os valores devem ser números.\")\n",
        "        return None\n",
        "    else:\n",
        "        return resultado\n",
        "    finally:\n",
        "        print(\"Operação de divisão finalizada.\")\n",
        "\n",
        "# Exemplos de uso\n",
        "print(dividir_numeros(10, 2))  # Saída: 5.0\n",
        "print(dividir_numeros(10, 0))  # Saída: \"Erro: Não é possível dividir por zero.\"\n",
        "print(dividir_numeros(10, 'a'))  # Saída: \"Erro: Ambos os valores devem ser números.\"\n"
      ],
      "metadata": {
        "id": "JWk6yuDBdTD5",
        "colab": {
          "base_uri": "https://localhost:8080/"
        },
        "outputId": "ba655891-8c29-4dba-f283-35bbb432eee3"
      },
      "execution_count": null,
      "outputs": [
        {
          "output_type": "stream",
          "name": "stdout",
          "text": [
            "Operação de divisão finalizada.\n",
            "5.0\n",
            "Erro: Não é possível dividir por zero.\n",
            "Operação de divisão finalizada.\n",
            "None\n",
            "Erro: Ambos os valores devem ser números.\n",
            "Operação de divisão finalizada.\n",
            "None\n"
          ]
        }
      ]
    },
    {
      "cell_type": "markdown",
      "source": [
        "Explicação:\n",
        "\n",
        "* `try`: O bloco try executa o código que pode gerar uma exceção.\n",
        "* `except ZeroDivisionError`: Este bloco captura o erro de divisão por zero, exibindo uma mensagem de erro e retornando None.\n",
        "* `except TypeError`: Este bloco captura erros de tipo (caso um dos argumentos não seja um número), também exibindo uma mensagem e retornando None.\n",
        "* `else`: Executado apenas se o código no bloco try não gerar nenhuma exceção, retornando o resultado da divisão.\n",
        "* `finally`: Este bloco é sempre executado, independentemente de ocorrer uma exceção, e pode ser útil para limpar recursos ou informar o usuário sobre o fim da operação."
      ],
      "metadata": {
        "id": "5UOTCbeRdXuS"
      }
    },
    {
      "cell_type": "markdown",
      "source": [
        " A palavra `finally` pode ser utilizada para encerrar acessos e liberar recursos.\n",
        "\n",
        " No exemplo abaixo, o programa abre um arquivo e tenta escrever, mas caso seja gerado algum erro na escrita, então o `finally`é utilizado para fechar o arquivo."
      ],
      "metadata": {
        "id": "7brYJLpzkCZj"
      }
    },
    {
      "cell_type": "code",
      "source": [
        "try:\n",
        "  f = open(\"demofile.txt\")\n",
        "  try:\n",
        "    f.write(\"Lorem ipsum\")\n",
        "  except:\n",
        "    print(\"Não foi possível escrever no arquivo.\")\n",
        "  finally:\n",
        "    f.close()\n",
        "except:\n",
        "  print(\"Houve um erro na abertura do arquivo.\")"
      ],
      "metadata": {
        "id": "JUr3JaczkKGj",
        "colab": {
          "base_uri": "https://localhost:8080/"
        },
        "outputId": "acfbca36-70b3-40fa-c39a-be862f52b3be"
      },
      "execution_count": null,
      "outputs": [
        {
          "output_type": "stream",
          "name": "stdout",
          "text": [
            "Houve um erro na abertura do arquivo.\n"
          ]
        }
      ]
    },
    {
      "cell_type": "markdown",
      "source": [
        "Os diferentes tipos de erros definidos no *Python* estão descritos em https://docs.python.org/3/library/exceptions.html#bltin-exceptions"
      ],
      "metadata": {
        "id": "QEoSdD8VldYD"
      }
    },
    {
      "cell_type": "markdown",
      "source": [
        "# Modularização de códigos (bibliotecas)\n"
      ],
      "metadata": {
        "id": "nWvtlNk6rZjh"
      }
    },
    {
      "cell_type": "markdown",
      "source": [
        "Um **módulo** é o conceito usado pelo *Python* semelhante às bibliotecas no R ou no C: um arquivo contendo funções e classes que pode ser utilizado em outro arquivo de código.\n",
        "\n",
        "Para criar um **módulo** apenas grave o código com as funções e classes que deseja reaproveitar em um arquivo com extensão `.py`.\n",
        "\n",
        "**Exemplo**: Crie um arquivo chamado `meumodulo.py`:\n",
        "\n",
        "```python\n",
        "# No arquivo meumodulo.py\n",
        "def saudacao(nome):\n",
        "  print(\"Olá,\", nome)\n",
        "```\n",
        "\n",
        "Para utilizar um **módulo** basta importar o módulo com a palavra `import`.\n",
        "\n",
        "```python\n",
        "import meumodulo\n",
        "meumodulo.saudacao(\"Maria\")\n",
        "```\n",
        "\n",
        "Ao importar um módulo usando `import modulo`, o *Python* cria um novo **namespace** (espaço de nomes) chamado `modulo` com o conteúdo deste módulo. Para usar uma função definida no módulo use a sintaxe `modulo.funcao()` para informar que a `funcao()` está definida no *namespace* `modulo`.\n",
        "\n",
        "Os módulos podem conter funções e também podem conter vetores, dicionários, objetos, etc.\n",
        "\n",
        "```python\n",
        "# No arquivo meumodulo.py\n",
        "pessoa1 = {\n",
        "  \"nome\": \"João\",\n",
        "  \"idade\": 36,\n",
        "  \"país\": \"Noruega\"\n",
        "}\n",
        "```\n",
        "\n",
        "Importe o módulo chamado `meumodulo` e acesse o dicionário:\n",
        "```python\n",
        "import meumodulo\n",
        "print(meumodulo.pessoa1[\"idade\"])\n",
        "```\n",
        "\n",
        "É possível definir um **apelido** alterando o nome do *namespace* com o uso da palavra `as`:\n",
        "```python\n",
        "import meumodulo as mx\n",
        "print(mx.pessoa1[\"idade\"])\n",
        "```"
      ],
      "metadata": {
        "id": "ythSyQdrrwPK"
      }
    },
    {
      "cell_type": "markdown",
      "source": [
        "## Módulos do Python"
      ],
      "metadata": {
        "id": "SGfUXqaYteYp"
      }
    },
    {
      "cell_type": "markdown",
      "source": [
        "Existem diversos módulos pré-definidos no *Python* que podem ser importados com `import`:"
      ],
      "metadata": {
        "id": "XlfGEiSog2fD"
      }
    },
    {
      "cell_type": "code",
      "source": [
        "import platform\n",
        "print(platform.system())"
      ],
      "metadata": {
        "id": "3501ocqXhBkD",
        "colab": {
          "base_uri": "https://localhost:8080/"
        },
        "outputId": "e08f4f83-7b4e-4b9b-d8a0-ed5d780d5ad3"
      },
      "execution_count": null,
      "outputs": [
        {
          "output_type": "stream",
          "name": "stdout",
          "text": [
            "Linux\n"
          ]
        }
      ]
    },
    {
      "cell_type": "markdown",
      "source": [
        "A função `dir()` lista todos os elementos de um módulo."
      ],
      "metadata": {
        "id": "JIUDU_W2hKCl"
      }
    },
    {
      "cell_type": "code",
      "source": [
        "import math\n",
        "\n",
        "for item in dir(math):\n",
        "  print(item)"
      ],
      "metadata": {
        "id": "OQhiMCfhhOCV",
        "colab": {
          "base_uri": "https://localhost:8080/"
        },
        "outputId": "e0b752a4-5e8a-461e-d0cd-4c6825aa2207"
      },
      "execution_count": null,
      "outputs": [
        {
          "output_type": "stream",
          "name": "stdout",
          "text": [
            "__doc__\n",
            "__loader__\n",
            "__name__\n",
            "__package__\n",
            "__spec__\n",
            "acos\n",
            "acosh\n",
            "asin\n",
            "asinh\n",
            "atan\n",
            "atan2\n",
            "atanh\n",
            "ceil\n",
            "comb\n",
            "copysign\n",
            "cos\n",
            "cosh\n",
            "degrees\n",
            "dist\n",
            "e\n",
            "erf\n",
            "erfc\n",
            "exp\n",
            "expm1\n",
            "fabs\n",
            "factorial\n",
            "floor\n",
            "fmod\n",
            "frexp\n",
            "fsum\n",
            "gamma\n",
            "gcd\n",
            "hypot\n",
            "inf\n",
            "isclose\n",
            "isfinite\n",
            "isinf\n",
            "isnan\n",
            "isqrt\n",
            "lcm\n",
            "ldexp\n",
            "lgamma\n",
            "log\n",
            "log10\n",
            "log1p\n",
            "log2\n",
            "modf\n",
            "nan\n",
            "nextafter\n",
            "perm\n",
            "pi\n",
            "pow\n",
            "prod\n",
            "radians\n",
            "remainder\n",
            "sin\n",
            "sinh\n",
            "sqrt\n",
            "tan\n",
            "tanh\n",
            "tau\n",
            "trunc\n",
            "ulp\n"
          ]
        }
      ]
    },
    {
      "cell_type": "markdown",
      "source": [
        "É possível importar apenas partes de um módulo usando a palavra `from`. Veja o exemplo:\n"
      ],
      "metadata": {
        "id": "r1rESk6VhWhT"
      }
    },
    {
      "cell_type": "code",
      "source": [
        "from math import pi, sqrt\n",
        "\n",
        "print(pi)\n",
        "\n",
        "print(sqrt(25))"
      ],
      "metadata": {
        "id": "yM7O2lMMcMXl",
        "colab": {
          "base_uri": "https://localhost:8080/"
        },
        "outputId": "64d883e4-8af1-436a-a117-669bb5ae7e47"
      },
      "execution_count": null,
      "outputs": [
        {
          "output_type": "stream",
          "name": "stdout",
          "text": [
            "3.141592653589793\n",
            "5.0\n"
          ]
        }
      ]
    },
    {
      "cell_type": "markdown",
      "source": [
        "**Nota:** elementos importados com `from` não usam o nome do módulo. Note que no exemplo, usamos:\n",
        "* `pi` ao invés de `math.pi`;\n",
        "* `sqrt` ao invés de `math.sqrt`."
      ],
      "metadata": {
        "id": "hNeUuTYVcVp0"
      }
    },
    {
      "cell_type": "markdown",
      "source": [
        "## Instalando novos módulos"
      ],
      "metadata": {
        "id": "Vg5gyfQewfes"
      }
    },
    {
      "cell_type": "markdown",
      "source": [
        "No *Python* é possível instalar novos módulos com o comando `pip install modulo`."
      ],
      "metadata": {
        "id": "Xm4cJ1dgiJYC"
      }
    },
    {
      "cell_type": "markdown",
      "source": [
        "## Biblioteca Padrão do Python\n",
        "\n",
        "A **Biblioteca Padrão do Python** é um conjunto extenso de módulos e pacotes integrados que fornecem soluções para uma ampla gama de tarefas comuns, sem a necessidade de instalar bibliotecas adicionais. Ela inclui ferramentas para manipulação de arquivos, expressões regulares, cálculos matemáticos, comunicação de rede, criptografia, manipulação de dados e muito mais.\n",
        "\n",
        "Aqui estão alguns dos módulos mais utilizados da **Biblioteca Padrão**:\n",
        "\n",
        "1. **`math`**: Fornece funções matemáticas, como funções trigonométricas, exponenciais, fatoriais e arredondamento.\n",
        "1. **`statistics`**: Funções para cálculos básicos de estatísticas, como média, mediana, desvio padrão, correlação, etc.\n",
        "1. **`datetime`**: Manipula datas e horas, permitindo a criação, formatação e cálculo de intervalos de tempo.\n",
        "1. **`os`**: Oferece funções para interação com o sistema operacional, como manipulação de arquivos, diretórios e variáveis de ambiente.\n",
        "1. **`re`**: Oferece suporte a expressões regulares, permitindo a busca e manipulação de padrões em strings.\n",
        "1. **`http`**: Suporta funcionalidades de comunicação HTTP, como criação de servidores web e envio de requisições.\n",
        "\n",
        "A biblioteca padrão do Python é vasta, cobrindo uma ampla variedade de funcionalidades essenciais. Para mais detalhes, você pode consultar a [documentação oficial](https://docs.python.org/pt-br/3/library).\n"
      ],
      "metadata": {
        "id": "y6gpUNfkeqXK"
      }
    },
    {
      "cell_type": "markdown",
      "source": [
        "## Principais Bibliotecas do Python\n",
        "\n",
        "### 1. **NumPy**\n",
        "   - **Descrição**: Biblioteca fundamental para computação científica. Fornece suporte para arrays multidimensionais e funções matemáticas de alto nível.\n",
        "   - **Uso principal**: Operações numéricas, álgebra linear, transformadas de Fourier, geração de números aleatórios, manipulação de grandes volumes de dados.\n",
        "   - **Instalação**: `pip install numpy`\n",
        "\n",
        "### 2. **Pandas**\n",
        "   - **Descrição**: Ferramenta poderosa para análise e manipulação de dados em grandes volumes, com estrutura de DataFrames (tabela de dados) e Series (colunas individuais) para organizar, limpar e transformar dados de forma prática.\n",
        "   - **Uso principal**: Manipulação de dados tabulares, leitura/escrita de arquivos CSV, Excel, etc.\n",
        "   - **Instalação**: `pip install pandas`\n",
        "\n",
        "### 3. **Matplotlib**\n",
        "   - **Descrição**: Biblioteca para criação de gráficos 2D, como gráficos de linha, barras e dispersão.\n",
        "   - **Uso principal**: Visualização de dados através de gráficos.\n",
        "   - **Instalação**: `pip install matplotlib`\n",
        "\n",
        "### 4. **Seaborn**\n",
        "   - **Descrição**: Biblioteca de visualização de dados baseada no Matplotlib, com gráficos estatísticos.\n",
        "   - **Uso principal**: Criação de gráficos estatísticos simples como gráficos de densidade e correlação.\n",
        "   - **Instalação**: `pip install seaborn`\n",
        "\n",
        "### 5. **Scikit-learn**\n",
        "   - **Descrição**: Biblioteca para aprendizado de máquina, contendo ferramentas simples e eficientes para mineração de dados e análise preditiva.\n",
        "   - **Uso principal**: Regressão, classificação, clustering e pré-processamento de dados.\n",
        "   - **Instalação**: `pip install scikit-learn`\n",
        "\n",
        "### 6. **TensorFlow**\n",
        "   - **Descrição**: Biblioteca de aprendizado profundo e machine learning desenvolvida pelo Google.\n",
        "   - **Uso principal**: Treinamento de redes neurais, deep learning, reconhecimento de padrões.\n",
        "   - **Instalação**: `pip install tensorflow`\n",
        "\n",
        "### 7. **Keras**\n",
        "   - **Descrição**: Biblioteca de alto nível para construção e treinamento de redes neurais, que pode ser usada com TensorFlow.\n",
        "   - **Uso principal**: Simplificação do desenvolvimento de redes neurais.\n",
        "   - **Instalação**: `pip install keras`\n",
        "\n",
        "### 8. **Requests**\n",
        "   - **Descrição**: Biblioteca simples para fazer requisições HTTP de maneira fácil e eficiente.\n",
        "   - **Uso principal**: Comunicação com APIs e envio de requisições HTTP (GET, POST, etc.).\n",
        "   - **Instalação**: `pip install requests`\n",
        "\n",
        "### 9. **Flask**\n",
        "   - **Descrição**: Micro framework para o desenvolvimento de aplicações web e APIs.\n",
        "   - **Uso principal**: Criação rápida de APIs RESTful e pequenos sites.\n",
        "   - **Instalação**: `pip install flask`\n",
        "\n",
        "### 10. **BeautifulSoup**\n",
        "   - **Descrição**: Biblioteca para web scraping, usada para extrair dados de páginas HTML e XML.\n",
        "   - **Uso principal**: Extração de dados de sites.\n",
        "   - **Instalação**: `pip install beautifulsoup4`\n"
      ],
      "metadata": {
        "id": "Kp1EMOpRbnht"
      }
    },
    {
      "cell_type": "markdown",
      "source": [
        "# **Strings**\n",
        "\n",
        "Strings são um dos tipos de dados mais fundamentais, representando sequências de caracteres que permitem manipulações textuais variadas, como concatenação, fatiamento, busca e substituição de trechos.\n",
        "\n",
        "Para operações mais avançadas de processamento de texto, como a extração de padrões complexos ou a validação de formatos específicos (e-mails, números de telefone, etc.), Python oferece suporte a expressões regulares por meio do módulo `re`.\n",
        "\n",
        "Expressões regulares são ferramentas para definir padrões de busca que capturam, substituem ou transformam partes específicas de uma string, tornando-as essenciais para o processamento de grandes volumes de dados textuais e para a automação de tarefas que dependem de correspondências de padrões.\n"
      ],
      "metadata": {
        "id": "Efqoc768wU4j"
      }
    },
    {
      "cell_type": "markdown",
      "source": [
        "## Funções básicas\n",
        "\n",
        "Funções úteis para manipulação de strings:\n",
        "\n",
        "* `split()`: Divide uma string em uma lista de substrings com base em um delimitador (por padrão, divide por espaços). É útil para separar palavras ou partes de uma string.\n",
        "* `join()`: Concatena uma lista de strings usando um delimitador especificado. Útil para unir elementos em uma única string.\n",
        "* `replace()`: Substitui todas as ocorrências de uma substring por outra dentro de uma string. É usada para modificações localizadas de texto.\n",
        "* `upper()`, `lower()`: Convertem a string para letras maiúsculas ou minúsculas, respectivamente.\n",
        "* `title()`: Converte a primeira letra de cada palavra para maiúscula.\n",
        "* `strip()`: Remove espaços em branco (ou outros caracteres especificados) do início e do fim da string. Útil para limpar dados de entrada.\n",
        "* `count()`: Conta o número de ocorrências de uma substring na string.\n",
        "* `find()`: Retorna o índice da primeira ocorrência de uma substring dentro da string. Se a substring não for encontrada, retorna -1."
      ],
      "metadata": {
        "id": "p9OrJGdSp06H"
      }
    },
    {
      "cell_type": "code",
      "source": [
        "##Exemplo: Operações Básicas com Strings\n",
        "\n",
        "# Declaração de uma string\n",
        "texto = \"Olá, Mundo!\"\n",
        "\n",
        "# Acessando caracteres\n",
        "print(texto[0])   # Saída:  O\n",
        "print(texto[-1])  # Saída:  !\n",
        "\n",
        "# Fatiamento\n",
        "print(texto[0:5])  # Saída:  Olá,\n",
        "\n",
        "# Exemplo de lower()\n",
        "print(texto.lower())  # Saída:  olá, mundo!\n",
        "\n",
        "# Exemplo de upper()\n",
        "print(texto.upper())  # Saída:  OLÁ, MUNDO!\n",
        "\n",
        "# Exemplo de title()\n",
        "frase = \"python é incrível\"\n",
        "print(frase.title())  # Saída: \"Python É Incrível\""
      ],
      "metadata": {
        "id": "OCDEP208wuWU",
        "colab": {
          "base_uri": "https://localhost:8080/"
        },
        "outputId": "39ad0d7f-57c7-48da-ae4b-44fc27234dab"
      },
      "execution_count": null,
      "outputs": [
        {
          "output_type": "stream",
          "name": "stdout",
          "text": [
            "O\n",
            "!\n",
            "Olá, \n",
            "olá, mundo!\n",
            "OLÁ, MUNDO!\n",
            "Python É Incrível\n"
          ]
        }
      ]
    },
    {
      "cell_type": "code",
      "source": [
        "# Exemplo de replace()\n",
        "texto = \"Olá, Mundo!\"\n",
        "print(texto.replace(\"Mundo\", \"Python\"))  # Saída: Olá, Python!\n",
        "\n",
        "# Exemplo de strip()\n",
        "texto_com_espacos = \"   Olá, mundo!   \"\n",
        "print(texto_com_espacos.strip(\" \"))      # Saída: \"Olá, mundo!\"\n",
        "\n",
        "email = \" maria@unb.br \"\n",
        "print(email.strip(\" \"))                  # saida: \"maria@unb.br\"\n",
        "\n",
        "# Exemplo de find()\n",
        "frase = \"Python é incrível\"\n",
        "print(frase.find(\"é\"))                   # Saída: 7\n",
        "print(frase.find(\"Java\"))                # Saída: -1"
      ],
      "metadata": {
        "id": "11ziUBKQ0d9e",
        "colab": {
          "base_uri": "https://localhost:8080/"
        },
        "outputId": "1b38be44-9475-4e79-d0cb-cede13043c0d"
      },
      "execution_count": null,
      "outputs": [
        {
          "output_type": "stream",
          "name": "stdout",
          "text": [
            "Olá, Python!\n",
            "Olá, mundo!\n",
            "maria@unb.br\n",
            "7\n",
            "-1\n"
          ]
        }
      ]
    },
    {
      "cell_type": "code",
      "source": [
        "# Exemplos de split() e joing()\n",
        "mensagem = \"Python é uma linguagem poderosa\"\n",
        "\n",
        "exemplo_split = mensagem.split( )\n",
        "print(exemplo_split)  # Saída: ['Python', 'é', 'uma', 'linguagem', 'poderosa']\n",
        "\n",
        "exemplo_join = \" \".join( exemplo_split)\n",
        "print(exemplo_join)  # Saída: Python é uma linguagem poderosa\n",
        "\n",
        "exemplo_join2 = '_'.join( exemplo_split)\n",
        "print(exemplo_join2)  # Saída: Python é uma linguagem poderosa"
      ],
      "metadata": {
        "id": "Hw844YI9zHV9",
        "colab": {
          "base_uri": "https://localhost:8080/"
        },
        "outputId": "06aab5f4-2f96-4e5e-ee3c-12d52aff9d8b"
      },
      "execution_count": null,
      "outputs": [
        {
          "output_type": "stream",
          "name": "stdout",
          "text": [
            "['Python', 'é', 'uma', 'linguagem', 'poderosa']\n",
            "Python é uma linguagem poderosa\n",
            "Python_é_uma_linguagem_poderosa\n"
          ]
        }
      ]
    },
    {
      "cell_type": "markdown",
      "source": [
        "**Formatando Strings:**"
      ],
      "metadata": {
        "id": "W_4SpSnCw2ky"
      }
    },
    {
      "cell_type": "code",
      "execution_count": null,
      "metadata": {
        "id": "Kpbkz74GvvRW",
        "colab": {
          "base_uri": "https://localhost:8080/"
        },
        "outputId": "1c00cb53-5dcc-416c-bacb-f3c90fe86eb4"
      },
      "outputs": [
        {
          "output_type": "stream",
          "name": "stdout",
          "text": [
            "Meu nome é João e eu tenho 25 anos.\n",
            "Meu nome é João e eu tenho 25 anos.\n",
            "Meu nome é João e eu tenho 25 anos.\n"
          ]
        }
      ],
      "source": [
        "nome = \"João\"\n",
        "idade = 25\n",
        "# Usando f-strings (Python 3.6+)\n",
        "ex_f = f\"Meu nome é {nome} e eu tenho {idade} anos.\"\n",
        "print(ex_f)  # Meu nome é João e eu tenho 25 anos.\n",
        "\n",
        "# Usando o método format\n",
        "ex_format = \"Meu nome é {} e eu tenho {} anos.\".format(nome, idade)\n",
        "print(ex_format)  # Mesma saída.\n",
        "\n",
        "# Usando \"+\"\n",
        "ex_mais = \"Meu nome é \" + nome + \" e eu tenho \" + str(idade) + \" anos.\"\n",
        "print(ex_mais)"
      ]
    },
    {
      "cell_type": "markdown",
      "source": [
        "### Exercício 1:\n",
        "\n",
        "Crie uma função chamada `saudacao` que recebe dois parâmetros: `nome` e `sobrenome`. A função deve concatenar esses dois parâmetros para retornar uma saudação completa, como \"Olá, Nome Sobrenome!\"."
      ],
      "metadata": {
        "id": "lfP2g_Qy3glx"
      }
    },
    {
      "cell_type": "markdown",
      "source": [
        "### Exercício 2:\n",
        "\n",
        "Crie uma função chamada `extrair_dominio` que recebe um endereço de email como parâmetro e retorna apenas o domínio (parte após o @). Use `split()` para dividir o email e extrair o domínio.\n",
        "\n",
        "Exemplo:\n",
        "```python\n",
        "extrair_dominio(\"usuario@dominio.com\")  # Saída: \"dominio.com\"\n",
        "```\n"
      ],
      "metadata": {
        "id": "-7lOFN2p4NY9"
      }
    },
    {
      "cell_type": "markdown",
      "source": [],
      "metadata": {
        "id": "0o6vRsU4zjjk"
      }
    },
    {
      "cell_type": "markdown",
      "source": [
        "### Exercício 3:\n",
        "\n",
        "Construa um código que altera um número de telefone no formato \"61997351520\" para o formato \"(61) 99735-1520\".\n",
        "\n",
        "Exemplo:\n",
        "```python\n",
        "altera_telefone(61997351520)  # Saída: \"(61) 99735-1520\"\n",
        "```"
      ],
      "metadata": {
        "id": "ckeI1yU4zj9x"
      }
    },
    {
      "cell_type": "code",
      "source": [
        "def altera_telefone(numero):\n",
        "  numero = str(numero)\n",
        "  fatia1 = numero[0:2]\n",
        "  fatia2 = numero[2:7]\n",
        "  fatia3 = numero[7:11]\n",
        "  fatia4 = numero[11:13]\n",
        "  novo_numero = f\"({fatia1}) {fatia2}-{fatia3}{fatia4}\"\n",
        "  return novo_numero\n",
        "\n",
        "altera_telefone(61997351520)"
      ],
      "metadata": {
        "id": "YOWro67Tz4qM",
        "colab": {
          "base_uri": "https://localhost:8080/"
        },
        "outputId": "7a1ad78f-b1b4-4fff-93e6-71b203ffe95a"
      },
      "execution_count": null,
      "outputs": [
        {
          "output_type": "execute_result",
          "data": {
            "text/plain": [
              "'(61) 99735-1520'"
            ],
            "application/vnd.google.colaboratory.intrinsic+json": {
              "type": "string"
            }
          },
          "metadata": {},
          "execution_count": 62
        }
      ]
    },
    {
      "cell_type": "markdown",
      "source": [
        "## Expressões Regulares\n",
        "\n",
        "Trabalhar com dados textuais é uma tarefa comum em várias áreas de programação, como processamento de linguagem natural, análise de logs, extração de dados e muito mais.\n",
        "\n",
        "Para lidar eficientemente com textos e padrões em strings, Python oferece suporte a expressões regulares (Regex) por meio da biblioteca `re`."
      ],
      "metadata": {
        "id": "qHO6jOwsxGAK"
      }
    },
    {
      "cell_type": "markdown",
      "source": [
        "### Sintaxe de Expressões Regulares\n",
        "\n",
        "Os padrões são formados utilizando operadores, veja os mais comuns abaixo:\n",
        "\n",
        "| Símbolo | Significado                                    |\n",
        "|---------|------------------------------------------------|\n",
        "| `.`     | Qualquer caractere (exceto nova linha)         |\n",
        "| `\\d`    | Qualquer dígito (0-9)                          |\n",
        "| `\\D`    | Qualquer caractere que **não** é um dígito     |\n",
        "| `\\w`    | Qualquer caractere alfanumérico (qualquer letra ou dígito) ou (`_`)                                                      |\n",
        "| `\\W`    | Qualquer caractere que **não** pertence a classe `\\w`.|\n",
        "| `\\s`    | Qualquer espaço em branco (espaços, tabulações, quebras de linha)                                                     |\n",
        "| `\\S`    | Qualquer caractere que **não** pertence a classe `\\s`. |\n",
        "| `[]`    | Define um conjunto de caracteres, exemplo: [a-z] para letras minúsculas                                                 |\n",
        "| `{n}`   | Corresponde exatamente a `n` ocorrências do caractere ou padrão anterior.                                                  |\n",
        "| `{n,}`  | Corresponde a `n` ou mais ocorrências do caractere ou padrão anterior.                                                  |\n",
        "| `{n,m}` | Corresponde de `n` a `m` ocorrências do caractere ou padrão anterior.                                                  |\n",
        "| `+`     | Uma ou mais ocorrências                        |\n",
        "| `*`     | Zero ou mais ocorrências                       |\n",
        "| `?`     | Zero ou uma ocorrência                         |\n",
        "| `^`     | Início da string                               |\n",
        "| `$`     | Final da string                                |\n",
        "\n"
      ],
      "metadata": {
        "id": "ItWa8dsvxrJU"
      }
    },
    {
      "cell_type": "markdown",
      "source": [
        "### Principais Funções de `re`:\n",
        "\n",
        "* `re.search(padrão, string)`: Procura por um padrão em uma string. Retorna a primeira ocorrência encontrada.\n",
        "* `re.findall(padrão, string)`: Retorna todas as correspondências de um padrão em uma string.\n",
        "* `re.sub(padrão, substituição, string)`: Substitui as correspondências do padrão em uma string por outro valor. Retorna a string atualizada.\n",
        "* `re.split(pattern, string)`: Divide a string com base em um padrão e retorna uma lista. Útil para dividir a string usando delimitadores mais complexos que simples espaços ou vírgulas.\n"
      ],
      "metadata": {
        "id": "HdSi3FMG3ucj"
      }
    },
    {
      "cell_type": "markdown",
      "source": [
        "Existem outras funções e símbolos implementados na biblioteca `re`. Para mais detalhes acesse o manual da biblioteca: [https://docs.python.org/3/library/re.html](https://docs.python.org/3/library/re.html).\n",
        "\n",
        "Para entender como esses padrões podem ser utilizados, veja os exemplos abaixo."
      ],
      "metadata": {
        "id": "99Dekczd_S1o"
      }
    },
    {
      "cell_type": "markdown",
      "source": [
        "### Exemplo:  Encontrar todos os números em um texto"
      ],
      "metadata": {
        "id": "GoG2avqqmfII"
      }
    },
    {
      "cell_type": "markdown",
      "source": [
        "**Explicação:**\n",
        "\n",
        "O termo `padrao = r\"\\d+\"` define o padrão da expressão regular, em que:\n",
        "* `\\d` representa qualquer dígito numérico (0-9).\n",
        "* `+` indica que deve haver uma ou mais ocorrências de dígitos consecutivos.\n",
        "\n",
        "Assim, `\\d+` corresponde a qualquer sequência contínua de um ou mais dígitos, como 50 e 250."
      ],
      "metadata": {
        "id": "XoKsdEIsrjAY"
      }
    },
    {
      "cell_type": "code",
      "source": [
        "import re\n",
        "\n",
        "texto = \"O preço é 50 dólares ou 250 reais.\"\n",
        "\n",
        "padrao = r\"\\d+\"\n",
        "\n",
        "print(re.findall(padrao, texto))  # ['50', '250']"
      ],
      "metadata": {
        "id": "gFPQMn75zEfI",
        "colab": {
          "base_uri": "https://localhost:8080/"
        },
        "outputId": "7b6c0376-179f-429d-ce79-d7ff7b4c5be4"
      },
      "execution_count": null,
      "outputs": [
        {
          "output_type": "stream",
          "name": "stdout",
          "text": [
            "['50', '250']\n"
          ]
        }
      ]
    },
    {
      "cell_type": "code",
      "source": [
        "## no caso de querer tudo que não seja digitos:\n",
        "import re\n",
        "\n",
        "texto = \"O preço é 50 dólares ou 250 reais.\"\n",
        "\n",
        "padrao2 = r\"\\D+\"\n",
        "\n",
        "print(re.findall(padrao2, texto))  # ['O preço é ', ' dólares ou ', ' reais.']"
      ],
      "metadata": {
        "id": "rR6VZEz8CFgV",
        "colab": {
          "base_uri": "https://localhost:8080/"
        },
        "outputId": "2166f2e8-f07f-4947-a727-24e18debd77e"
      },
      "execution_count": null,
      "outputs": [
        {
          "output_type": "stream",
          "name": "stdout",
          "text": [
            "['O preço é ', ' dólares ou ', ' reais.']\n"
          ]
        }
      ]
    },
    {
      "cell_type": "markdown",
      "source": [
        "\n",
        "Também podemos identificar quantas ocorrências devem ser buscadas com `{ }`, por exemplo, `\"\\d{5}\"` indica uma sequência de 5 digitos. Veja como isso pode ser útil nos exemplos abaixo.\n",
        "\n",
        "### Exemplo: buscando telefones"
      ],
      "metadata": {
        "id": "r-dIBe1tsdkU"
      }
    },
    {
      "cell_type": "code",
      "source": [
        "## Exemplo: buscando telefones\n",
        "\n",
        "from re import search, findall\n",
        "\n",
        "texto = \"o meu número é (61) 99800-8584 e (11) 99785-2020\"\n",
        "\n",
        "# Regex para encontrar telefones\n",
        "padrao = r\"\\(\\d{2}\\) \\d{5}-\\d{4}\"\n",
        "\n",
        "## re.search localiza apenas a primeira ocorrência\n",
        "out_search = search( padrao, texto )\n",
        "\n",
        "print( out_search  )         # saida: <re.Match object; span=(15, 30), match='(61) 99800-8584'>\n",
        "print( out_search.group()  ) # saida: (61) 99800-8584\n",
        "\n",
        "## re.findall localiza todas as ocorrências\n",
        "out_findall = findall( padrao, texto )\n",
        "\n",
        "print( out_findall )         # saida: ['(61) 99800-8584', '(11) 99785-2020']\n",
        "\n",
        "## ultima ocorrência\n",
        "print( out_findall[-1] )     # saida: '(11) 99785-2020'\n"
      ],
      "metadata": {
        "id": "2mZbnRYrgBPA",
        "colab": {
          "base_uri": "https://localhost:8080/"
        },
        "outputId": "9b37a9c5-9575-4066-fdf0-25f654063de2"
      },
      "execution_count": null,
      "outputs": [
        {
          "output_type": "stream",
          "name": "stdout",
          "text": [
            "<re.Match object; span=(15, 30), match='(61) 99800-8584'>\n",
            "(61) 99800-8584\n",
            "['(61) 99800-8584', '(11) 99785-2020']\n",
            "(11) 99785-2020\n"
          ]
        }
      ]
    },
    {
      "cell_type": "markdown",
      "source": [
        "### Exemplo: buscandos datas"
      ],
      "metadata": {
        "id": "tFhyt9g7IYNX"
      }
    },
    {
      "cell_type": "code",
      "source": [
        "## Exemplo: buscandos datas\n",
        "\n",
        "from re import findall\n",
        "\n",
        "texto = \"Hoje é dia 02/10/2024 e o próximo evento será em 15/11/2024.\"\n",
        "\n",
        "# Regex para encontrar datas no formato DD/MM/AAAA\n",
        "padrao_data = r\"\\d{2}/\\d{2}/\\d{4}\"\n",
        "\n",
        "# re.findall localiza todas as ocorrências\n",
        "datas = findall(padrao_data, texto)\n",
        "\n",
        "print(datas)  # ['02/10/2024', '15/11/2024']"
      ],
      "metadata": {
        "id": "9IqwV2wn4ErD",
        "colab": {
          "base_uri": "https://localhost:8080/"
        },
        "outputId": "2ca9ea68-e01b-4977-b27f-de62e1d020af"
      },
      "execution_count": null,
      "outputs": [
        {
          "output_type": "stream",
          "name": "stdout",
          "text": [
            "['02/10/2024', '15/11/2024']\n"
          ]
        }
      ]
    },
    {
      "cell_type": "markdown",
      "source": [
        "### Exemplo: buscando emails\n",
        "\n",
        "**Explicação:**\n",
        "\n",
        "Padrão `r\"\\S+@\\S+\"`:\n",
        "\n",
        "* `\\S+`: Corresponde a uma sequência de caracteres não-espaços (letras, números ou símbolos) uma ou mais vezes.\n",
        "* `@`: Corresponde exatamente ao símbolo @, que é característico dos endereços de e-mail.\n",
        "* `\\S+` (após o @): Corresponde a mais uma sequência de caracteres não-espaços para identificar o domínio do e-mail."
      ],
      "metadata": {
        "id": "PwMGfLLHIb2i"
      }
    },
    {
      "cell_type": "code",
      "source": [
        "## Exemplo: buscando emails\n",
        "\n",
        "from re import findall\n",
        "\n",
        "texto = \"Se tiver problemas de conexão então envie um email para administrador@exemplo.com, mas se o problema persistir então entre em contato o sac pelo email sac@exemplo.com\"\n",
        "\n",
        "padrao = r\"\\S+@\\S+\"  # Padrão para e-mails\n",
        "\n",
        "emails = re.findall(padrao, texto)\n",
        "\n",
        "print(emails) # ['administrador@exemplo.com,', 'sac@exemplo.com']\n"
      ],
      "metadata": {
        "id": "yrvvFfLa4Tlg",
        "colab": {
          "base_uri": "https://localhost:8080/"
        },
        "outputId": "75fddf6d-ee2c-4ea4-fedd-0b7ea08ef483"
      },
      "execution_count": null,
      "outputs": [
        {
          "output_type": "stream",
          "name": "stdout",
          "text": [
            "['administrador@exemplo.com,', 'sac@exemplo.com']\n"
          ]
        }
      ]
    },
    {
      "cell_type": "markdown",
      "source": [
        "### Grupos e capturas\n",
        "\n",
        "As expressões regulares podem agrupar partes de um padrão usando parênteses, o que permite capturar subpartes específicas."
      ],
      "metadata": {
        "id": "b7r7yPKFIkU0"
      }
    },
    {
      "cell_type": "code",
      "source": [
        "## Exemplo: grupos e capturas\n",
        "\n",
        "# Explicação:\n",
        "# O padrão (\\w+) captura uma palavra (como o nome de um produto).\n",
        "# O padrão (\\d+) captura um ou mais dígitos (como o preço).\n",
        "\n",
        "import re\n",
        "\n",
        "texto = \"Produto: Camiseta, Preço: R$50.75\"\n",
        "padrao = r\"Produto: (\\w+), Preço: R\\$(\\d+\\.\\d+)\"\n",
        "resultado = re.search(padrao, texto)\n",
        "\n",
        "if resultado:\n",
        "    produto = resultado.group(1)  # 'Camiseta'\n",
        "    preco = resultado.group(2)    # '50.75'\n",
        "    print(f\"Produto: {produto}, Preço: R${preco}\")\n"
      ],
      "metadata": {
        "id": "ExMqyfjs5yKq",
        "colab": {
          "base_uri": "https://localhost:8080/"
        },
        "outputId": "56e53c86-7eca-46d8-d765-c85b56a7f73b"
      },
      "execution_count": null,
      "outputs": [
        {
          "output_type": "stream",
          "name": "stdout",
          "text": [
            "Produto: Camiseta, Preço: R$50.75\n"
          ]
        }
      ]
    },
    {
      "cell_type": "code",
      "source": [
        "# Explicação:\n",
        "# O padrão (\\w+) captura o nome.\n",
        "# O padrão (\\d+) captura a idade.\n",
        "\n",
        "import re\n",
        "\n",
        "texto = \"Nome: Ana, Idade: 25; Nome: João, Idade: 30; Nome: Maria, Idade: 22\"\n",
        "padrao = r\"Nome: (\\w+), Idade: (\\d+)\"\n",
        "pessoas = re.findall(padrao, texto)\n",
        "\n",
        "for nome, idade in pessoas:\n",
        "    print(f\"Nome: {nome}, Idade: {idade}\")\n"
      ],
      "metadata": {
        "id": "WgbeecsWFCz9",
        "colab": {
          "base_uri": "https://localhost:8080/"
        },
        "outputId": "1dd358a2-9f7a-41d9-e7df-7c151a0f5d25"
      },
      "execution_count": null,
      "outputs": [
        {
          "output_type": "stream",
          "name": "stdout",
          "text": [
            "Nome: Ana, Idade: 25\n",
            "Nome: João, Idade: 30\n",
            "Nome: Maria, Idade: 22\n"
          ]
        }
      ]
    },
    {
      "cell_type": "markdown",
      "source": [
        "### **Exemplo:** separando dia, mês e ano\n",
        "\n",
        "Considere o texto `Hoje é 15/10/2024.` e então extraia o dia, mês e ano. Utilize a função `re.search(padrao, texto)`."
      ],
      "metadata": {
        "id": "MsV9_TnP8tzS"
      }
    },
    {
      "cell_type": "code",
      "source": [
        "# Solução\n",
        "import re\n",
        "\n",
        "texto = \"Hoje é 15/10/2024.\"\n",
        "\n",
        "padrao = r\"(\\d{2})/(\\d{2})/(\\d{4})\"\n",
        "resultado = re.search(padrao, texto)\n",
        "\n",
        "if resultado:\n",
        "    dia, mes, ano = resultado.groups()\n",
        "    print(f\"Dia: {dia}, Mês: {mes}, Ano: {ano}\")"
      ],
      "metadata": {
        "id": "HwRYYtsT95TD",
        "colab": {
          "base_uri": "https://localhost:8080/"
        },
        "outputId": "5f79596f-a7b6-41f9-b3a5-617813b1b40a"
      },
      "execution_count": null,
      "outputs": [
        {
          "output_type": "stream",
          "name": "stdout",
          "text": [
            "Dia: 15, Mês: 10, Ano: 2024\n"
          ]
        }
      ]
    },
    {
      "cell_type": "markdown",
      "source": [
        "### **Exemplo:** formatando datas\n",
        "\n",
        "Dado o texto `\"Reunião em 12/09/2024 e evento em 10/12/2024\"`, substitua todas as datas pelo formato AAAA-MM-DD."
      ],
      "metadata": {
        "id": "qgEvrj8b68pC"
      }
    },
    {
      "cell_type": "code",
      "source": [
        "# Solução\n",
        "import re\n",
        "\n",
        "texto = \"Reunião em 12/09/2024 e evento em 10/12/2024.\"\n",
        "padrao = r\"(\\d{2})/(\\d{2})/(\\d{4})\"\n",
        "\n",
        "novo_texto = re.sub(padrao, r\"\\3-\\2-\\1\", texto)\n",
        "\n",
        "print(novo_texto)  # 'Reunião em 2024-09-12 e evento em 2024-12-10.'"
      ],
      "metadata": {
        "id": "nz6kMISN68Ya",
        "colab": {
          "base_uri": "https://localhost:8080/"
        },
        "outputId": "f3fe34bc-1fac-4982-9144-757e34ae0429"
      },
      "execution_count": null,
      "outputs": [
        {
          "output_type": "stream",
          "name": "stdout",
          "text": [
            "Reunião em 2024-09-12 e evento em 2024-12-10.\n"
          ]
        }
      ]
    },
    {
      "cell_type": "markdown",
      "source": [
        "*Explicação:*\n",
        "\n",
        "`re.sub(padrao, r\"\\3-\\2-\\1\", texto)`\n",
        "   - A função `re.sub()` substitui todas as ocorrências que correspondem ao padrão `(\\d{2})/(\\d{2})/(\\d{4})` no `texto` pela nova formatação especificada.\n",
        "   - **`r\"\\3-\\2-\\1\"`**: Reorganiza os grupos capturados para exibir a data no formato `AAAA-MM-DD`.\n",
        "     - `\\3` refere-se ao terceiro grupo (o ano).\n",
        "     - `\\2` refere-se ao segundo grupo (o mês).\n",
        "     - `\\1` refere-se ao primeiro grupo (o dia).\n",
        "   - Portanto, `12/09/2024` se torna `2024-09-12`, e `10/12/2024` se torna `2024-12-10`.\n"
      ],
      "metadata": {
        "id": "QUpjRsKut-6C"
      }
    },
    {
      "cell_type": "markdown",
      "source": [
        "### **Exemplo**: verificando CPF\n",
        "\n",
        "Crie uma expressão regular que valide se um CPF está no formato correto: xxx.xxx.xxx-xx, onde x é um dígito."
      ],
      "metadata": {
        "id": "McHg7wMx_TKm"
      }
    },
    {
      "cell_type": "code",
      "source": [
        "# Solução\n",
        "import re\n",
        "\n",
        "cpf = \"123.456.789-09\"\n",
        "padrao = r\"\\d{3}\\.\\d{3}\\.\\d{3}-\\d{2}\"\n",
        "\n",
        "if re.fullmatch(padrao, cpf): ## retorna True se a equivalência é perfeita.\n",
        "    print(\"CPF válido!\")\n",
        "else:\n",
        "    print(\"CPF inválido.\")\n"
      ],
      "metadata": {
        "id": "F1RsVgI38rQ3",
        "colab": {
          "base_uri": "https://localhost:8080/"
        },
        "outputId": "a653ecde-47ac-46f6-92ef-e649228ed04f"
      },
      "execution_count": null,
      "outputs": [
        {
          "output_type": "stream",
          "name": "stdout",
          "text": [
            "CPF válido!\n"
          ]
        }
      ]
    },
    {
      "cell_type": "markdown",
      "source": [
        "### **Exemplo**: Extração de URLs\n",
        "\n",
        "Dada uma string contendo várias URLs, extraia todas elas usando uma expressão regular.\n",
        "\n",
        "Neste caso, o padrão a ser buscado deve ser:\n",
        "\n",
        "`padrao = r\"https?://[a-zA-Z0-9.-]+\\.[a-zA-Z]{2,}\"`\n",
        "\n",
        "o qual é usado para capturar URLs que começam com `http` ou `https`, seguidos por um domínio e uma extensão de domínio de pelo menos dois caracteres.\n",
        "\n",
        "*Explicação do Padrão:*\n",
        "\n",
        "- `https?`:\n",
        "  - `http` é seguido por `s?`, onde `?` indica que o `s` é opcional.\n",
        "  - Isso permite capturar tanto `http` quanto `https`.\n",
        "\n",
        "- `://`:\n",
        "  - Representa exatamente os caracteres `://`, que aparecem logo após `http` ou `https` em URLs.\n",
        "\n",
        "- `[a-zA-Z0-9.-]+`:\n",
        "  - `[a-zA-Z0-9.-]` define um conjunto de caracteres permitidos:\n",
        "    - `a-z`: letras minúsculas.\n",
        "    - `A-Z`: letras maiúsculas.\n",
        "    - `0-9`: dígitos numéricos.\n",
        "    - `.` e `-`: pontos e hífens, comuns em domínios.\n",
        "  - `+` indica que deve haver **um ou mais desses caracteres**. Esse conjunto captura o domínio principal e subdomínios (por exemplo, `www`, `sub.exemplo`, `exemplo-com`).\n",
        "\n",
        "- `\\.[a-zA-Z]{2,}`:\n",
        "  - `\\.` corresponde exatamente a um ponto `.` (o caractere especial `.` é escapado com `\\`).\n",
        "  - `[a-zA-Z]{2,}` corresponde a uma sequência de letras (maiúsculas ou minúsculas) de **pelo menos dois caracteres**.\n",
        "  - Esse trecho captura a extensão do domínio, como `.com`, `.org`, `.net`, `.br`, etc.\n"
      ],
      "metadata": {
        "id": "DOkIVF6L79yS"
      }
    },
    {
      "cell_type": "code",
      "source": [
        "# Solução\n",
        "import re\n",
        "\n",
        "texto = \"Visite nossos sites: https://example.com e http://test.com.br para mais informações.\"\n",
        "\n",
        "padrao = r\"https?://[a-zA-Z0-9.-]+\\.[a-zA-Z]{2,}\"\n",
        "\n",
        "urls = re.findall(padrao, texto)\n",
        "print(urls)  # ['https://example.com', 'http://test.com.br']\n"
      ],
      "metadata": {
        "id": "6qJS4X898I5N",
        "colab": {
          "base_uri": "https://localhost:8080/"
        },
        "outputId": "3c1eae7a-2e85-4e2b-b4eb-5f57825c8c52"
      },
      "execution_count": null,
      "outputs": [
        {
          "output_type": "stream",
          "name": "stdout",
          "text": [
            "['https://example.com', 'http://test.com.br']\n"
          ]
        }
      ]
    },
    {
      "cell_type": "markdown",
      "source": [
        "### Exercício 4:\n",
        "\n",
        "Crie uma expressão regular que valide CEPs no formato XXXXX-XXX, onde X é um dígito. Escreva uma função validar_cep que recebe uma string e retorna True se o CEP for válido, caso contrário, False.\n",
        "\n",
        "```python\n",
        "validar_cep(\"12345-678\")  # True\n",
        "validar_cep(\"1234-678\")   # False\n",
        "```"
      ],
      "metadata": {
        "id": "cmG2LXeG_lhX"
      }
    },
    {
      "cell_type": "markdown",
      "source": [
        "### Exercício 5:\n",
        "\n",
        "Crie uma função que verifica se placas de carro estão no formato antigo brasileiro (AAA-1234), onde A é uma letra maiúscula e 1-4 são números.\n",
        "\n",
        "Exemplo:\n",
        "\n",
        "```python\n",
        "verifica_placa(\"PHL-2526\") # True\n",
        "verifica_placa(\"AAB9E81\")  # False\n",
        "```"
      ],
      "metadata": {
        "id": "53vX8uMMCS7E"
      }
    },
    {
      "cell_type": "markdown",
      "source": [
        "# Introdução ao NumPy"
      ],
      "metadata": {
        "id": "z-qiukcJzTIS"
      }
    },
    {
      "cell_type": "markdown",
      "source": [
        "O **NumPy** é uma das bibliotecas fundamentais para a computação científica em Python, sendo amplamente usada para trabalhar com arrays multidimensionais e operações matemáticas de alto desempenho. Ela fornece ferramentas para manipulação de dados, álgebra linear, estatísticas, etc.\n",
        "\n",
        "Mais detalhes podem ser encontrados no tutorial: https://numpy.org/devdocs/user/quickstart.html\n",
        "\n",
        "Esta é uma rápida introdução ao NumPy que demonstra como matrizes n-dimensionais são representadas e podem ser manipulatadas.\n",
        "\n",
        "A classe de matrizes do NumPy é chamada `ndarray`. Também é chamada pelo apelido `array`. Note que `numpy.array` não é o mesmo que a classe `array.array` da biblioteca padrão do Python, a qual manipula apenas vetores unidimensionais e oferecem menos funcionalidades.\n",
        "\n",
        "Os principais atributos de um objeto `ndarray` são:\n",
        "\n",
        "- `ndarray.ndim`: número de dimensões da matriz.\n",
        "\n",
        "- `ndarray.shape`: as dimensões da matriz. Uma tupla de inteiros indicando o tamanho em cada dimensão. Para uma matriz com linhas e colunas, o resultado será `(n, m)`. O tamanho da tupla é o mesmo que o número de eixos `ndim`.\n",
        "\n",
        "- `ndarray.size`: o número total de elementos na matriz. É igual ao produtos dos elementos do shape.\n",
        "\n",
        "- `ndarray.dtype`: um objeto que descreve o tipo dos elementos da matriz. Pode ser criado usando os tipos padrão do Python. Além destes, NumPy define outros tipos como `numpy.int32`, `numpy.int16`, e `numpy.float64`.\n",
        "\n",
        "- `ndarray.reshape`: permite alterar a dimensão de um array.\n"
      ],
      "metadata": {
        "id": "8-9lsUutzcVq"
      }
    },
    {
      "cell_type": "markdown",
      "source": [
        "## Criando Arrays\n",
        "\n",
        "O `array` é a estrutura de dados central do NumPy. Ele é mais eficiente e flexível do que as listas Python tradicionais.\n",
        "\n",
        "Importanto a biblioteca com\n",
        "```python\n",
        "import NumPy as np\n",
        "```\n",
        "\n",
        "Alguns módulos mais importantes da biblioteca são:\n",
        "\n",
        "* `np.array()`: cria arrays a partir de listas;\n",
        "* `np.zeros()`: cria um array preenchido com zeros;\n",
        "* `np.arange()`: cria um array com uma sequência de valores;\n",
        "* `np.linspace()`: cria um array de valores uniformemente espaçados.\n",
        "\n",
        "Veja os exemplo abaixo:"
      ],
      "metadata": {
        "id": "8wgGhC78jHsp"
      }
    },
    {
      "cell_type": "code",
      "source": [
        "import numpy as np\n",
        "\n",
        "# Criando um array a partir de uma lista:\n",
        "print(\"--a--\")\n",
        "a = np.array([1, 2, 3, 4])\n",
        "print(a)                  # Saída: [1 2 3 4] (vetor)\n",
        "print(\"type:\", type(a))   # Saída: <class 'numpy.ndarray'>\n",
        "print(\"dtype:\", a.dtype)  # Saída: int64\n",
        "print(\"size:\", a.size)    # Saída: 4\n",
        "print(\"ndim:\", a.ndim)    # Saída: 1\n",
        "print(\"shape:\", a.shape)  # Saída: (4,)\n",
        "print(\"-----\")\n",
        "\n",
        "# Arrays de múltiplas dimensões:\n",
        "print(\"--b--\")\n",
        "b = np.array([[1, 2, 3], [4, 5, 6]])\n",
        "print(b)                  # Saída: [[1 2 3] [4 5 6]] (matriz)\n",
        "print(\"type:\", type(b))   # Saída: <class 'numpy.ndarray'>\n",
        "print(\"dtype:\", b.dtype)  # Saída: int64\n",
        "print(\"size:\", b.size)    # Saída: 6\n",
        "print(\"ndim:\", b.ndim)    # Saída: 2\n",
        "print(\"shape:\", b.shape)  # Saída: (2, 3)\n",
        "print(\"-----\")\n",
        "\n",
        "# Arrays com valores predefinidos\n",
        "## Array de zeros:\n",
        "print(\"--zeros--\")\n",
        "zeros = np.zeros((2, 3))\n",
        "print(\"dtype:\", zeros.dtype)  # Saída: float64\n",
        "print(zeros)                  # Saída: [[0. 0. 0.] [0. 0. 0.]]\n",
        "print(\"-----\")\n",
        "\n",
        "## Array de uns:\n",
        "print(\"--ones--\")\n",
        "ones = np.ones((2, 2))    # Matriz 2x2 de uns\n",
        "print(ones)               # Saída: [[1. 1.] [1. 1.]]\n",
        "print(\"-----\")\n",
        "\n",
        "# Arrays sequenciais\n",
        "## Array com valores de 0 a 9:\n",
        "print(\"--seq--\")\n",
        "seq = np.arange(10)\n",
        "print(seq)                # Saída: [0 1 2 3 4 5 6 7 8 9]\n",
        "print(\"-----\")\n",
        "\n",
        "## Array com valores igualmente espaçados:\n",
        "print(\"--lin--\")\n",
        "lin_space = np.linspace(0, 1, 5)  # 5 valores igualmente espaçados entre 0 e 1\n",
        "print(lin_space)          # Saída: [0.   0.25 0.5  0.75 1.  ]\n",
        "print(\"-----\")"
      ],
      "metadata": {
        "id": "DYjubt7PjWjm",
        "colab": {
          "base_uri": "https://localhost:8080/"
        },
        "outputId": "ed7eb3b8-d8bb-4aaa-8ab4-4485cc35c8c2"
      },
      "execution_count": null,
      "outputs": [
        {
          "output_type": "stream",
          "name": "stdout",
          "text": [
            "--a--\n",
            "[1 2 3 4]\n",
            "type: <class 'numpy.ndarray'>\n",
            "dtype: int64\n",
            "size: 4\n",
            "ndim: 1\n",
            "shape: (4,)\n",
            "-----\n",
            "--b--\n",
            "[[1 2 3]\n",
            " [4 5 6]]\n",
            "type: <class 'numpy.ndarray'>\n",
            "dtype: int64\n",
            "size: 6\n",
            "ndim: 2\n",
            "shape: (2, 3)\n",
            "-----\n",
            "--zeros--\n",
            "dtype: float64\n",
            "[[0. 0. 0.]\n",
            " [0. 0. 0.]]\n",
            "-----\n",
            "--ones--\n",
            "[[1. 1.]\n",
            " [1. 1.]]\n",
            "-----\n",
            "--seq--\n",
            "[0 1 2 3 4 5 6 7 8 9]\n",
            "-----\n",
            "--lin--\n",
            "[0.   0.25 0.5  0.75 1.  ]\n",
            "-----\n"
          ]
        }
      ]
    },
    {
      "cell_type": "markdown",
      "source": [
        "A dimensão de um array pode ser alterada utilizando o atributo `.reshape`. Veja o exemplo:"
      ],
      "metadata": {
        "id": "ymS47PlNswZr"
      }
    },
    {
      "cell_type": "code",
      "source": [
        "seq = np.arange(12) ## vetor\n",
        "print(seq)  # Saída: [0 1 2 3 4 5 6 7 8 9 10 11]\n",
        "print(\"-----\")\n",
        "\n",
        "a = seq.reshape(3, 4)  ## matriz 3x4\n",
        "print(a)  # Saída: [[ 0  1  2  3] [ 4  5  6  7] [ 8  9 10 11]]\n",
        "print(\"-----\")\n",
        "\n",
        "b = seq.reshape(4, 3)  ## matriz 4x3\n",
        "print(b)  # Saída: [[ 0  1  2] [ 3  4  5] [ 6  7  8] [ 9 10 11]]\n"
      ],
      "metadata": {
        "id": "PetCK-bVs41_",
        "colab": {
          "base_uri": "https://localhost:8080/"
        },
        "outputId": "2e726a4c-1386-4efa-86f0-a4f4a5c9b1eb"
      },
      "execution_count": null,
      "outputs": [
        {
          "output_type": "stream",
          "name": "stdout",
          "text": [
            "[ 0  1  2  3  4  5  6  7  8  9 10 11]\n",
            "-----\n",
            "[[ 0  1  2  3]\n",
            " [ 4  5  6  7]\n",
            " [ 8  9 10 11]]\n",
            "-----\n",
            "[[ 0  1  2]\n",
            " [ 3  4  5]\n",
            " [ 6  7  8]\n",
            " [ 9 10 11]]\n"
          ]
        }
      ]
    },
    {
      "cell_type": "markdown",
      "source": [
        "Existem diversas formas de se criar matrizes:"
      ],
      "metadata": {
        "id": "MWQ3hdg69flQ"
      }
    },
    {
      "cell_type": "code",
      "source": [
        "# O tipo é deduzido dos elementos.\n",
        "import numpy as np\n",
        "a = np.array([2, 3, 4])\n",
        "print(a)\n",
        "a.dtype     ## exibe: dtype('int64')"
      ],
      "metadata": {
        "id": "XktvaZAt-R04",
        "colab": {
          "base_uri": "https://localhost:8080/"
        },
        "outputId": "2ed8d920-7f68-4f08-b3f9-a91fb1dd6426"
      },
      "execution_count": null,
      "outputs": [
        {
          "output_type": "stream",
          "name": "stdout",
          "text": [
            "[2 3 4]\n"
          ]
        },
        {
          "output_type": "execute_result",
          "data": {
            "text/plain": [
              "dtype('int64')"
            ]
          },
          "metadata": {},
          "execution_count": 76
        }
      ]
    },
    {
      "cell_type": "code",
      "source": [
        "b = np.array([1.2, 3.5, 5.1])\n",
        "print(b)\n",
        "b.dtype   ## exibe: dtype('float64')"
      ],
      "metadata": {
        "id": "w8GtcqHb-gfP",
        "colab": {
          "base_uri": "https://localhost:8080/"
        },
        "outputId": "69ad4b54-5e00-435e-835e-0b06b289ef14"
      },
      "execution_count": null,
      "outputs": [
        {
          "output_type": "stream",
          "name": "stdout",
          "text": [
            "[1.2 3.5 5.1]\n"
          ]
        },
        {
          "output_type": "execute_result",
          "data": {
            "text/plain": [
              "dtype('float64')"
            ]
          },
          "metadata": {},
          "execution_count": 77
        }
      ]
    },
    {
      "cell_type": "markdown",
      "source": [
        "Um erro frequente consiste em chamar array com múltiplos argumentos, ao invés de uma sequência."
      ],
      "metadata": {
        "id": "J9mts1m9-SD_"
      }
    },
    {
      "cell_type": "code",
      "source": [
        "#a = np.array(1, 2, 3, 4)     # TypeError\n",
        "a = np.array([1, 2, 3, 4])   # CORRETO!"
      ],
      "metadata": {
        "id": "m84CUTVD-vfh"
      },
      "execution_count": null,
      "outputs": []
    },
    {
      "cell_type": "markdown",
      "source": [
        "`np.array` transforma sequência de sequências em matrizes bidimensionais, sequências de sequências de sequências em matrizes tridimensionais, etc."
      ],
      "metadata": {
        "id": "6VdCG1kf-8h_"
      }
    },
    {
      "cell_type": "code",
      "source": [
        "b = np.array([(1.5, 2, 3), (4, 5, 6)])\n",
        "b"
      ],
      "metadata": {
        "id": "VOIOEMgR_HgJ",
        "colab": {
          "base_uri": "https://localhost:8080/"
        },
        "outputId": "41c99936-4683-4d93-eb02-fad701a3ed62"
      },
      "execution_count": null,
      "outputs": [
        {
          "output_type": "execute_result",
          "data": {
            "text/plain": [
              "array([[1.5, 2. , 3. ],\n",
              "       [4. , 5. , 6. ]])"
            ]
          },
          "metadata": {},
          "execution_count": 79
        }
      ]
    },
    {
      "cell_type": "markdown",
      "source": [
        "O tipo da matriz pode ser especificado explicitamente na criação:"
      ],
      "metadata": {
        "id": "XDj8yo49_Htv"
      }
    },
    {
      "cell_type": "code",
      "source": [
        "c = np.array([[1, 2], [3, 4]], dtype= complex)\n",
        "c"
      ],
      "metadata": {
        "id": "EuDnS1PV_pHx",
        "colab": {
          "base_uri": "https://localhost:8080/"
        },
        "outputId": "86df9dae-9f97-46ab-d02b-d4956cb687e8"
      },
      "execution_count": null,
      "outputs": [
        {
          "output_type": "execute_result",
          "data": {
            "text/plain": [
              "array([[1.+0.j, 2.+0.j],\n",
              "       [3.+0.j, 4.+0.j]])"
            ]
          },
          "metadata": {},
          "execution_count": 80
        }
      ]
    },
    {
      "cell_type": "markdown",
      "source": [
        "Frequentemente, os elementos de uma matriz são originalmente desconhecidos, mas seu tamanho é conhecido. Entretanto, NumPy oferece várias funções para criar matrizes com valores coringa. Isto minimiza a necessidade de expandir matrizes, uma operação intensiva computacionalmente.\n",
        "\n",
        "A função `zeros()` cria uma matriz de `0`s, a função `ones()` cria uma matriz de `1`s, e a função `empty()` cria uma matriz cujo conteúdo inicial é o conteúdo presente na memória. Por padrão o `dtype` da matriz criada é `float64`, mas pode ser especificado pelo argumento `dtype`."
      ],
      "metadata": {
        "id": "jyeoSHIv_pYv"
      }
    },
    {
      "cell_type": "code",
      "source": [
        "np.zeros((3, 4))    # Cria uma matriz 3 por 4 com todos os elementos iguais a 0."
      ],
      "metadata": {
        "id": "S_TgV2pCAR9h",
        "colab": {
          "base_uri": "https://localhost:8080/"
        },
        "outputId": "13871105-0f55-4e95-d92c-03bd9eda2d37"
      },
      "execution_count": null,
      "outputs": [
        {
          "output_type": "execute_result",
          "data": {
            "text/plain": [
              "array([[0., 0., 0., 0.],\n",
              "       [0., 0., 0., 0.],\n",
              "       [0., 0., 0., 0.]])"
            ]
          },
          "metadata": {},
          "execution_count": 81
        }
      ]
    },
    {
      "cell_type": "code",
      "source": [
        "np.ones((2, 3, 4), dtype= np.int16)    # Cria uma matriz 2 por 3 por 4 com todos os elementos iguais a 1."
      ],
      "metadata": {
        "id": "KUba37wxAVjg",
        "colab": {
          "base_uri": "https://localhost:8080/"
        },
        "outputId": "cd020950-012e-4931-ecbf-30a9f9e6d1c8"
      },
      "execution_count": null,
      "outputs": [
        {
          "output_type": "execute_result",
          "data": {
            "text/plain": [
              "array([[[1, 1, 1, 1],\n",
              "        [1, 1, 1, 1],\n",
              "        [1, 1, 1, 1]],\n",
              "\n",
              "       [[1, 1, 1, 1],\n",
              "        [1, 1, 1, 1],\n",
              "        [1, 1, 1, 1]]], dtype=int16)"
            ]
          },
          "metadata": {},
          "execution_count": 82
        }
      ]
    },
    {
      "cell_type": "code",
      "source": [
        "np.empty((2, 3))    # Cria uma matriz 2 por 3 sem inicializar os elementos."
      ],
      "metadata": {
        "id": "1CewcvTSAVRo",
        "colab": {
          "base_uri": "https://localhost:8080/"
        },
        "outputId": "6705f4be-b616-4e71-c582-91e5a5f7068b"
      },
      "execution_count": null,
      "outputs": [
        {
          "output_type": "execute_result",
          "data": {
            "text/plain": [
              "array([[1.5, 2. , 3. ],\n",
              "       [4. , 5. , 6. ]])"
            ]
          },
          "metadata": {},
          "execution_count": 83
        }
      ]
    },
    {
      "cell_type": "markdown",
      "source": [
        "Para criar sequências de números o NumPy fornece a função `arange()` que é análoga à função `range()` do Python mas que retorna uma matriz."
      ],
      "metadata": {
        "id": "MtyUAHxRASXg"
      }
    },
    {
      "cell_type": "code",
      "source": [
        "np.arange(10, 30, 5)    # Cria um vetor com elementos de 10 a 30 com passo 5."
      ],
      "metadata": {
        "id": "UdhLYhTrA4-A",
        "colab": {
          "base_uri": "https://localhost:8080/"
        },
        "outputId": "d55d5f11-179b-4aac-e249-9deead91c3e3"
      },
      "execution_count": null,
      "outputs": [
        {
          "output_type": "execute_result",
          "data": {
            "text/plain": [
              "array([10, 15, 20, 25])"
            ]
          },
          "metadata": {},
          "execution_count": 84
        }
      ]
    },
    {
      "cell_type": "code",
      "source": [
        "np.arange(0, 2, .3)    # Cria um vetor com elementos de 0 a 2 com passo 0.3."
      ],
      "metadata": {
        "id": "FwmCZbZiA_J3",
        "colab": {
          "base_uri": "https://localhost:8080/"
        },
        "outputId": "85213ca9-f434-473b-8c14-5ee557985aac"
      },
      "execution_count": null,
      "outputs": [
        {
          "output_type": "execute_result",
          "data": {
            "text/plain": [
              "array([0. , 0.3, 0.6, 0.9, 1.2, 1.5, 1.8])"
            ]
          },
          "metadata": {},
          "execution_count": 85
        }
      ]
    },
    {
      "cell_type": "markdown",
      "source": [
        "Ao usar `arange()` com números não inteiros pode não ser possível predizer a quantidade de elementos obtidos devido à precisão do ponto flutuante. Melhor usar `linspace()` passando o número de elementos:"
      ],
      "metadata": {
        "id": "82TN58SYA5Mn"
      }
    },
    {
      "cell_type": "code",
      "source": [
        "from numpy import pi\n",
        "x = np.linspace(0, 2 * pi, 100)  # Cria um vetor com 100 elementos entre 0 e 2pi.\n",
        "f = np.sin(x)                    # Aplica a função seno a cada elemento do vetor."
      ],
      "metadata": {
        "id": "_NYUTBMSBUk5"
      },
      "execution_count": null,
      "outputs": []
    },
    {
      "cell_type": "markdown",
      "source": [
        "O NumPy exibe a matriz de forma similar à listas aninhadas com o seguinte layout:\n",
        "\n",
        "- O último eixo é exibido da esquerda para a direita;\n",
        "\n",
        "- O penúltimo eixo é exibido de cima para baixo;\n",
        "\n",
        "- Os demais eixos são exibidos de cima para baixo separados por uma linha em branco;\n",
        "\n",
        "Vetores (unidimensional) são exibidos como vetorlinhas, matrizes bidimensionais como matrizes e matrizes tridimensionais como lista de matrizes."
      ],
      "metadata": {
        "id": "UnAroZ92BU3A"
      }
    },
    {
      "cell_type": "code",
      "source": [
        "a = np.arange(6)    # Cria um vetor com 6 elementos de 0 a 5.\n",
        "print(a)"
      ],
      "metadata": {
        "id": "qlldY-1eB3Yx",
        "colab": {
          "base_uri": "https://localhost:8080/"
        },
        "outputId": "c3c8fe34-d666-4f6e-fbe7-178c02265b52"
      },
      "execution_count": null,
      "outputs": [
        {
          "output_type": "stream",
          "name": "stdout",
          "text": [
            "[0 1 2 3 4 5]\n"
          ]
        }
      ]
    },
    {
      "cell_type": "code",
      "source": [
        "b = np.arange(12).reshape(4, 3)    # Cria uma matriz 4 por 3.\n",
        "print(b)"
      ],
      "metadata": {
        "id": "YEf7325YB5f_",
        "colab": {
          "base_uri": "https://localhost:8080/"
        },
        "outputId": "a593a1f4-44ad-4e08-81d4-ca9b9ba0688f"
      },
      "execution_count": null,
      "outputs": [
        {
          "output_type": "stream",
          "name": "stdout",
          "text": [
            "[[ 0  1  2]\n",
            " [ 3  4  5]\n",
            " [ 6  7  8]\n",
            " [ 9 10 11]]\n"
          ]
        }
      ]
    },
    {
      "cell_type": "code",
      "source": [
        "c = np.arange(24).reshape(2, 3, 4)  # Cria uma matriz 2 por 3 por 4.\n",
        "print(c)"
      ],
      "metadata": {
        "id": "QOvffrdMB6VH",
        "colab": {
          "base_uri": "https://localhost:8080/"
        },
        "outputId": "9e29be6e-a45c-45db-8b83-a5c91f1ea90c"
      },
      "execution_count": null,
      "outputs": [
        {
          "output_type": "stream",
          "name": "stdout",
          "text": [
            "[[[ 0  1  2  3]\n",
            "  [ 4  5  6  7]\n",
            "  [ 8  9 10 11]]\n",
            "\n",
            " [[12 13 14 15]\n",
            "  [16 17 18 19]\n",
            "  [20 21 22 23]]]\n"
          ]
        }
      ]
    },
    {
      "cell_type": "markdown",
      "source": [
        "Se a matriz é muito grande o NumPy automaticamente omite a parte central da matriz:"
      ],
      "metadata": {
        "id": "i9I0NDwJB3pA"
      }
    },
    {
      "cell_type": "code",
      "source": [
        "print(np.arange(10000))"
      ],
      "metadata": {
        "id": "YQgXgUeUCV2w",
        "colab": {
          "base_uri": "https://localhost:8080/"
        },
        "outputId": "a9f2a278-002f-4a0c-e59b-91a427f8d347"
      },
      "execution_count": null,
      "outputs": [
        {
          "output_type": "stream",
          "name": "stdout",
          "text": [
            "[   0    1    2 ... 9997 9998 9999]\n"
          ]
        }
      ]
    },
    {
      "cell_type": "code",
      "source": [
        "print(np.arange(10000).reshape(100, 100))"
      ],
      "metadata": {
        "id": "p8cvmrIyCb3_",
        "colab": {
          "base_uri": "https://localhost:8080/"
        },
        "outputId": "3e022c1b-6114-4ae5-962c-68d8de07fd84"
      },
      "execution_count": null,
      "outputs": [
        {
          "output_type": "stream",
          "name": "stdout",
          "text": [
            "[[   0    1    2 ...   97   98   99]\n",
            " [ 100  101  102 ...  197  198  199]\n",
            " [ 200  201  202 ...  297  298  299]\n",
            " ...\n",
            " [9700 9701 9702 ... 9797 9798 9799]\n",
            " [9800 9801 9802 ... 9897 9898 9899]\n",
            " [9900 9901 9902 ... 9997 9998 9999]]\n"
          ]
        }
      ]
    },
    {
      "cell_type": "markdown",
      "source": [
        "Para disabilitar, mude a opção usando:\n",
        "\n",
        "```python\n",
        "np.set_printoptions(threshold= sys.maxsize)\n",
        "```"
      ],
      "metadata": {
        "id": "DCc5iGzQCWFf"
      }
    },
    {
      "cell_type": "markdown",
      "source": [
        "## Exercício 1\n",
        "\n",
        "a) Crie um array de zeros com forma 3x3.\n",
        "\n",
        "b) Crie um array com números de 1 a 20, com passo de 3.\n"
      ],
      "metadata": {
        "id": "gxA0rbWh4cUi"
      }
    },
    {
      "cell_type": "code",
      "source": [
        "# item a\n",
        "a = np.zeros((3,3))\n",
        "a"
      ],
      "metadata": {
        "colab": {
          "base_uri": "https://localhost:8080/"
        },
        "id": "_T8pAmL-Vr6Q",
        "outputId": "549bd77e-1c23-4534-a2d5-8030a2c92d27"
      },
      "execution_count": null,
      "outputs": [
        {
          "output_type": "execute_result",
          "data": {
            "text/plain": [
              "array([[0., 0., 0.],\n",
              "       [0., 0., 0.],\n",
              "       [0., 0., 0.]])"
            ]
          },
          "metadata": {},
          "execution_count": 112
        }
      ]
    },
    {
      "cell_type": "code",
      "source": [
        "# item b\n",
        "b = np.arange(1,20,3)\n",
        "b"
      ],
      "metadata": {
        "colab": {
          "base_uri": "https://localhost:8080/"
        },
        "id": "YjWlp_agVvr3",
        "outputId": "75425b75-a6b8-485b-b916-38e6b7566ca8"
      },
      "execution_count": null,
      "outputs": [
        {
          "output_type": "execute_result",
          "data": {
            "text/plain": [
              "array([ 1,  4,  7, 10, 13, 16, 19])"
            ]
          },
          "metadata": {},
          "execution_count": 115
        }
      ]
    },
    {
      "cell_type": "markdown",
      "source": [
        "## Operações básicas"
      ],
      "metadata": {
        "id": "OPcT67OACqKP"
      }
    },
    {
      "cell_type": "markdown",
      "source": [
        "Operadores aritméticos são aplicados em cada elemento. Uma nova matriz com o resultado é criada."
      ],
      "metadata": {
        "id": "08EEy92DCq1X"
      }
    },
    {
      "cell_type": "code",
      "source": [
        "a = np.array([2, 5, 4, 0])    # Cria um vetor com os vetores passados.\n",
        "b = np.arange(4)              # Cria um vetor com os valores 0, 1, 2, 3.\n",
        "\n",
        "print(a, \"\\n\")                # Exibe o vetor a.\n",
        "print(a+2, \"\\n\")              # Adição elemento a elemento.\n",
        "print(a+b, \"\\n\")              # Adição elemento a elemento.\n",
        "print(a-b, \"\\n\")              # Subtração elemento a elemento.\n",
        "print(b**2, \"\\n\")             # Exibe o vetor com os quadrados dos elementos de b.\n",
        "print(10 * np.sin(a), \"\\n\")   # Calcula 10 vezes seno dos elementos do vetor a.\n",
        "print(a < 3, \"\\n\")            # Retorna um vetor booleano com True para cada elemento menor que 35."
      ],
      "metadata": {
        "id": "4WondI1UDNc4",
        "colab": {
          "base_uri": "https://localhost:8080/"
        },
        "outputId": "f4b5caf7-9d6f-4ed8-e4b8-9ebf541d40ca"
      },
      "execution_count": null,
      "outputs": [
        {
          "output_type": "stream",
          "name": "stdout",
          "text": [
            "[2 5 4 0] \n",
            "\n",
            "[4 7 6 2] \n",
            "\n",
            "[2 6 6 3] \n",
            "\n",
            "[ 2  4  2 -3] \n",
            "\n",
            "[0 1 4 9] \n",
            "\n",
            "[ 9.09297427 -9.58924275 -7.56802495  0.        ] \n",
            "\n",
            "[ True False False  True] \n",
            "\n"
          ]
        }
      ]
    },
    {
      "cell_type": "markdown",
      "source": [
        "O operador produto `*` opera elemento-a-elemento. O produto matricial é feito com `@` (Python >=3.5) ou com `dot()`:"
      ],
      "metadata": {
        "id": "y_J3g0HbDNsY"
      }
    },
    {
      "cell_type": "code",
      "source": [
        "A = np.array([[1, 1], [0, 1]])\n",
        "B = np.array([[2, 0], [3, 4]])\n",
        "\n",
        "print(A * B, \"\\n\")       # Produto elemento a elemento\n",
        "print(A @ B, \"\\n\")       # Produto matricial\n",
        "print(A.dot(B), \"\\n\")    # Produto matricial"
      ],
      "metadata": {
        "id": "IWc_-piADswn",
        "colab": {
          "base_uri": "https://localhost:8080/"
        },
        "outputId": "f194e8ee-7948-4655-f42b-b80cfa79e2af"
      },
      "execution_count": null,
      "outputs": [
        {
          "output_type": "stream",
          "name": "stdout",
          "text": [
            "[[2 0]\n",
            " [0 4]] \n",
            "\n",
            "[[5 4]\n",
            " [3 4]] \n",
            "\n",
            "[[5 4]\n",
            " [3 4]] \n",
            "\n"
          ]
        }
      ]
    },
    {
      "cell_type": "markdown",
      "source": [
        "Algumas operações como `+=` e `*=` modifica uma matriz existente ao invés de criar uma nova."
      ],
      "metadata": {
        "id": "WwFNFARyDtBH"
      }
    },
    {
      "cell_type": "code",
      "source": [
        "A = np.array([[1, 1], [0, 1]])\n",
        "B = np.array([[2, 0], [3, 4]])\n",
        "\n",
        "A *= 3\n",
        "print(A, \"\\n\")\n",
        "\n",
        "B += A\n",
        "print(B, \"\\n\")\n"
      ],
      "metadata": {
        "id": "vJSfhI3FEZQ4",
        "colab": {
          "base_uri": "https://localhost:8080/"
        },
        "outputId": "45fcb903-0f0a-478e-a61a-ea5202e7787b"
      },
      "execution_count": null,
      "outputs": [
        {
          "output_type": "stream",
          "name": "stdout",
          "text": [
            "[[3 3]\n",
            " [0 3]] \n",
            "\n",
            "[[5 3]\n",
            " [3 7]] \n",
            "\n"
          ]
        }
      ]
    },
    {
      "cell_type": "markdown",
      "source": [
        "Muitas operações são implementadas como métodos da classe `ndarray`."
      ],
      "metadata": {
        "id": "_7GmMiSuFTln"
      }
    },
    {
      "cell_type": "code",
      "source": [
        "A = np.array([[1, 1], [0, 1]])\n",
        "print(A)\n",
        "print(\"\\n\")\n",
        "print(A.sum())    # Exibe a soma dos elementos.\n",
        "print(A.min())    # Exibe o menor elemento.\n",
        "print(A.max())    # Exibe o maior elemento.\n",
        "print(A.mean())   # Exibe a média dos elementos.\n",
        "print(A.std())    # Exibe o desvio padrão dos elementos."
      ],
      "metadata": {
        "id": "_UElF5P4GBIB",
        "colab": {
          "base_uri": "https://localhost:8080/"
        },
        "outputId": "c125800b-afd1-4867-e63a-a52b2e9060bf"
      },
      "execution_count": null,
      "outputs": [
        {
          "output_type": "stream",
          "name": "stdout",
          "text": [
            "[[1 1]\n",
            " [0 1]]\n",
            "\n",
            "\n",
            "3\n",
            "0\n",
            "1\n",
            "0.75\n",
            "0.4330127018922193\n"
          ]
        }
      ]
    },
    {
      "cell_type": "markdown",
      "source": [
        "Por padrão, estas operações tratam a matriz como uma lista de números. No entanto, é possível especificar o eixos para aplicar a operação:"
      ],
      "metadata": {
        "id": "4m5TpZdNGBpf"
      }
    },
    {
      "cell_type": "code",
      "source": [
        "B = np.arange(12).reshape(3, 4)\n",
        "print( B, \"\\n\" )\n",
        "\n",
        "print( B.sum(axis= 0), \"\\n\" )      # soma de cada coluna\n",
        "print( B.min(axis= 1), \"\\n\" )      # mínimo de cada linha\n",
        "print( B.cumsum(axis= 1), \"\\n\" )   # soma cumulativa em cada linha"
      ],
      "metadata": {
        "id": "OcyUXKBeGlhH",
        "colab": {
          "base_uri": "https://localhost:8080/"
        },
        "outputId": "3631e79a-0f51-4b8a-c1c9-63795fd1f93b"
      },
      "execution_count": null,
      "outputs": [
        {
          "output_type": "stream",
          "name": "stdout",
          "text": [
            "[[ 0  1  2  3]\n",
            " [ 4  5  6  7]\n",
            " [ 8  9 10 11]] \n",
            "\n",
            "[12 15 18 21] \n",
            "\n",
            "[0 4 8] \n",
            "\n",
            "[[ 0  1  3  6]\n",
            " [ 4  9 15 22]\n",
            " [ 8 17 27 38]] \n",
            "\n"
          ]
        }
      ]
    },
    {
      "cell_type": "markdown",
      "source": [
        "## Exercício 2\n",
        "\n",
        "* Crie um array com os valores `[10, 20, 30, 40, 50]`.\n",
        "* Subtraia `5` de cada elemento e, em seguida, eleve ao quadrado cada valor."
      ],
      "metadata": {
        "id": "y7zcg8589Eqj"
      }
    },
    {
      "cell_type": "code",
      "source": [
        "# Exercicio 2\n",
        "\n",
        "ex2 = np.arange(10, 60, 10)\n",
        "print(ex2)\n",
        "\n",
        "ex2 -= 5\n",
        "print(ex2)\n",
        "\n",
        "resultado = ex2**2\n",
        "\n",
        "resultado"
      ],
      "metadata": {
        "colab": {
          "base_uri": "https://localhost:8080/"
        },
        "id": "nrjaqItzZCuM",
        "outputId": "abd67ef0-a58b-499d-cd4a-f385c077e235"
      },
      "execution_count": null,
      "outputs": [
        {
          "output_type": "stream",
          "name": "stdout",
          "text": [
            "[10 20 30 40 50]\n",
            "[ 5 15 25 35 45]\n"
          ]
        },
        {
          "output_type": "execute_result",
          "data": {
            "text/plain": [
              "array([  25,  225,  625, 1225, 2025])"
            ]
          },
          "metadata": {},
          "execution_count": 123
        }
      ]
    },
    {
      "cell_type": "code",
      "source": [
        "ex2_1 = np.arange(10, 60, 10)\n",
        "\n",
        "result = (ex2_1-5)**2\n",
        "\n",
        "result"
      ],
      "metadata": {
        "colab": {
          "base_uri": "https://localhost:8080/"
        },
        "id": "da8efNyZaJnD",
        "outputId": "958d41aa-ce9b-4876-8626-c7fcbbb70ef4"
      },
      "execution_count": null,
      "outputs": [
        {
          "output_type": "execute_result",
          "data": {
            "text/plain": [
              "array([  25,  225,  625, 1225, 2025])"
            ]
          },
          "metadata": {},
          "execution_count": 125
        }
      ]
    },
    {
      "cell_type": "markdown",
      "source": [
        "## Funções universais"
      ],
      "metadata": {
        "id": "p6DNmB2Xqmtd"
      }
    },
    {
      "cell_type": "markdown",
      "source": [
        "Funções matemáticas como `sin()`, `cos()` e `exp()`, chamadas de *funções universais* (`ufunc`), operam emento-a-elemento."
      ],
      "metadata": {
        "id": "-hgjmFqTGlwv"
      }
    },
    {
      "cell_type": "code",
      "source": [
        "B = np.arange(3)               # Cria um vetor com 3 elementos.\n",
        "print(np.exp(B))               # Exibe o exponencial de cada elemento de B.\n",
        "print(np.sqrt(B))              # Exibe a raiz quadrada de cada elemento de B.\n",
        "C = np.array([2., -1., 4.])    # Cria um vetor com 3 elementos.\n",
        "print(np.add(B, C))            # Exibe a soma entre os vetores B e C."
      ],
      "metadata": {
        "id": "i0IPkDElHT0n",
        "colab": {
          "base_uri": "https://localhost:8080/"
        },
        "outputId": "9e7f0136-df63-4a0e-ed43-ce1e9b1a43a9"
      },
      "execution_count": null,
      "outputs": [
        {
          "output_type": "stream",
          "name": "stdout",
          "text": [
            "[1.         2.71828183 7.3890561 ]\n",
            "[0.         1.         1.41421356]\n",
            "[2. 0. 6.]\n"
          ]
        }
      ]
    },
    {
      "cell_type": "markdown",
      "source": [
        "## Indexação, fatiamento e iteração"
      ],
      "metadata": {
        "id": "giZJn49PumjF"
      }
    },
    {
      "cell_type": "markdown",
      "source": [
        "Vetores unidimensionais podem ser indexados, fatiados e iterados como se fosse uma lista."
      ],
      "metadata": {
        "id": "nL5ijMJAHUCW"
      }
    },
    {
      "cell_type": "code",
      "source": [
        "a = np.arange(10)**3        # Gera um vetor dos cubos de 0 a 9.\n",
        "print(a, \"\\n\")              # Exibe o vetor 'a'.\n",
        "print(a[2], \"\\n\")           # Exibe o terceiro elemento do vetor 'a'.\n",
        "print(a[2:5], \"\\n\")         # Exibe os elementos nas posições 2, 3, 4.\n",
        "a[:6:2] = 1000              # Substitui os elementos nas posições 0, 2, 4 e 6 por 1000.\n",
        "print(a, \"\\n\")              # Exibe o vetor 'a'.\n",
        "print(a[::-1], \"\\n\")        # Exibe o vetor 'a' invertido.\n",
        "\n",
        "# Exibe as raízes cúbicas dos elementos de 'a'.\n",
        "for i in a:\n",
        "  resultado = i**(1 / 3)\n",
        "  print(f\"{resultado:.3f}\")\n"
      ],
      "metadata": {
        "id": "tquGxVYEHy6H",
        "colab": {
          "base_uri": "https://localhost:8080/"
        },
        "outputId": "b3aa5e46-a573-4385-ebeb-4636080c03a3"
      },
      "execution_count": null,
      "outputs": [
        {
          "output_type": "stream",
          "name": "stdout",
          "text": [
            "[  0   1   8  27  64 125 216 343 512 729] \n",
            "\n",
            "8 \n",
            "\n",
            "[ 8 27 64] \n",
            "\n",
            "[1000    1 1000   27 1000  125  216  343  512  729] \n",
            "\n",
            "[ 729  512  343  216  125 1000   27 1000    1 1000] \n",
            "\n",
            "10.000\n",
            "1.000\n",
            "10.000\n",
            "3.000\n",
            "10.000\n",
            "5.000\n",
            "6.000\n",
            "7.000\n",
            "8.000\n",
            "9.000\n"
          ]
        }
      ]
    },
    {
      "cell_type": "markdown",
      "source": [
        "Matrizes multidimensionais tem `1` índice por eixo:"
      ],
      "metadata": {
        "id": "QLNFLuujHzJO"
      }
    },
    {
      "cell_type": "code",
      "source": [
        "b = np.array([[1, 2, 3], [4, 5, 6], [7, 8, 9]])\n",
        "\n",
        "print( b,\"\\n\")\n",
        "\n",
        "print(\"Primeira linha:\", b[0, :], \"\\n\")\n",
        "\n",
        "print(\"Elemento (2,3):\", b[1, 2], \"\\n\")\n",
        "\n",
        "print(b[:, 1], \"\\n\")      # todas as linhas e 2a coluna\n",
        "\n",
        "print(b[:2, 1], \"\\n\")     # 1a e 2a linhas e 2a coluna.\n",
        "\n",
        "print(b[1:, 2], \"\\n\")     # 2a e 3a linhas e 3a coluna.\n",
        "\n",
        "print(b[1:3, :])          # 2a e 3a linhas e todas as colunas.\n",
        "\n",
        "#b[L, C], sendo L = número ou intervalo de linhas e C = número ou intervalo de colunas"
      ],
      "metadata": {
        "id": "wgx0DjMUIU-5",
        "colab": {
          "base_uri": "https://localhost:8080/"
        },
        "outputId": "32e26196-b337-4677-8e19-a154daf5ff9d"
      },
      "execution_count": null,
      "outputs": [
        {
          "output_type": "stream",
          "name": "stdout",
          "text": [
            "[[1 2 3]\n",
            " [4 5 6]\n",
            " [7 8 9]] \n",
            "\n",
            "Primeira linha: [1 2 3] \n",
            "\n",
            "Elemento (2,3): 6 \n",
            "\n",
            "[2 5 8] \n",
            "\n",
            "[2 5] \n",
            "\n",
            "[6 9] \n",
            "\n",
            "[[4 5 6]\n",
            " [7 8 9]]\n"
          ]
        }
      ]
    },
    {
      "cell_type": "markdown",
      "source": [
        "Se forem passados menos índices que o número de eixos, todos os demais estarão completos:"
      ],
      "metadata": {
        "id": "0AWgAv41IVPf"
      }
    },
    {
      "cell_type": "code",
      "source": [
        "b[-1]     # A última linha. Equivale a b[-1, :]"
      ],
      "metadata": {
        "id": "JLsv4a2DI-Yw",
        "colab": {
          "base_uri": "https://localhost:8080/"
        },
        "outputId": "cf4b5b14-a6a3-4c3f-9866-30c0c2a75e3a"
      },
      "execution_count": null,
      "outputs": [
        {
          "output_type": "execute_result",
          "data": {
            "text/plain": [
              "array([7, 8, 9])"
            ]
          },
          "metadata": {},
          "execution_count": 100
        }
      ]
    },
    {
      "cell_type": "markdown",
      "source": [
        "## Exercício 3\n",
        "\n",
        "* Crie um array 3x3 com valores de 1 a 9.\n",
        "* Extraia a segunda linha e o último elemento da primeira linha.\n"
      ],
      "metadata": {
        "id": "AX-QsGU4HRmm"
      }
    },
    {
      "cell_type": "code",
      "source": [
        "ex3 = np.arange(1,10).reshape(3,3)\n",
        "print(ex3, \"\\n\")\n",
        "\n",
        "#item a\n",
        "\n",
        "ex3a = ex3[1]\n",
        "print(ex3a, \"\\n\")\n",
        "\n",
        "# item b\n",
        "\n",
        "ex3b = ex3[0,-1]\n",
        "print(ex3b)"
      ],
      "metadata": {
        "colab": {
          "base_uri": "https://localhost:8080/"
        },
        "id": "vPEDUZxSdBH3",
        "outputId": "f14b4412-0b17-4060-ba35-22280c3c29bf"
      },
      "execution_count": null,
      "outputs": [
        {
          "output_type": "stream",
          "name": "stdout",
          "text": [
            "[[1 2 3]\n",
            " [4 5 6]\n",
            " [7 8 9]] \n",
            "\n",
            "[4 5 6] \n",
            "\n",
            "3\n"
          ]
        }
      ]
    },
    {
      "cell_type": "markdown",
      "source": [
        "## Empilhamento e Desmembramento"
      ],
      "metadata": {
        "id": "A3m2Ce1b32HW"
      }
    },
    {
      "cell_type": "markdown",
      "source": [
        "Várias matrizes podem ser empilhadas em diferentes eixos:"
      ],
      "metadata": {
        "id": "xiogCceYNAZG"
      }
    },
    {
      "cell_type": "code",
      "source": [
        "a = np.zeros((3,3))\n",
        "b = np.ones((3,3))\n",
        "\n",
        "print(a, \"\\n\")                   # Exibe a matriz 'a'.\n",
        "print(b, \"\\n\")                   # Exibe a matriz 'b'.\n",
        "\n",
        "print(np.vstack((a, b)), \"\\n\")   # Empilha 'a' e 'b' na vertical.\n",
        "print(np.hstack((a, b)), \"\\n\")   # Empilha 'a' e 'b' na horizontal."
      ],
      "metadata": {
        "id": "z_mZqlj3NMLO",
        "colab": {
          "base_uri": "https://localhost:8080/"
        },
        "outputId": "5f0ec0ee-cb5a-48d1-fd24-267cc56d0bd8"
      },
      "execution_count": null,
      "outputs": [
        {
          "output_type": "stream",
          "name": "stdout",
          "text": [
            "[[0. 0. 0.]\n",
            " [0. 0. 0.]\n",
            " [0. 0. 0.]] \n",
            "\n",
            "[[1. 1. 1.]\n",
            " [1. 1. 1.]\n",
            " [1. 1. 1.]] \n",
            "\n",
            "[[0. 0. 0.]\n",
            " [0. 0. 0.]\n",
            " [0. 0. 0.]\n",
            " [1. 1. 1.]\n",
            " [1. 1. 1.]\n",
            " [1. 1. 1.]] \n",
            "\n",
            "[[0. 0. 0. 1. 1. 1.]\n",
            " [0. 0. 0. 1. 1. 1.]\n",
            " [0. 0. 0. 1. 1. 1.]] \n",
            "\n"
          ]
        }
      ]
    },
    {
      "cell_type": "markdown",
      "source": [
        "`hsplit()` permite desmembrar no eixo horizontal:"
      ],
      "metadata": {
        "id": "zY-wcIPoPniI"
      }
    },
    {
      "cell_type": "code",
      "source": [
        "a = np.arange(18).reshape(3, 6)\n",
        "print(a, \"\\n\")\n",
        "\n",
        "# Desmembra 'a' por colunas em 3 partes iguais\n",
        "parte1, parte2, parte3 = np.hsplit( a, 3)\n",
        "print(\"Parte 1:\\n\", parte1)\n",
        "print(\"Parte 2:\\n\", parte2)\n",
        "print(\"Parte 3:\\n\", parte3)\n",
        "\n",
        "\n",
        "# Dividindo após a 2ª e a 3ª colunas\n",
        "print(\"\\n\")\n",
        "parte1, parte2, parte3 = np.hsplit(a, [1, 4])\n",
        "\n",
        "print(\"Parte 1:\\n\", parte1)\n",
        "print(\"Parte 2:\\n\", parte2)\n",
        "print(\"Parte 3:\\n\", parte3)"
      ],
      "metadata": {
        "id": "kTPHDOAIPuAf",
        "colab": {
          "base_uri": "https://localhost:8080/"
        },
        "outputId": "107888de-e875-47de-9196-ff9f3677ef66"
      },
      "execution_count": null,
      "outputs": [
        {
          "output_type": "stream",
          "name": "stdout",
          "text": [
            "[[ 0  1  2  3  4  5]\n",
            " [ 6  7  8  9 10 11]\n",
            " [12 13 14 15 16 17]] \n",
            "\n",
            "Parte 1:\n",
            " [[ 0  1]\n",
            " [ 6  7]\n",
            " [12 13]]\n",
            "Parte 2:\n",
            " [[ 2  3]\n",
            " [ 8  9]\n",
            " [14 15]]\n",
            "Parte 3:\n",
            " [[ 4  5]\n",
            " [10 11]\n",
            " [16 17]]\n",
            "\n",
            "\n",
            "Parte 1:\n",
            " [[ 0]\n",
            " [ 6]\n",
            " [12]]\n",
            "Parte 2:\n",
            " [[ 1  2  3]\n",
            " [ 7  8  9]\n",
            " [13 14 15]]\n",
            "Parte 3:\n",
            " [[ 4  5]\n",
            " [10 11]\n",
            " [16 17]]\n"
          ]
        }
      ]
    },
    {
      "cell_type": "markdown",
      "source": [
        "`vsplit()` desmembra na vertical e `array_split()` permite escolher o eixo."
      ],
      "metadata": {
        "id": "lHJ5S7X-PuMf"
      }
    },
    {
      "cell_type": "markdown",
      "source": [
        "## Exercício 4\n",
        "\n",
        "1. Crie dois arrays 1D, `a` e `b`, com valores de 1 a 5 e de 6 a 10, respectivamente.\n",
        "1. Empilhe `a` e `b` verticalmente para formar um array 2D.\n",
        "1. Em seguida, empilhe `a` e `b` horizontalmente para formar um array 1x10.\n",
        "\n",
        "Dica: Use np.vstack() para empilhamento vertical e np.hstack() para empilhamento horizontal."
      ],
      "metadata": {
        "id": "51J12pDOF2tT"
      }
    },
    {
      "cell_type": "code",
      "source": [
        "m1D = np.arange(1,6)\n",
        "b = np.arange(6,11)"
      ],
      "metadata": {
        "id": "FMrUmvHmfUmP"
      },
      "execution_count": null,
      "outputs": []
    },
    {
      "cell_type": "code",
      "source": [
        "# vstack\n",
        "\n",
        "v = np.vstack((m1D, b))\n",
        "v\n",
        "\n"
      ],
      "metadata": {
        "colab": {
          "base_uri": "https://localhost:8080/"
        },
        "id": "QuXB-rGufj0B",
        "outputId": "4967ef2d-048a-44cc-f511-77ec64fec1bd"
      },
      "execution_count": null,
      "outputs": [
        {
          "output_type": "execute_result",
          "data": {
            "text/plain": [
              "array([[ 1,  2,  3,  4,  5],\n",
              "       [ 6,  7,  8,  9, 10]])"
            ]
          },
          "metadata": {},
          "execution_count": 140
        }
      ]
    },
    {
      "cell_type": "code",
      "source": [
        "# hstack\n",
        "\n",
        "h = np.hstack((m1D, b))\n",
        "h"
      ],
      "metadata": {
        "colab": {
          "base_uri": "https://localhost:8080/"
        },
        "id": "EGKMMtrbfjoR",
        "outputId": "d11af5c1-0b21-4742-8b92-450a0187341f"
      },
      "execution_count": null,
      "outputs": [
        {
          "output_type": "execute_result",
          "data": {
            "text/plain": [
              "array([ 1,  2,  3,  4,  5,  6,  7,  8,  9, 10])"
            ]
          },
          "metadata": {},
          "execution_count": 141
        }
      ]
    },
    {
      "cell_type": "markdown",
      "source": [
        "## Cópias e visualizações"
      ],
      "metadata": {
        "id": "HXMKSvne4hG5"
      }
    },
    {
      "cell_type": "markdown",
      "source": [
        "Algumas operações copiam a matriz outras não. Atribuições não fazem cópias de objetos ou dados.\n",
        "\n",
        "Veja os exemplos."
      ],
      "metadata": {
        "id": "G65uhbIHQNIP"
      }
    },
    {
      "cell_type": "code",
      "source": [
        "import numpy as np\n",
        "\n",
        "A = np.zeros((3,3))\n",
        "\n",
        "B = A          ## atribuição não é cópia\n",
        "\n",
        "A[:,1] = 100   ## note que ao alterar \"A\" a matriz \"B\" também será alterada\n",
        "\n",
        "print(\"A = \")\n",
        "print(A)\n",
        "\n",
        "print(\"\\nB = \")\n",
        "print(B)\n",
        "\n",
        "print(\"\\nA e B são o mesmo objeto?\")\n",
        "print(B is A)\n",
        "\n",
        "print(f\"\\nid(A): {id(A)}, id(B): {id(B)}\") ## A e B possuem o mesmo id"
      ],
      "metadata": {
        "id": "XQmeINJ7tpd_",
        "colab": {
          "base_uri": "https://localhost:8080/"
        },
        "outputId": "3b2bde75-7a93-460c-ab0e-90f202930cd3"
      },
      "execution_count": null,
      "outputs": [
        {
          "output_type": "stream",
          "name": "stdout",
          "text": [
            "A = \n",
            "[[  0. 100.   0.]\n",
            " [  0. 100.   0.]\n",
            " [  0. 100.   0.]]\n",
            "\n",
            "B = \n",
            "[[  0. 100.   0.]\n",
            " [  0. 100.   0.]\n",
            " [  0. 100.   0.]]\n",
            "\n",
            "A e B são o mesmo objeto?\n",
            "True\n",
            "\n",
            "id(A): 137883327360016, id(B): 137883327360016\n"
          ]
        }
      ]
    },
    {
      "cell_type": "code",
      "source": [
        "## No entanto, pode-se gerar uma cópia\n",
        "import numpy as np\n",
        "\n",
        "A = np.zeros((3,3))\n",
        "\n",
        "B = A.copy()    ## atribuição não é cópia\n",
        "\n",
        "A[:,1] = 100    ## note que ao alterar \"A\", a matriz \"B\" ainda será a mesma.\n",
        "\n",
        "print(\"A = \")\n",
        "print(A)\n",
        "\n",
        "print(\"\\nB = \")\n",
        "print(B)\n",
        "\n",
        "print(\"\\nA e B são o mesmo objeto?\")\n",
        "print(B is A)\n",
        "\n",
        "\n",
        "print(f\"\\nid(A): {id(A)}, id(B): {id(B)}\") ## A e B possuem id's diferentes"
      ],
      "metadata": {
        "id": "cjpdbROrxB2c",
        "colab": {
          "base_uri": "https://localhost:8080/"
        },
        "outputId": "cec44ca2-25ea-4420-bfb9-e5e3746f6098"
      },
      "execution_count": null,
      "outputs": [
        {
          "output_type": "stream",
          "name": "stdout",
          "text": [
            "A = \n",
            "[[  0. 100.   0.]\n",
            " [  0. 100.   0.]\n",
            " [  0. 100.   0.]]\n",
            "\n",
            "B = \n",
            "[[0. 0. 0.]\n",
            " [0. 0. 0.]\n",
            " [0. 0. 0.]]\n",
            "\n",
            "A e B são o mesmo objeto?\n",
            "False\n",
            "\n",
            "id(A): 137883327360880, id(B): 137883327352720\n"
          ]
        }
      ]
    },
    {
      "cell_type": "markdown",
      "source": [
        "O Python passa objetos mutáveis por referência, assim, chamada de função não faz cópia."
      ],
      "metadata": {
        "id": "6UiNZTlAQaLe"
      }
    },
    {
      "cell_type": "code",
      "source": [
        "def f(x):\n",
        "  return id(x)\n",
        "\n",
        "a = np.zeros((3,3))\n",
        "\n",
        "print(id(a))    # ID é o identificador único do objeto\n",
        "print(f(a))     # mesmo ID\n"
      ],
      "metadata": {
        "id": "OsJSuMcQRLBn",
        "colab": {
          "base_uri": "https://localhost:8080/"
        },
        "outputId": "e89c2c90-fff9-4bda-fd9e-2aeae29240e8"
      },
      "execution_count": null,
      "outputs": [
        {
          "output_type": "stream",
          "name": "stdout",
          "text": [
            "137883327350608\n",
            "137883327350608\n"
          ]
        }
      ]
    },
    {
      "cell_type": "markdown",
      "source": [
        "Ou seja, se o objeto for alterado dentro da função, então ele será alterado também fora da função."
      ],
      "metadata": {
        "id": "1O8AzwXyzxGf"
      }
    },
    {
      "cell_type": "code",
      "source": [
        "def f(x):\n",
        "  x[:, 1] = 100\n",
        "  return;\n",
        "\n",
        "A = np.zeros((3,3))\n",
        "f(A)\n",
        "print(A)     # \"A\" foi modificada dentro da função"
      ],
      "metadata": {
        "id": "HCvyaj0Kz9Bg",
        "colab": {
          "base_uri": "https://localhost:8080/"
        },
        "outputId": "d7c2c450-2299-4b1b-8111-142f5e994e96"
      },
      "execution_count": null,
      "outputs": [
        {
          "output_type": "stream",
          "name": "stdout",
          "text": [
            "[[  0. 100.   0.]\n",
            " [  0. 100.   0.]\n",
            " [  0. 100.   0.]]\n"
          ]
        }
      ]
    },
    {
      "cell_type": "markdown",
      "source": [
        "Para evitar este possível problema, pode-se passar um cópia."
      ],
      "metadata": {
        "id": "ccn2kgxK0uoA"
      }
    },
    {
      "cell_type": "code",
      "source": [
        "def f(x):\n",
        "  x[:, 1] = 100\n",
        "  return;\n",
        "\n",
        "A = np.zeros((3,3))\n",
        "\n",
        "f( A.copy() )  # A cópia de \"A\" é passada para a função\n",
        "\n",
        "print(A)       # A matriz \"A\" continua a mesma"
      ],
      "metadata": {
        "id": "REXGwGo_00OR",
        "colab": {
          "base_uri": "https://localhost:8080/"
        },
        "outputId": "39330960-9335-4378-b739-bfc46ab700ff"
      },
      "execution_count": null,
      "outputs": [
        {
          "output_type": "stream",
          "name": "stdout",
          "text": [
            "[[0. 0. 0.]\n",
            " [0. 0. 0.]\n",
            " [0. 0. 0.]]\n"
          ]
        }
      ]
    },
    {
      "cell_type": "markdown",
      "source": [
        "Diferentes matrizes podem compartilhar o mesmo dado. O método `view` cria uma visualização da matriz."
      ],
      "metadata": {
        "id": "ZKnIy3FMRLM2"
      }
    },
    {
      "cell_type": "code",
      "source": [
        "import numpy as np\n",
        "\n",
        "a = np.arange(12).reshape(3, 4)\n",
        "print(a, \"\\n\")\n",
        "\n",
        "c = a.view()\n",
        "\n",
        "print(c is a, \"\\n\")      ## \"c\" é uma visualização de \"a\"\n",
        "\n",
        "c = c.reshape((2, 6))    ## Não muda a dimensão de 'a'\n",
        "print(a.shape, \"\\n\")\n",
        "\n",
        "c[0, 4] = 100            ## Muda os dados em 'a'\n",
        "print(a)"
      ],
      "metadata": {
        "id": "V5J0F-A4RpgO",
        "colab": {
          "base_uri": "https://localhost:8080/"
        },
        "outputId": "1df2d949-4699-46a5-ca61-566f492f54b5"
      },
      "execution_count": null,
      "outputs": [
        {
          "output_type": "stream",
          "name": "stdout",
          "text": [
            "[[ 0  1  2  3]\n",
            " [ 4  5  6  7]\n",
            " [ 8  9 10 11]] \n",
            "\n",
            "False \n",
            "\n",
            "(3, 4) \n",
            "\n",
            "[[  0   1   2   3]\n",
            " [100   5   6   7]\n",
            " [  8   9  10  11]]\n"
          ]
        }
      ]
    },
    {
      "cell_type": "markdown",
      "source": [
        "Fatiar uma matriz retorna uma visualização:"
      ],
      "metadata": {
        "id": "HI9rtZm3RptG"
      }
    },
    {
      "cell_type": "code",
      "source": [
        "import numpy as np\n",
        "\n",
        "a = np.arange(12).reshape(3, 4)\n",
        "\n",
        "print(\"a:\\n\",a,\"\\n\")\n",
        "\n",
        "s = a[:, 1:3]          # \"s\" é uma visualização de uma parte de \"a\".\n",
        "print(\"s:\\n\",s,\"\\n\")\n",
        "\n",
        "print(s is a, \"\\n\")\n",
        "\n",
        "s[:] = 10              # s[:] é uma visualização de 's'.\n",
        "print(\"s:\\n\",s,\"\\n\")\n",
        "\n",
        "print(\"a:\\n\",a,\"\\n\")   # ao alterar \"s\", o objeto \"a\" também foi alterado."
      ],
      "metadata": {
        "id": "Jt9kZGJBSMno",
        "colab": {
          "base_uri": "https://localhost:8080/"
        },
        "outputId": "b149fe98-c53d-4075-e2ed-8b0b419c6895"
      },
      "execution_count": null,
      "outputs": [
        {
          "output_type": "stream",
          "name": "stdout",
          "text": [
            "a:\n",
            " [[ 0  1  2  3]\n",
            " [ 4  5  6  7]\n",
            " [ 8  9 10 11]] \n",
            "\n",
            "s:\n",
            " [[ 1  2]\n",
            " [ 5  6]\n",
            " [ 9 10]] \n",
            "\n",
            "False \n",
            "\n",
            "s:\n",
            " [[10 10]\n",
            " [10 10]\n",
            " [10 10]] \n",
            "\n",
            "a:\n",
            " [[ 0 10 10  3]\n",
            " [ 4 10 10  7]\n",
            " [ 8 10 10 11]] \n",
            "\n"
          ]
        }
      ]
    },
    {
      "cell_type": "markdown",
      "source": [
        "## Exercício 5\n",
        "\n",
        "1. Crie uma matriz A de tamanho 4x3 de zeros.\n",
        "1. Faça `B=A` e `C=A.copy()`.\n",
        "1. Verifique se `B` e `C` são os mesmos objetos utilizando `is`.\n",
        "1. Mostre os id's de `A`, `B` e `C`.\n",
        "1. Altere um elemento de `A` e veja o que acontece com `B` e com `C`."
      ],
      "metadata": {
        "id": "V_lm3i7TG9nn"
      }
    },
    {
      "cell_type": "code",
      "source": [
        "A = np.zeros((4,3))\n",
        "\n",
        "B = A\n",
        "C = A.copy()\n",
        "\n",
        "print(A, \"\\n\")\n",
        "\n",
        "print(f\"B e C são iguais: {B is C}\", \"\\n\")\n",
        "\n",
        "print(f\"id(A): {id(A)} , id(B): {id(B)}, id(C): {id(C)}\")\n"
      ],
      "metadata": {
        "colab": {
          "base_uri": "https://localhost:8080/"
        },
        "id": "Ru8UNHRgggwv",
        "outputId": "59057c96-b683-47e3-eca4-abfe38f60a3f"
      },
      "execution_count": null,
      "outputs": [
        {
          "output_type": "stream",
          "name": "stdout",
          "text": [
            "[[0. 0. 0.]\n",
            " [0. 0. 0.]\n",
            " [0. 0. 0.]\n",
            " [0. 0. 0.]] \n",
            "\n",
            "B e C são iguais: False \n",
            "\n",
            "id(A): 137882427394928 , id(B): 137882427394928, id(C): 137882427400400\n"
          ]
        }
      ]
    },
    {
      "cell_type": "code",
      "source": [
        "A[: 1] = 100\n",
        "\n",
        "print(A, \"\\n\")\n",
        "\n",
        "print(f\"B e C são iguais: {B is C}\", \"\\n\")\n",
        "\n",
        "print(f\"id(A): {id(A)} , id(B): {id(B)}, id(C): {id(C)}\")"
      ],
      "metadata": {
        "colab": {
          "base_uri": "https://localhost:8080/"
        },
        "id": "yqj0LC8phbDS",
        "outputId": "e4ad046d-7be5-48e9-bbf2-6b821aa1c0d9"
      },
      "execution_count": null,
      "outputs": [
        {
          "output_type": "stream",
          "name": "stdout",
          "text": [
            "[[100. 100. 100.]\n",
            " [  0.   0.   0.]\n",
            " [  0.   0.   0.]\n",
            " [  0.   0.   0.]] \n",
            "\n",
            "B e C são iguais: False \n",
            "\n",
            "id(A): 137882427105104 , id(B): 137882427105104, id(C): 137882427104240\n"
          ]
        }
      ]
    },
    {
      "cell_type": "code",
      "source": [],
      "metadata": {
        "id": "cVzykhxchzfX"
      },
      "execution_count": null,
      "outputs": []
    }
  ]
}